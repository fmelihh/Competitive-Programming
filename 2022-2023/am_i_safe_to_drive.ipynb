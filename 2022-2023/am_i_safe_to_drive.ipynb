{
 "cells": [
  {
   "cell_type": "code",
   "execution_count": 1,
   "id": "3a89e2cd-e8fb-418c-ad67-7506783062f5",
   "metadata": {},
   "outputs": [],
   "source": [
    "# https://www.codewars.com/kata/58ce88427e6c3f41c2000087/train/python"
   ]
  },
  {
   "cell_type": "code",
   "execution_count": 46,
   "id": "10f9fcdc-5458-4f21-8d87-38f830799d71",
   "metadata": {},
   "outputs": [],
   "source": [
    "import datetime \n",
    "\n",
    "def drive(drinks, finished, drive_time):\n",
    "    units = calculate_units(drinks=drinks)\n",
    "    FORMAT = \"%H:%M\"\n",
    "    \n",
    "    finish_time = datetime.datetime.strptime(finished, FORMAT)\n",
    "    drive_time = datetime.datetime.strptime(drive_time, FORMAT)\n",
    "    \n",
    "    diff = (drive_time - finish_time)\n",
    "    hours = diff.seconds / (60*60)\n",
    "    \n",
    "    return [units, units < hours]\n",
    "    \n",
    "\n",
    "def calculate_units(drinks):\n",
    "    units = 0\n",
    "    for strength, volume in drinks:\n",
    "        units += strength * volume / 1000\n",
    "    \n",
    "    return round(units, 2)\n"
   ]
  },
  {
   "cell_type": "code",
   "execution_count": 47,
   "id": "2cf7e058-9a3e-4ec6-9338-bcc14122e58e",
   "metadata": {},
   "outputs": [
    {
     "data": {
      "text/plain": [
       "[5.05, True]"
      ]
     },
     "execution_count": 47,
     "metadata": {},
     "output_type": "execute_result"
    }
   ],
   "source": [
    "alcohol = [[5.2,568],[12.0,175]]\n",
    "drive(alcohol, \"16:00\", \"23:00\")"
   ]
  },
  {
   "cell_type": "code",
   "execution_count": 48,
   "id": "96cdb22c-1746-4f4e-aa12-7a2fb7d7eb0d",
   "metadata": {},
   "outputs": [
    {
     "data": {
      "text/plain": [
       "[15.16, False]"
      ]
     },
     "execution_count": 48,
     "metadata": {},
     "output_type": "execute_result"
    }
   ],
   "source": [
    "alcohol = [[5.2,568],[5.2,568],[5.2,568],[12.0,175],[12.0,175],[12.0,175]]\n",
    "drive(alcohol, \"23:00\", \"08:15\")"
   ]
  },
  {
   "cell_type": "code",
   "execution_count": 50,
   "id": "9c278e9f-514f-4a9b-b989-baf3692aa887",
   "metadata": {},
   "outputs": [
    {
     "data": {
      "text/plain": [
       "[8.8, False]"
      ]
     },
     "execution_count": 50,
     "metadata": {},
     "output_type": "execute_result"
    }
   ],
   "source": [
    "alcohol = [[15.5,568]]\n",
    "drive(alcohol, \"23:00\", \"06:45\")"
   ]
  },
  {
   "cell_type": "code",
   "execution_count": null,
   "id": "b651cd29-e541-43f8-8e33-23a644216eda",
   "metadata": {},
   "outputs": [],
   "source": []
  },
  {
   "cell_type": "code",
   "execution_count": 8,
   "id": "397b0a0b-90e7-425a-90f9-8d19e763140d",
   "metadata": {},
   "outputs": [
    {
     "data": {
      "text/plain": [
       "5.05"
      ]
     },
     "execution_count": 8,
     "metadata": {},
     "output_type": "execute_result"
    }
   ],
   "source": [
    "calculate_units(drinks=([5.2,568],[12.0,175]))"
   ]
  },
  {
   "cell_type": "code",
   "execution_count": 9,
   "id": "aafcd6b2-4246-4c29-9ee5-884b385601d1",
   "metadata": {},
   "outputs": [],
   "source": [
    "import datetime"
   ]
  },
  {
   "cell_type": "code",
   "execution_count": 35,
   "id": "8cc6cbec-c1a4-4561-a57c-dd6d01350a40",
   "metadata": {},
   "outputs": [
    {
     "data": {
      "text/plain": [
       "15.0"
      ]
     },
     "execution_count": 35,
     "metadata": {},
     "output_type": "execute_result"
    }
   ],
   "source": [
    "time1 = datetime.datetime.strptime(\"12:00\", \"%H:%M\")\n",
    "time2 = datetime.datetime.strptime(\"3:00\", \"%H:%M\")\n",
    "\n",
    "diff = (time2 - time1)\n",
    "float(diff.seconds / (60*60))\n",
    "\n"
   ]
  },
  {
   "cell_type": "code",
   "execution_count": null,
   "id": "5cdf32a0-d840-4236-9211-c57c32d85183",
   "metadata": {},
   "outputs": [],
   "source": []
  }
 ],
 "metadata": {
  "kernelspec": {
   "display_name": "Python 3 (ipykernel)",
   "language": "python",
   "name": "python3"
  },
  "language_info": {
   "codemirror_mode": {
    "name": "ipython",
    "version": 3
   },
   "file_extension": ".py",
   "mimetype": "text/x-python",
   "name": "python",
   "nbconvert_exporter": "python",
   "pygments_lexer": "ipython3",
   "version": "3.8.10"
  }
 },
 "nbformat": 4,
 "nbformat_minor": 5
}
