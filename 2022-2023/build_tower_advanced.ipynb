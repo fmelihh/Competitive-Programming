{
 "cells": [
  {
   "cell_type": "code",
   "execution_count": null,
   "id": "868f2f0d-21a4-4dc7-93dd-6028939a5369",
   "metadata": {},
   "outputs": [],
   "source": [
    "# https://www.codewars.com/kata/57675f3dedc6f728ee000256"
   ]
  },
  {
   "cell_type": "code",
   "execution_count": 48,
   "id": "d759597e-2138-4605-8b87-fba212a60d7d",
   "metadata": {},
   "outputs": [],
   "source": [
    "def tower_builder(n_floors, block_size):\n",
    "    w, h = block_size\n",
    "    unit_space_count = (w * (2*n_floors - 2)) // 2\n",
    "\n",
    "    \n",
    "    tower = []\n",
    "    for floor in range(1, n_floors + 1):\n",
    "        line_width = w * (2*(floor) - 1)\n",
    "        space = ' ' * unit_space_count\n",
    "        tower_part = [f\"{space}{line_width*'*'}{space}\"] * h\n",
    "        tower.extend(tower_part)\n",
    "        unit_space_count = unit_space_count - w\n",
    "        \n",
    "    \n",
    "    return '\\n'.join(tower)\n",
    "        \n",
    "        \n"
   ]
  },
  {
   "cell_type": "code",
   "execution_count": 49,
   "id": "f091d108-2b9e-4440-b93f-0ef000c8cfdc",
   "metadata": {},
   "outputs": [
    {
     "name": "stdout",
     "output_type": "stream",
     "text": [
      "10\n",
      "8\n",
      "6\n",
      "4\n",
      "2\n",
      "0\n",
      "          **          \n",
      "        ******        \n",
      "      **********      \n",
      "    **************    \n",
      "  ******************  \n",
      "**********************\n"
     ]
    }
   ],
   "source": [
    "print(tower_builder(6, (2, 1)))"
   ]
  },
  {
   "cell_type": "code",
   "execution_count": 50,
   "id": "e99a7b28-f69b-45d8-835a-fbd3a2d4aa68",
   "metadata": {},
   "outputs": [
    {
     "name": "stdout",
     "output_type": "stream",
     "text": [
      "8\n",
      "4\n",
      "0\n",
      "        ****        \n",
      "        ****        \n",
      "    ************    \n",
      "    ************    \n",
      "********************\n",
      "********************\n"
     ]
    }
   ],
   "source": [
    "print(tower_builder(3, (4, 2)))"
   ]
  }
 ],
 "metadata": {
  "kernelspec": {
   "display_name": "Python 3 (ipykernel)",
   "language": "python",
   "name": "python3"
  },
  "language_info": {
   "codemirror_mode": {
    "name": "ipython",
    "version": 3
   },
   "file_extension": ".py",
   "mimetype": "text/x-python",
   "name": "python",
   "nbconvert_exporter": "python",
   "pygments_lexer": "ipython3",
   "version": "3.8.10"
  }
 },
 "nbformat": 4,
 "nbformat_minor": 5
}
