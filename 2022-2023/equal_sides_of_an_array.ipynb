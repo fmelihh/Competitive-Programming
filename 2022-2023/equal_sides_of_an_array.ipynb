{
 "cells": [
  {
   "cell_type": "code",
   "execution_count": 1,
   "id": "93d49e7a-72bd-4edf-87aa-17277b9f9a82",
   "metadata": {},
   "outputs": [],
   "source": [
    "# https://www.codewars.com/kata/5679aa472b8f57fb8c000047/train/python"
   ]
  },
  {
   "cell_type": "code",
   "execution_count": null,
   "id": "5133ffe3-bba6-49c5-b32e-edcaae9ce0a4",
   "metadata": {},
   "outputs": [],
   "source": [
    "def find_even_index(arr):\n",
    "    for i, num in enumerate(arr):\n",
    "        left = 0\n",
    "        right = 0\n",
    "        \n",
    "        if i > 0:\n",
    "            left = sum(arr[0: i])\n",
    "        \n",
    "        if i < len(arr) - 1:\n",
    "            right = sum(arr[i+1:])\n",
    "        \n",
    "        if left == right:\n",
    "            return i\n",
    "    \n",
    "    return -1"
   ]
  }
 ],
 "metadata": {
  "kernelspec": {
   "display_name": "Python 3 (ipykernel)",
   "language": "python",
   "name": "python3"
  },
  "language_info": {
   "codemirror_mode": {
    "name": "ipython",
    "version": 3
   },
   "file_extension": ".py",
   "mimetype": "text/x-python",
   "name": "python",
   "nbconvert_exporter": "python",
   "pygments_lexer": "ipython3",
   "version": "3.8.10"
  }
 },
 "nbformat": 4,
 "nbformat_minor": 5
}
