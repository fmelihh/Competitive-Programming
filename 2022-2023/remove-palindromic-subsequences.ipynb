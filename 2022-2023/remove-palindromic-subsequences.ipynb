{
 "cells": [
  {
   "cell_type": "code",
   "execution_count": 38,
   "id": "2cc945c8-54d7-4d08-a10f-bbcdccf03860",
   "metadata": {},
   "outputs": [],
   "source": [
    "class Solution:\n",
    "    def removePalindromeSub(self, s: str) -> int:\n",
    "        length = len(s)\n",
    "        if length == 0:\n",
    "            return 0\n",
    "        elif s[:length//2] == s[-(length // 2):][::-1]:\n",
    "            return 1\n",
    "        else:\n",
    "            return 2\n",
    "        \n",
    "    "
   ]
  },
  {
   "cell_type": "code",
   "execution_count": 39,
   "id": "0299016d-8c68-4718-b465-c89db0b20fd7",
   "metadata": {},
   "outputs": [
    {
     "data": {
      "text/plain": [
       "1"
      ]
     },
     "execution_count": 39,
     "metadata": {},
     "output_type": "execute_result"
    }
   ],
   "source": [
    "s = Solution()\n",
    "s.removePalindromeSub(s=\"ababa\")"
   ]
  },
  {
   "cell_type": "code",
   "execution_count": 15,
   "id": "7318c5e0-187a-40f4-9bb3-f1916d3293da",
   "metadata": {},
   "outputs": [],
   "source": [
    "s = \"accaba\""
   ]
  },
  {
   "cell_type": "code",
   "execution_count": 33,
   "id": "0d7a1c34-34b8-441c-975b-909662fa9632",
   "metadata": {},
   "outputs": [
    {
     "data": {
      "text/plain": [
       "2"
      ]
     },
     "execution_count": 33,
     "metadata": {},
     "output_type": "execute_result"
    }
   ],
   "source": [
    "bool(s) + True"
   ]
  },
  {
   "cell_type": "code",
   "execution_count": null,
   "id": "ea6f1a4c-92bc-42d7-ace1-607d73612d16",
   "metadata": {},
   "outputs": [],
   "source": [
    "abb\n",
    "bba"
   ]
  }
 ],
 "metadata": {
  "kernelspec": {
   "display_name": "Python 3 (ipykernel)",
   "language": "python",
   "name": "python3"
  },
  "language_info": {
   "codemirror_mode": {
    "name": "ipython",
    "version": 3
   },
   "file_extension": ".py",
   "mimetype": "text/x-python",
   "name": "python",
   "nbconvert_exporter": "python",
   "pygments_lexer": "ipython3",
   "version": "3.8.10"
  }
 },
 "nbformat": 4,
 "nbformat_minor": 5
}
