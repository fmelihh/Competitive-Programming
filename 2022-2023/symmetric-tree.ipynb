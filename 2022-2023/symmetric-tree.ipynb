{
 "cells": [
  {
   "cell_type": "code",
   "execution_count": 1,
   "metadata": {
    "collapsed": true,
    "ExecuteTime": {
     "end_time": "2023-05-13T18:40:05.980201840Z",
     "start_time": "2023-05-13T18:40:05.974223346Z"
    }
   },
   "outputs": [],
   "source": [
    "import queue\n",
    "from typing import Optional\n",
    "\n",
    "# https://leetcode.com/problems/symmetric-tree\n",
    "\n",
    "# Definition for a binary tree node.\n",
    "class TreeNode:\n",
    "    def __init__(self, val=0, left=None, right=None):\n",
    "        self.val = val\n",
    "        self.left = left\n",
    "        self.right = right\n",
    "\n",
    "# iterative\n",
    "class Solution:\n",
    "    def isSymmetric(self, root: Optional[TreeNode]) -> bool:\n",
    "        if root is None:\n",
    "            return True\n",
    "\n",
    "        node_queue = queue.Queue()\n",
    "        node_queue.put(root.left)\n",
    "        node_queue.put(root.right)\n",
    "\n",
    "        while node_queue.empty() is False:\n",
    "            root1, root2 = node_queue.get(), node_queue.get()\n",
    "\n",
    "            if root1 is None and root2 is None:\n",
    "                continue\n",
    "            elif root1 is None or root2 is None:\n",
    "                return False\n",
    "            elif root1.val != root2.val:\n",
    "                return False\n",
    "\n",
    "            node_queue.put(root1.left)\n",
    "            node_queue.put(root2.right)\n",
    "\n",
    "            node_queue.put(root1.right)\n",
    "            node_queue.put(root2.left)\n",
    "\n",
    "        return True\n",
    "\n",
    "\n",
    "\n",
    "# recursive\n",
    "class Solution2:\n",
    "    def isSymmetric(self, root: Optional[TreeNode]) -> bool:\n",
    "        if root is None:\n",
    "            return True\n",
    "\n",
    "        return self.isMirror(root.left, root.right)\n",
    "\n",
    "    def isMirror(self, root1: Optional[TreeNode], root2: Optional[TreeNode]):\n",
    "        if root1 is None and root2 is None:\n",
    "            return True\n",
    "        elif root1 is None or root2 is None:\n",
    "            return False\n",
    "\n",
    "        return (\n",
    "                root1.val == root2.val and\n",
    "                self.isMirror(root1.left, root2.right) and\n",
    "                self.isMirror(root1.right, root2.left)\n",
    "        )\n"
   ]
  }
 ],
 "metadata": {
  "kernelspec": {
   "display_name": "Python 3",
   "language": "python",
   "name": "python3"
  },
  "language_info": {
   "codemirror_mode": {
    "name": "ipython",
    "version": 2
   },
   "file_extension": ".py",
   "mimetype": "text/x-python",
   "name": "python",
   "nbconvert_exporter": "python",
   "pygments_lexer": "ipython2",
   "version": "2.7.6"
  }
 },
 "nbformat": 4,
 "nbformat_minor": 0
}
