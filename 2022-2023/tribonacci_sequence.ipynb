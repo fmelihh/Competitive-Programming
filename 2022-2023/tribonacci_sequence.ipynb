{
 "cells": [
  {
   "cell_type": "code",
   "execution_count": null,
   "id": "3c2474b9-00a0-45c2-8d98-288db7a84145",
   "metadata": {},
   "outputs": [],
   "source": [
    "# https://www.codewars.com/kata/556deca17c58da83c00002db/train/python"
   ]
  },
  {
   "cell_type": "code",
   "execution_count": 7,
   "id": "895a58b8-7a76-47dc-a6e7-fde9185d62d5",
   "metadata": {},
   "outputs": [],
   "source": [
    "def tribonacci(signature, n):\n",
    "    if n == 0:\n",
    "        return []\n",
    "    \n",
    "    fibonacci_numbers = list()\n",
    "    fibonacci_numbers.extend(signature)\n",
    "    \n",
    "    i = 0\n",
    "    while len(fibonacci_numbers) < n:\n",
    "        second_num = sum(fibonacci_numbers[i: i + 3])\n",
    "        fibonacci_numbers.append(second_num)\n",
    "        i+=1\n",
    "    \n",
    "    return fibonacci_numbers[:n]\n",
    "        \n",
    "        "
   ]
  },
  {
   "cell_type": "code",
   "execution_count": 9,
   "id": "3e095a9a-3601-4a84-a2b5-bcf6d690e99d",
   "metadata": {},
   "outputs": [],
   "source": []
  },
  {
   "cell_type": "code",
   "execution_count": null,
   "id": "5b1593bf-a76a-4b02-8cbe-b4c224cac33e",
   "metadata": {},
   "outputs": [],
   "source": []
  }
 ],
 "metadata": {
  "kernelspec": {
   "display_name": "Python 3 (ipykernel)",
   "language": "python",
   "name": "python3"
  },
  "language_info": {
   "codemirror_mode": {
    "name": "ipython",
    "version": 3
   },
   "file_extension": ".py",
   "mimetype": "text/x-python",
   "name": "python",
   "nbconvert_exporter": "python",
   "pygments_lexer": "ipython3",
   "version": "3.8.10"
  }
 },
 "nbformat": 4,
 "nbformat_minor": 5
}
