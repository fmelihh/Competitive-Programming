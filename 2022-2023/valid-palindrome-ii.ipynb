{
 "cells": [
  {
   "cell_type": "code",
   "execution_count": 11,
   "outputs": [],
   "source": [
    "class Solution:\n",
    "\n",
    "    def is_palindrome(self, text: str):\n",
    "        return text == text[::-1]\n",
    "\n",
    "    def validPalindrome(self, s: str) -> bool:\n",
    "        length = len(s)\n",
    "        for i in range(length // 2):\n",
    "            if s[i] != s[length - (i + 1)]:\n",
    "                condition = (\n",
    "                    self.is_palindrome(text=s[0:i] + s[i+1:])\n",
    "                    or\n",
    "                    self.is_palindrome(text=s[0: length - (i + 1)] + s[length - i:])\n",
    "                )\n",
    "                if condition is True:\n",
    "                    return True\n",
    "                else:\n",
    "                    return False\n",
    "\n",
    "        return True\n"
   ],
   "metadata": {
    "collapsed": false,
    "ExecuteTime": {
     "end_time": "2023-05-08T19:12:09.064832419Z",
     "start_time": "2023-05-08T19:12:09.058874646Z"
    }
   }
  },
  {
   "cell_type": "code",
   "execution_count": 12,
   "outputs": [],
   "source": [
    "solution = Solution()"
   ],
   "metadata": {
    "collapsed": false,
    "ExecuteTime": {
     "end_time": "2023-05-08T19:12:09.445577667Z",
     "start_time": "2023-05-08T19:12:09.441866482Z"
    }
   }
  },
  {
   "cell_type": "code",
   "execution_count": 13,
   "outputs": [
    {
     "data": {
      "text/plain": "True"
     },
     "execution_count": 13,
     "metadata": {},
     "output_type": "execute_result"
    }
   ],
   "source": [
    "solution.validPalindrome(s=\"aba\") # True"
   ],
   "metadata": {
    "collapsed": false,
    "ExecuteTime": {
     "end_time": "2023-05-08T19:12:09.815612355Z",
     "start_time": "2023-05-08T19:12:09.812324332Z"
    }
   }
  },
  {
   "cell_type": "code",
   "execution_count": 14,
   "outputs": [
    {
     "data": {
      "text/plain": "True"
     },
     "execution_count": 14,
     "metadata": {},
     "output_type": "execute_result"
    }
   ],
   "source": [
    "solution.validPalindrome(s=\"abca\") # True"
   ],
   "metadata": {
    "collapsed": false,
    "ExecuteTime": {
     "end_time": "2023-05-08T19:12:10.369641125Z",
     "start_time": "2023-05-08T19:12:10.363577603Z"
    }
   }
  },
  {
   "cell_type": "code",
   "execution_count": 15,
   "outputs": [
    {
     "data": {
      "text/plain": "False"
     },
     "execution_count": 15,
     "metadata": {},
     "output_type": "execute_result"
    }
   ],
   "source": [
    "solution.validPalindrome(s=\"abc\") # False"
   ],
   "metadata": {
    "collapsed": false,
    "ExecuteTime": {
     "end_time": "2023-05-08T19:12:10.823118596Z",
     "start_time": "2023-05-08T19:12:10.816494908Z"
    }
   }
  },
  {
   "cell_type": "code",
   "execution_count": 5,
   "outputs": [
    {
     "data": {
      "text/plain": "'c'"
     },
     "execution_count": 5,
     "metadata": {},
     "output_type": "execute_result"
    }
   ],
   "source": [
    "\"abc\"[2]"
   ],
   "metadata": {
    "collapsed": false,
    "ExecuteTime": {
     "end_time": "2023-05-08T19:04:30.225360010Z",
     "start_time": "2023-05-08T19:04:30.213848746Z"
    }
   }
  },
  {
   "cell_type": "code",
   "execution_count": null,
   "outputs": [],
   "source": [],
   "metadata": {
    "collapsed": false
   }
  }
 ],
 "metadata": {
  "kernelspec": {
   "display_name": "Python 3",
   "language": "python",
   "name": "python3"
  },
  "language_info": {
   "codemirror_mode": {
    "name": "ipython",
    "version": 2
   },
   "file_extension": ".py",
   "mimetype": "text/x-python",
   "name": "python",
   "nbconvert_exporter": "python",
   "pygments_lexer": "ipython2",
   "version": "2.7.6"
  }
 },
 "nbformat": 4,
 "nbformat_minor": 0
}
