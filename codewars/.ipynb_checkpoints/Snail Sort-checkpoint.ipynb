{
 "cells": [
  {
   "cell_type": "markdown",
   "id": "be31521a-36a3-4b58-ac5f-e2a881540da3",
   "metadata": {},
   "source": [
    "array = [[1,2,3],\n",
    "         [4,5,6],\n",
    "         [7,8,9]]\n",
    "snail(array) #=> [1,2,3,6,9,8,7,4,5]"
   ]
  },
  {
   "cell_type": "markdown",
   "id": "93de8a0c-889b-41be-9e0e-5af79dbc7424",
   "metadata": {},
   "source": [
    "array = [[1,2,3],\n",
    "         [8,9,4],\n",
    "         [7,6,5]]\n",
    "snail(array) #=> [1,2,3,4,5,6,7,8,9]"
   ]
  },
  {
   "cell_type": "code",
   "execution_count": 1,
   "id": "c02c4e28-9079-4180-a5bf-0b4db85c2b14",
   "metadata": {},
   "outputs": [],
   "source": [
    "def snail(snail_map):\n",
    "    if len(snail_map) == 1:\n",
    "        return snail_map[0]\n",
    "    \n",
    "    x, y = -1, 0\n",
    "    \n",
    "    res = list()\n",
    "    index_map = set()\n",
    "\n",
    "    total_size = len(snail_map) ** 2\n",
    "    while total_size > len(res):\n",
    "        while x + 1 < len(snail_map) and (x + 1, y) not in index_map:\n",
    "            x += 1\n",
    "            res.append(snail_map[y][x])\n",
    "            index_map.add((x, y))\n",
    "            \n",
    "        while y + 1 < len(snail_map) and (x, y + 1) not in index_map:\n",
    "            y += 1\n",
    "            res.append(snail_map[y][x])\n",
    "            index_map.add((x, y))\n",
    "\n",
    "        while x - 1 >= 0 and (x - 1, y) not in index_map:\n",
    "            x -= 1\n",
    "            res.append(snail_map[y][x])\n",
    "            index_map.add((x, y))\n",
    "        \n",
    "        while y - 1 >= 0 and (x, y - 1) not in index_map:\n",
    "            y -= 1\n",
    "            res.append(snail_map[y][x])\n",
    "            index_map.add((x, y))\n",
    "    \n",
    "    return res\n",
    "\n",
    "\n",
    "\n",
    "        "
   ]
  },
  {
   "cell_type": "code",
   "execution_count": null,
   "id": "d4ca801e-6182-48b8-b5c7-ab47a16392b3",
   "metadata": {},
   "outputs": [],
   "source": [
    "# https://www.codewars.com/kata/521c2db8ddc89b9b7a0000c1/solutions/python"
   ]
  }
 ],
 "metadata": {
  "kernelspec": {
   "display_name": "Python 3 (ipykernel)",
   "language": "python",
   "name": "python3"
  },
  "language_info": {
   "codemirror_mode": {
    "name": "ipython",
    "version": 3
   },
   "file_extension": ".py",
   "mimetype": "text/x-python",
   "name": "python",
   "nbconvert_exporter": "python",
   "pygments_lexer": "ipython3",
   "version": "3.8.10"
  }
 },
 "nbformat": 4,
 "nbformat_minor": 5
}
