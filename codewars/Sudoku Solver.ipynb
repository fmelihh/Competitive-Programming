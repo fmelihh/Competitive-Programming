{
 "cells": [
  {
   "cell_type": "code",
   "execution_count": 1,
   "id": "d1fa5aec-f8f4-43bd-b62b-8b7e1e50dd99",
   "metadata": {},
   "outputs": [],
   "source": [
    "# https://www.codewars.com/kata/5296bc77afba8baa690002d7/train/python"
   ]
  },
  {
   "cell_type": "code",
   "execution_count": 47,
   "id": "0c0864a9-926e-4371-8ed0-bd0eb24e66d1",
   "metadata": {},
   "outputs": [],
   "source": [
    "def sudoku(puzzle: list):\n",
    "    \"\"\"return the solved puzzle as a 2d array of 9 x 9\"\"\"\n",
    "    return solve_sudoku(puzzle, row=0, col=0)\n",
    "\n",
    "def solve_sudoku(puzzle, row, col):\n",
    "    if (row == 8 and col == 9):\n",
    "        return puzzle\n",
    "         \n",
    "    if col == 9:\n",
    "        col = 0\n",
    "        row += 1\n",
    "\n",
    "    if puzzle[row][col] > 0:\n",
    "        return solve_sudoku(puzzle, row, col + 1)\n",
    "\n",
    "    for num in range(1, 10, 1):\n",
    "        if is_fit(puzzle, row, col, num):\n",
    "            puzzle[row][col] = num\n",
    "            if (new_puzzle := solve_sudoku(puzzle, row, col + 1)):\n",
    "                return new_puzzle\n",
    "\n",
    "        puzzle[row][col] = 0\n",
    "\n",
    "    return []\n",
    "            \n",
    "\n",
    "def is_fit(puzzle, row, col, num):\n",
    "    for val in range(9):\n",
    "        if puzzle[row][val] == num:\n",
    "            return False\n",
    "\n",
    "    for val in range(9):\n",
    "        if puzzle[val][col] == num:\n",
    "            return False\n",
    "\n",
    "    start_row = row - row % 3\n",
    "    start_col = col - col % 3\n",
    "    for i in range(3):\n",
    "        for j in range(3):\n",
    "            if puzzle[i + start_row][j + start_col] == num:\n",
    "                return False\n",
    "\n",
    "    return True\n",
    "\n",
    "    "
   ]
  },
  {
   "cell_type": "code",
   "execution_count": 48,
   "id": "74b44923-2ef4-4bc2-b320-9015a8868894",
   "metadata": {},
   "outputs": [
    {
     "data": {
      "text/plain": [
       "[[5, 3, 4, 6, 7, 8, 9, 1, 2],\n",
       " [6, 7, 2, 1, 9, 5, 3, 4, 8],\n",
       " [1, 9, 8, 3, 4, 2, 5, 6, 7],\n",
       " [8, 5, 9, 7, 6, 1, 4, 2, 3],\n",
       " [4, 2, 6, 8, 5, 3, 7, 9, 1],\n",
       " [7, 1, 3, 9, 2, 4, 8, 5, 6],\n",
       " [9, 6, 1, 5, 3, 7, 2, 8, 4],\n",
       " [2, 8, 7, 4, 1, 9, 6, 3, 5],\n",
       " [3, 4, 5, 2, 8, 6, 1, 7, 9]]"
      ]
     },
     "execution_count": 48,
     "metadata": {},
     "output_type": "execute_result"
    }
   ],
   "source": [
    "sudoku(puzzle = [[5,3,0,0,7,0,0,0,0],\n",
    "          [6,0,0,1,9,5,0,0,0],\n",
    "          [0,9,8,0,0,0,0,6,0],\n",
    "          [8,0,0,0,6,0,0,0,3],\n",
    "          [4,0,0,8,0,3,0,0,1],\n",
    "          [7,0,0,0,2,0,0,0,6],\n",
    "          [0,6,0,0,0,0,2,8,0],\n",
    "          [0,0,0,4,1,9,0,0,5],\n",
    "          [0,0,0,0,8,0,0,7,9]])\n",
    "\n"
   ]
  },
  {
   "cell_type": "raw",
   "id": "84d14eb7-5211-4210-841a-6f35133940c6",
   "metadata": {},
   "source": [
    "returns: \n",
    "\n",
    "[[5,3,4,6,7,8,9,1,2],\n",
    "[6,7,2,1,9,5,3,4,8],\n",
    "[1,9,8,3,4,2,5,6,7],\n",
    "[8,5,9,7,6,1,4,2,3],\n",
    "[4,2,6,8,5,3,7,9,1],\n",
    "[7,1,3,9,2,4,8,5,6],\n",
    "[9,6,1,5,3,7,2,8,4],\n",
    "[2,8,7,4,1,9,6,3,5],\n",
    "[3,4,5,2,8,6,1,7,9]]\n"
   ]
  },
  {
   "cell_type": "code",
   "execution_count": 14,
   "id": "0bc58a93-2923-4187-853e-779c3866ce96",
   "metadata": {},
   "outputs": [
    {
     "name": "stdout",
     "output_type": "stream",
     "text": [
      "2 ['a', 'b', 'c'] None\n",
      "1 ['a', 'b', 'c'] inner\n",
      "1 ['a', 'b', 'c'] outer\n",
      "1 ['a', 'b', 'c'] outer\n",
      "1 ['a', 'b', 'c'] outer\n",
      "['aa', 'ab', 'ac', 'ba', 'bb', 'bc', 'ca', 'cb', 'cc']\n"
     ]
    }
   ],
   "source": [
    "def permute(list, s, type = None):\n",
    "   print(list, s, type)\n",
    "   if list == 1:\n",
    "      return s\n",
    "   else:\n",
    "      res = list()\n",
    "      for \n",
    "      return [ \n",
    "         y + x\n",
    "         for y in permute(1, s, type=\"inner\")\n",
    "         for x in permute(list - 1, s, type=\"outer\")\n",
    "      ]\n",
    "       \n",
    "print(permute(2, [\"a\",\"b\",\"c\"]))\n",
    "# print(permute(2, [\"a\",\"b\",\"c\"]))"
   ]
  },
  {
   "cell_type": "code",
   "execution_count": 15,
   "id": "72208f99-d11b-45ef-a4c0-96925b1bb37f",
   "metadata": {},
   "outputs": [
    {
     "ename": "TypeError",
     "evalue": "unsupported operand type(s) for -: 'list' and 'int'",
     "output_type": "error",
     "traceback": [
      "\u001b[0;31m---------------------------------------------------------------------------\u001b[0m",
      "\u001b[0;31mTypeError\u001b[0m                                 Traceback (most recent call last)",
      "Cell \u001b[0;32mIn[15], line 1\u001b[0m\n\u001b[0;32m----> 1\u001b[0m \u001b[43m[\u001b[49m\u001b[38;5;124;43m\"\u001b[39;49m\u001b[38;5;124;43ma\u001b[39;49m\u001b[38;5;124;43m\"\u001b[39;49m\u001b[43m,\u001b[49m\u001b[38;5;124;43m\"\u001b[39;49m\u001b[38;5;124;43mb\u001b[39;49m\u001b[38;5;124;43m\"\u001b[39;49m\u001b[43m,\u001b[49m\u001b[38;5;124;43m\"\u001b[39;49m\u001b[38;5;124;43mc\u001b[39;49m\u001b[38;5;124;43m\"\u001b[39;49m\u001b[43m]\u001b[49m\u001b[43m \u001b[49m\u001b[38;5;241;43m-\u001b[39;49m\u001b[43m \u001b[49m\u001b[38;5;241;43m1\u001b[39;49m\n",
      "\u001b[0;31mTypeError\u001b[0m: unsupported operand type(s) for -: 'list' and 'int'"
     ]
    }
   ],
   "source": [
    "[\"a\",\"b\",\"c\"] - 1"
   ]
  },
  {
   "cell_type": "code",
   "execution_count": null,
   "id": "47be6a16-4968-4efa-90c1-9525b7ad91bb",
   "metadata": {},
   "outputs": [],
   "source": []
  }
 ],
 "metadata": {
  "kernelspec": {
   "display_name": "Python 3 (ipykernel)",
   "language": "python",
   "name": "python3"
  },
  "language_info": {
   "codemirror_mode": {
    "name": "ipython",
    "version": 3
   },
   "file_extension": ".py",
   "mimetype": "text/x-python",
   "name": "python",
   "nbconvert_exporter": "python",
   "pygments_lexer": "ipython3",
   "version": "3.8.10"
  }
 },
 "nbformat": 4,
 "nbformat_minor": 5
}
