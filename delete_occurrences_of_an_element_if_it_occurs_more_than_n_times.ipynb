{
 "cells": [
  {
   "cell_type": "code",
   "execution_count": 1,
   "id": "50b0eff6-e563-48fb-987f-844662eb1fea",
   "metadata": {},
   "outputs": [],
   "source": [
    "# https://www.codewars.com/kata/554ca54ffa7d91b236000023/train/python"
   ]
  },
  {
   "cell_type": "code",
   "execution_count": null,
   "id": "44420d66-d779-4f72-96c9-df033bc8e3dd",
   "metadata": {},
   "outputs": [],
   "source": [
    "def delete_nth(order,max_e):\n",
    "    \n",
    "    i = len(order) - 1\n",
    "    while i > 0:\n",
    "        if order.count(order[i]) > max_e:\n",
    "            order.pop(i)\n",
    "        i -= 1\n",
    "    \n",
    "    return order"
   ]
  },
  {
   "cell_type": "code",
   "execution_count": 2,
   "id": "c6f775b9-2c93-4259-ad71-22b5a90966cf",
   "metadata": {},
   "outputs": [],
   "source": [
    "deneme = [1, 2, 3]"
   ]
  },
  {
   "cell_type": "code",
   "execution_count": 3,
   "id": "c425c7a8-cecc-4997-9bb9-45a23cc7cf55",
   "metadata": {},
   "outputs": [
    {
     "data": {
      "text/plain": [
       "2"
      ]
     },
     "execution_count": 3,
     "metadata": {},
     "output_type": "execute_result"
    }
   ],
   "source": [
    "deneme.pop(1)"
   ]
  },
  {
   "cell_type": "code",
   "execution_count": 4,
   "id": "2abd901c-9b58-470c-9fcd-8045afe47118",
   "metadata": {},
   "outputs": [
    {
     "data": {
      "text/plain": [
       "[1, 3]"
      ]
     },
     "execution_count": 4,
     "metadata": {},
     "output_type": "execute_result"
    }
   ],
   "source": [
    "deneme"
   ]
  },
  {
   "cell_type": "code",
   "execution_count": null,
   "id": "d35db0d6-6a0a-4606-8396-cd3ebcea20de",
   "metadata": {},
   "outputs": [],
   "source": []
  }
 ],
 "metadata": {
  "kernelspec": {
   "display_name": "Python 3 (ipykernel)",
   "language": "python",
   "name": "python3"
  },
  "language_info": {
   "codemirror_mode": {
    "name": "ipython",
    "version": 3
   },
   "file_extension": ".py",
   "mimetype": "text/x-python",
   "name": "python",
   "nbconvert_exporter": "python",
   "pygments_lexer": "ipython3",
   "version": "3.8.10"
  }
 },
 "nbformat": 4,
 "nbformat_minor": 5
}
