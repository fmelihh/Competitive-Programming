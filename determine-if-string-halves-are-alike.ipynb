{
 "cells": [
  {
   "cell_type": "code",
   "execution_count": 1,
   "id": "3c343689-c798-4448-a033-88647a13a781",
   "metadata": {},
   "outputs": [],
   "source": [
    "# https://leetcode.com/problems/determine-if-string-halves-are-alike/"
   ]
  },
  {
   "cell_type": "code",
   "execution_count": 3,
   "id": "386a1331-c4c5-4cb6-b9a0-43d34fdf82ed",
   "metadata": {},
   "outputs": [],
   "source": [
    "class Solution:\n",
    "    VOWELS = ('a', 'e', 'i', 'o', 'u')\n",
    "    def halvesAreAlike(self, s: str) -> bool:\n",
    "       \n",
    "        s = s.lower()\n",
    "        half = len(s) // 2\n",
    "        \n",
    "        vovel_cnt = 0\n",
    "        \n",
    "        for i, letter in enumerate(s):\n",
    "            \n",
    "            if letter in self.VOWELS:\n",
    "                vovel_cnt = (vovel_cnt + 1) if i < half else (vovel_cnt - 1)\n",
    "        \n",
    "        return vovel_cnt == 0\n",
    "        \n",
    "        \n",
    "        "
   ]
  },
  {
   "cell_type": "code",
   "execution_count": null,
   "id": "6404ada3-f3c9-4a4a-a224-603c82aeabd2",
   "metadata": {},
   "outputs": [],
   "source": [
    "s = Solution()\n",
    "s.halvesAreAlike(s=\"\")"
   ]
  },
  {
   "cell_type": "code",
   "execution_count": 4,
   "id": "e0e7682a-9ab8-47b8-922a-fe8064001622",
   "metadata": {},
   "outputs": [],
   "source": [
    "a = \"ab\""
   ]
  },
  {
   "cell_type": "code",
   "execution_count": 6,
   "id": "b6e51966-3089-417a-b5d1-2544a699d5ce",
   "metadata": {},
   "outputs": [
    {
     "data": {
      "text/plain": [
       "1"
      ]
     },
     "execution_count": 6,
     "metadata": {},
     "output_type": "execute_result"
    }
   ],
   "source": [
    "len(a) // 2"
   ]
  },
  {
   "cell_type": "code",
   "execution_count": 8,
   "id": "2316fe04-2650-40f8-83ea-433d79d3b0f4",
   "metadata": {},
   "outputs": [
    {
     "data": {
      "text/plain": [
       "('a', 'b')"
      ]
     },
     "execution_count": 8,
     "metadata": {},
     "output_type": "execute_result"
    }
   ],
   "source": [
    "a[0:1], a[1:]"
   ]
  },
  {
   "cell_type": "code",
   "execution_count": null,
   "id": "2bb170ac-a149-4145-80dd-6390c9d97df7",
   "metadata": {},
   "outputs": [],
   "source": []
  }
 ],
 "metadata": {
  "kernelspec": {
   "display_name": "Python 3 (ipykernel)",
   "language": "python",
   "name": "python3"
  },
  "language_info": {
   "codemirror_mode": {
    "name": "ipython",
    "version": 3
   },
   "file_extension": ".py",
   "mimetype": "text/x-python",
   "name": "python",
   "nbconvert_exporter": "python",
   "pygments_lexer": "ipython3",
   "version": "3.8.10"
  }
 },
 "nbformat": 4,
 "nbformat_minor": 5
}
