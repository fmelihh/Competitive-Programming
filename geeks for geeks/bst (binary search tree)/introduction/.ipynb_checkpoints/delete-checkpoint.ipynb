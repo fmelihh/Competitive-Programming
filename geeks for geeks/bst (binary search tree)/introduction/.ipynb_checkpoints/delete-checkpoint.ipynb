{
 "cells": [
  {
   "cell_type": "code",
   "execution_count": 1,
   "id": "42967e16-d754-4b97-804f-245187087828",
   "metadata": {},
   "outputs": [
    {
     "name": "stdout",
     "output_type": "stream",
     "text": [
      "-5 -4 -3 -2 3 5 7 139654909307920\n",
      "139654909307920\n",
      "139654909307008\n",
      "139654909307008\n",
      "139654909307728\n",
      "139654909307728\n",
      "139654909307920\n",
      "10  -  15  -  20  -  30  -  40  -  50  -  60  -  "
     ]
    }
   ],
   "source": [
    "%run insert.ipynb"
   ]
  },
  {
   "cell_type": "code",
   "execution_count": null,
   "id": "4371c265-c6ed-4a47-ad61-01231d492aff",
   "metadata": {},
   "outputs": [],
   "source": [
    "def delete_node(root: Node, key: int):\n",
    "    if root is None:\n",
    "        return root\n",
    "\n",
    "    if root.key > key:\n",
    "        root.left = delete_node(root.left, key)\n",
    "        return root\n",
    "    elif root.key < key:\n",
    "        root.right = delete_node(root.right, key)\n",
    "        return root\n",
    "\n",
    "    if root.left is None:\n",
    "        temp = root.right\n",
    "        del root \n",
    "        return temp\n",
    "    elif root.right is None:\n",
    "        temp = root.left\n",
    "        del root\n",
    "        return temp\n",
    "    else:\n",
    "        succParent = root\n",
    "        succ = root.right\n",
    "        while succ.left is not None:\n",
    "            succParent = succ\n",
    "            succ = succ.left\n",
    "        \n",
    "        if succParent != root:\n",
    "            succParent.left = succ.right\n",
    "        else:\n",
    "            succParent.right = succ.right\n",
    "\n",
    "        root.key = succ.key\n",
    "\n",
    "        del succ\n",
    "        return root\n",
    "            \n",
    "    "
   ]
  }
 ],
 "metadata": {
  "kernelspec": {
   "display_name": "Python 3 (ipykernel)",
   "language": "python",
   "name": "python3"
  },
  "language_info": {
   "codemirror_mode": {
    "name": "ipython",
    "version": 3
   },
   "file_extension": ".py",
   "mimetype": "text/x-python",
   "name": "python",
   "nbconvert_exporter": "python",
   "pygments_lexer": "ipython3",
   "version": "3.8.10"
  }
 },
 "nbformat": 4,
 "nbformat_minor": 5
}
