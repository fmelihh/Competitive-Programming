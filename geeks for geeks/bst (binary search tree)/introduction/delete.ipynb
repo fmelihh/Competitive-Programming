{
 "cells": [
  {
   "cell_type": "code",
   "execution_count": 1,
   "id": "42967e16-d754-4b97-804f-245187087828",
   "metadata": {},
   "outputs": [
    {
     "name": "stdout",
     "output_type": "stream",
     "text": [
      "-5 -4 -3 -2 3 5 7 139654909307920\n",
      "139654909307920\n",
      "139654909307008\n",
      "139654909307008\n",
      "139654909307728\n",
      "139654909307728\n",
      "139654909307920\n",
      "10  -  15  -  20  -  30  -  40  -  50  -  60  -  "
     ]
    }
   ],
   "source": [
    "%run insert.ipynb"
   ]
  },
  {
   "cell_type": "code",
   "execution_count": 3,
   "id": "4371c265-c6ed-4a47-ad61-01231d492aff",
   "metadata": {},
   "outputs": [],
   "source": [
    "def delete_node(root: Node, key: int):\n",
    "    if root is None:\n",
    "        return root\n",
    "\n",
    "    if root.key > key:\n",
    "        root.left = delete_node(root.left, key)\n",
    "        return root\n",
    "    elif root.key < key:\n",
    "        root.right = delete_node(root.right, key)\n",
    "        return root\n",
    "\n",
    "    if root.left is None:\n",
    "        temp = root.right\n",
    "        del root \n",
    "        return temp\n",
    "    elif root.right is None:\n",
    "        temp = root.left\n",
    "        del root\n",
    "        return temp\n",
    "    else:\n",
    "        succParent = root\n",
    "        succ = root.right\n",
    "        while succ.left is not None:\n",
    "            succParent = succ\n",
    "            succ = succ.left\n",
    "        \n",
    "        if succParent != root:\n",
    "            succParent.left = succ.right\n",
    "        else:\n",
    "            succParent.right = succ.right\n",
    "\n",
    "        root.key = succ.key\n",
    "\n",
    "        del succ\n",
    "            \n",
    "    "
   ]
  },
  {
   "cell_type": "code",
   "execution_count": 4,
   "id": "c49535b8-1aa1-450e-a092-b457359ec924",
   "metadata": {},
   "outputs": [],
   "source": [
    "root = Node(50)"
   ]
  },
  {
   "cell_type": "code",
   "execution_count": 5,
   "id": "b043da92-d59f-4394-add1-5de44ca552c5",
   "metadata": {},
   "outputs": [],
   "source": [
    "root = insert(root, 25)"
   ]
  },
  {
   "cell_type": "code",
   "execution_count": 6,
   "id": "ebd663f3-b06b-4b3f-8ca3-192440544a02",
   "metadata": {},
   "outputs": [],
   "source": [
    "root = insert(root, 75)"
   ]
  },
  {
   "cell_type": "code",
   "execution_count": 7,
   "id": "2b05f616-ca6b-4095-b62a-f1c1fbb4eec2",
   "metadata": {},
   "outputs": [],
   "source": [
    "root = insert(root, 6)"
   ]
  },
  {
   "cell_type": "code",
   "execution_count": 8,
   "id": "c99078f6-db9a-4337-8b63-c0838cb0bef2",
   "metadata": {},
   "outputs": [],
   "source": [
    "root = insert(root, 30)"
   ]
  },
  {
   "cell_type": "code",
   "execution_count": 9,
   "id": "00edc38a-c49a-4702-8b2d-ab332339b54b",
   "metadata": {},
   "outputs": [],
   "source": [
    "root = insert(root, 60)"
   ]
  },
  {
   "cell_type": "code",
   "execution_count": 10,
   "id": "defbfef1-cf55-4d87-bac6-ea85fe8f985b",
   "metadata": {},
   "outputs": [],
   "source": [
    "root = insert(root, 52)"
   ]
  },
  {
   "cell_type": "code",
   "execution_count": 11,
   "id": "00478806-5b04-499f-96b1-fd0fc194654d",
   "metadata": {},
   "outputs": [],
   "source": [
    "root = insert(root, 70)"
   ]
  },
  {
   "cell_type": "code",
   "execution_count": 12,
   "id": "137303f7-98ac-4919-a2bf-2a1c397024d5",
   "metadata": {},
   "outputs": [
    {
     "name": "stdout",
     "output_type": "stream",
     "text": [
      "6 25 30 50 52 60 70 75 "
     ]
    }
   ],
   "source": [
    "inorder(root)"
   ]
  },
  {
   "cell_type": "code",
   "execution_count": 13,
   "id": "7afcfe2c-7d6d-4196-809d-654e0c1f0819",
   "metadata": {},
   "outputs": [
    {
     "data": {
      "text/plain": [
       "<__main__.Node at 0x7f03f1d4a040>"
      ]
     },
     "execution_count": 13,
     "metadata": {},
     "output_type": "execute_result"
    }
   ],
   "source": [
    "inorder(delete_node(root, 60)"
   ]
  },
  {
   "cell_type": "code",
   "execution_count": null,
   "id": "b73ddd29-c672-42b6-b6ce-2f57f026efcc",
   "metadata": {},
   "outputs": [],
   "source": []
  }
 ],
 "metadata": {
  "kernelspec": {
   "display_name": "Python 3 (ipykernel)",
   "language": "python",
   "name": "python3"
  },
  "language_info": {
   "codemirror_mode": {
    "name": "ipython",
    "version": 3
   },
   "file_extension": ".py",
   "mimetype": "text/x-python",
   "name": "python",
   "nbconvert_exporter": "python",
   "pygments_lexer": "ipython3",
   "version": "3.8.10"
  }
 },
 "nbformat": 4,
 "nbformat_minor": 5
}
