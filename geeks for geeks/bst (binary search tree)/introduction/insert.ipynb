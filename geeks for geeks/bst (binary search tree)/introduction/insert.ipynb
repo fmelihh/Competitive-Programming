{
 "cells": [
  {
   "cell_type": "code",
   "execution_count": 4,
   "id": "f6d049de-4f41-4471-9200-fae7e8c2ef58",
   "metadata": {},
   "outputs": [],
   "source": [
    "# Time complexity O(logn)\n",
    "# Space complexity O(1)\n",
    "\n",
    "class Node:\n",
    "    def __init__(self, key: int):\n",
    "        self.key = key \n",
    "        self.left = None\n",
    "        self.right = None\n",
    "        "
   ]
  },
  {
   "cell_type": "code",
   "execution_count": 4,
   "id": "cbb9bf5d-6a95-46b0-a2fd-ddbff85a3e50",
   "metadata": {},
   "outputs": [],
   "source": [
    "# inorder\n",
    "def inorder(root: Node):\n",
    "    if not root:\n",
    "        return \n",
    "        \n",
    "    inorder(root.left)\n",
    "    print(root.key, end = \" \")\n",
    "    inorder(root.right)"
   ]
  },
  {
   "cell_type": "code",
   "execution_count": 1,
   "id": "ac8786b9-83fc-4ba0-915a-b8fd601e50d5",
   "metadata": {},
   "outputs": [],
   "source": [
    "# insert recursive"
   ]
  },
  {
   "cell_type": "code",
   "execution_count": 5,
   "id": "36ccde10-0b80-449c-9690-0d2a199198c0",
   "metadata": {},
   "outputs": [],
   "source": [
    "def insert(node: Node, key: int) -> Node:\n",
    "    if node is None:\n",
    "        return Node(key)\n",
    "    if key < node.key:\n",
    "        node.left = insert(node.left, key)\n",
    "    elif key > node.key:\n",
    "        node.right = insert(node.right, key)\n",
    "\n",
    "    return node"
   ]
  },
  {
   "cell_type": "code",
   "execution_count": 15,
   "id": "818b1052-a552-4686-8595-7976036205d2",
   "metadata": {},
   "outputs": [],
   "source": [
    "_node = Node(3)"
   ]
  },
  {
   "cell_type": "code",
   "execution_count": 20,
   "id": "d9db3100-0d83-42d3-a670-eea08ca5c8fb",
   "metadata": {},
   "outputs": [],
   "source": [
    "_node = insert(_node, 5)\n",
    "_node = insert(_node, 7)\n",
    "_node = insert(_node, -3)\n",
    "_node = insert(_node, -5)\n",
    "_node = insert(_node, -2)\n",
    "_node = insert(_node, -4)"
   ]
  },
  {
   "cell_type": "code",
   "execution_count": 21,
   "id": "d518423f-ea5a-4494-abf2-9e65be11e5ce",
   "metadata": {},
   "outputs": [
    {
     "name": "stdout",
     "output_type": "stream",
     "text": [
      "-5 -4 -3 -2 3 5 7 "
     ]
    }
   ],
   "source": [
    "inorder(_node)"
   ]
  },
  {
   "cell_type": "code",
   "execution_count": 2,
   "id": "e5d95a35-e999-4e85-9d0b-4b235b1dca81",
   "metadata": {},
   "outputs": [],
   "source": [
    "# insert iterative approach"
   ]
  },
  {
   "cell_type": "code",
   "execution_count": 1,
   "id": "b53baea4-9935-4eb1-aeda-6764b7ffeaeb",
   "metadata": {},
   "outputs": [],
   "source": [
    "class GFG:\n",
    "    @staticmethod\n",
    "    def main(args):\n",
    "        tree = BST()\n",
    "        tree.insert(30)\n",
    "        tree.insert(50)\n",
    "        tree.insert(15)\n",
    "        tree.insert(20)\n",
    "        tree.insert(10)\n",
    "        tree.insert(40)\n",
    "        tree.insert(60)\n",
    "        tree.inorder()\n",
    "\n",
    "        return tree"
   ]
  },
  {
   "cell_type": "code",
   "execution_count": 30,
   "id": "11a0b6a9-32f6-4c80-9e27-a19d005ac832",
   "metadata": {},
   "outputs": [],
   "source": [
    "class BST:\n",
    "    def __init__(self):\n",
    "        self.root = None\n",
    "        \n",
    "    def insert(self, key: int):\n",
    "        node = Node(key)\n",
    "        if self.root is None:\n",
    "            self.root = node\n",
    "            return\n",
    "\n",
    "        prev = None\n",
    "        temp = self.root\n",
    "        \n",
    "        while temp:\n",
    "            prev = temp\n",
    "            if temp.key > key:\n",
    "                temp = temp.left\n",
    "            elif temp.key < key:\n",
    "                temp = temp.right\n",
    "\n",
    "        if prev.key > key:\n",
    "            prev.left = node\n",
    "        else:\n",
    "            prev.right = node\n",
    "        print(id(prev))\n",
    "\n",
    "    def inorder(self):\n",
    "        temp = self.root\n",
    "        print(id(self.root))\n",
    "        stack = []\n",
    "        while temp or len(stack) > 0:\n",
    "            if temp:\n",
    "                stack.append(temp)\n",
    "                temp = temp.left\n",
    "            else:\n",
    "                temp = stack.pop()\n",
    "                print(f\"{temp.key}  -  \", end=\"\")\n",
    "                temp = temp.right\n",
    "                "
   ]
  },
  {
   "cell_type": "code",
   "execution_count": 31,
   "id": "cef5039d-1199-4a8d-9062-360648be2bbb",
   "metadata": {},
   "outputs": [
    {
     "name": "stdout",
     "output_type": "stream",
     "text": [
      "140656757279952\n",
      "140656757279952\n",
      "140656757279088\n",
      "140656757279088\n",
      "140656757280288\n",
      "140656757280288\n",
      "140656757279952\n",
      "10  -  15  -  20  -  30  -  40  -  50  -  60  -  "
     ]
    }
   ],
   "source": [
    "GFG.main([])"
   ]
  },
  {
   "cell_type": "code",
   "execution_count": null,
   "id": "696f3e8e-afea-4306-a7a8-7d231895c34b",
   "metadata": {},
   "outputs": [],
   "source": []
  },
  {
   "cell_type": "code",
   "execution_count": null,
   "id": "77a831e7-25d2-4639-9cee-bae73755440e",
   "metadata": {},
   "outputs": [],
   "source": []
  }
 ],
 "metadata": {
  "kernelspec": {
   "display_name": "Python 3 (ipykernel)",
   "language": "python",
   "name": "python3"
  },
  "language_info": {
   "codemirror_mode": {
    "name": "ipython",
    "version": 3
   },
   "file_extension": ".py",
   "mimetype": "text/x-python",
   "name": "python",
   "nbconvert_exporter": "python",
   "pygments_lexer": "ipython3",
   "version": "3.8.10"
  }
 },
 "nbformat": 4,
 "nbformat_minor": 5
}
