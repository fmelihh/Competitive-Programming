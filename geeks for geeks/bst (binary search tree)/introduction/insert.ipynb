{
 "cells": [
  {
   "cell_type": "code",
   "execution_count": 1,
   "id": "f6d049de-4f41-4471-9200-fae7e8c2ef58",
   "metadata": {},
   "outputs": [],
   "source": [
    "# Time complexity O(logn)\n",
    "# Space complexity O(1)\n",
    "\n",
    "class Node:\n",
    "    def __init__(self, key: int):\n",
    "        self.key = key \n",
    "        self.left = None\n",
    "        self.right = None\n",
    "        "
   ]
  },
  {
   "cell_type": "code",
   "execution_count": 4,
   "id": "cbb9bf5d-6a95-46b0-a2fd-ddbff85a3e50",
   "metadata": {},
   "outputs": [],
   "source": [
    "# inorder\n",
    "def inorder(root: Node):\n",
    "    if not root:\n",
    "        return \n",
    "        \n",
    "    inorder(root.left)\n",
    "    print(root.key, end = \" \")\n",
    "    inorder(root.right)"
   ]
  },
  {
   "cell_type": "code",
   "execution_count": 2,
   "id": "ac8786b9-83fc-4ba0-915a-b8fd601e50d5",
   "metadata": {},
   "outputs": [],
   "source": [
    "# insert"
   ]
  },
  {
   "cell_type": "code",
   "execution_count": 5,
   "id": "36ccde10-0b80-449c-9690-0d2a199198c0",
   "metadata": {},
   "outputs": [],
   "source": [
    "def insert(node: Node, key: int) -> Node:\n",
    "    if node is None:\n",
    "        return Node(key)\n",
    "    if key < node.key:\n",
    "        node.left = insert(node.left, key)\n",
    "    elif key > node.key:\n",
    "        node.right = insert(node.right, key)\n",
    "\n",
    "    return node"
   ]
  },
  {
   "cell_type": "code",
   "execution_count": 15,
   "id": "818b1052-a552-4686-8595-7976036205d2",
   "metadata": {},
   "outputs": [],
   "source": [
    "_node = Node(3)"
   ]
  },
  {
   "cell_type": "code",
   "execution_count": 20,
   "id": "d9db3100-0d83-42d3-a670-eea08ca5c8fb",
   "metadata": {},
   "outputs": [],
   "source": [
    "_node = insert(_node, 5)\n",
    "_node = insert(_node, 7)\n",
    "_node = insert(_node, -3)\n",
    "_node = insert(_node, -5)\n",
    "_node = insert(_node, -2)\n",
    "_node = insert(_node, -4)"
   ]
  },
  {
   "cell_type": "code",
   "execution_count": 21,
   "id": "d518423f-ea5a-4494-abf2-9e65be11e5ce",
   "metadata": {},
   "outputs": [
    {
     "name": "stdout",
     "output_type": "stream",
     "text": [
      "-5 -4 -3 -2 3 5 7 "
     ]
    }
   ],
   "source": [
    "inorder(_node)"
   ]
  },
  {
   "cell_type": "code",
   "execution_count": null,
   "id": "e5d95a35-e999-4e85-9d0b-4b235b1dca81",
   "metadata": {},
   "outputs": [],
   "source": []
  }
 ],
 "metadata": {
  "kernelspec": {
   "display_name": "Python 3 (ipykernel)",
   "language": "python",
   "name": "python3"
  },
  "language_info": {
   "codemirror_mode": {
    "name": "ipython",
    "version": 3
   },
   "file_extension": ".py",
   "mimetype": "text/x-python",
   "name": "python",
   "nbconvert_exporter": "python",
   "pygments_lexer": "ipython3",
   "version": "3.8.10"
  }
 },
 "nbformat": 4,
 "nbformat_minor": 5
}
