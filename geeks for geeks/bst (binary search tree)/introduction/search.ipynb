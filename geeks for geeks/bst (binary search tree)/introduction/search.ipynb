{
 "cells": [
  {
   "cell_type": "code",
   "execution_count": 2,
   "id": "de3747c9-09e4-45c4-8d5b-f4606bbe4186",
   "metadata": {},
   "outputs": [
    {
     "name": "stdout",
     "output_type": "stream",
     "text": [
      "-5 -4 -3 -2 3 5 7 140110760326960\n",
      "140110760326960\n",
      "140110760326480\n",
      "140110760326480\n",
      "140110760325952\n",
      "140110760325952\n",
      "140110760326960\n",
      "10  -  15  -  20  -  30  -  40  -  50  -  60  -  "
     ]
    }
   ],
   "source": [
    "%run insert.ipynb"
   ]
  },
  {
   "cell_type": "code",
   "execution_count": 3,
   "id": "26e76de1-f2f3-4777-9a36-7d93569f4aaa",
   "metadata": {},
   "outputs": [
    {
     "name": "stdout",
     "output_type": "stream",
     "text": [
      "140110761114832\n",
      "140110761114832\n",
      "140110761115264\n",
      "140110761115264\n",
      "140110761115120\n",
      "140110761115120\n",
      "140110761114832\n",
      "10  -  15  -  20  -  30  -  40  -  50  -  60  -  "
     ]
    }
   ],
   "source": [
    "tree = GFG.main([])"
   ]
  },
  {
   "cell_type": "code",
   "execution_count": 4,
   "id": "61995f74-6d19-4376-842c-71ad07b019a3",
   "metadata": {},
   "outputs": [
    {
     "data": {
      "text/plain": [
       "<__main__.BST at 0x7f6e14253ee0>"
      ]
     },
     "execution_count": 4,
     "metadata": {},
     "output_type": "execute_result"
    }
   ],
   "source": [
    "tree"
   ]
  },
  {
   "cell_type": "code",
   "execution_count": 5,
   "id": "1161134b-1adf-4474-8732-520be2b1ee86",
   "metadata": {},
   "outputs": [],
   "source": [
    "def search(root: Node, key: int):\n",
    "    if root is None or root.key == key:\n",
    "        return root\n",
    "\n",
    "    if root.key < key:\n",
    "        return search(root.right, key)\n",
    "    return search(root.left, key)"
   ]
  },
  {
   "cell_type": "code",
   "execution_count": 9,
   "id": "7c2904cf-e489-4804-9456-3ac1a3454406",
   "metadata": {},
   "outputs": [],
   "source": [
    "val = search(tree.root, 10)"
   ]
  },
  {
   "cell_type": "code",
   "execution_count": 10,
   "id": "619381c6-2fcf-4156-8ec3-3245a50958f9",
   "metadata": {},
   "outputs": [
    {
     "data": {
      "text/plain": [
       "10"
      ]
     },
     "execution_count": 10,
     "metadata": {},
     "output_type": "execute_result"
    }
   ],
   "source": [
    "val.key"
   ]
  },
  {
   "cell_type": "code",
   "execution_count": null,
   "id": "2374238c-3736-4dff-b2b6-a078619129ca",
   "metadata": {},
   "outputs": [],
   "source": []
  }
 ],
 "metadata": {
  "kernelspec": {
   "display_name": "Python 3 (ipykernel)",
   "language": "python",
   "name": "python3"
  },
  "language_info": {
   "codemirror_mode": {
    "name": "ipython",
    "version": 3
   },
   "file_extension": ".py",
   "mimetype": "text/x-python",
   "name": "python",
   "nbconvert_exporter": "python",
   "pygments_lexer": "ipython3",
   "version": "3.8.10"
  }
 },
 "nbformat": 4,
 "nbformat_minor": 5
}
