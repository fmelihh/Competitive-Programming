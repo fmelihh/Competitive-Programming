{
 "cells": [
  {
   "cell_type": "code",
   "execution_count": 19,
   "id": "07f846d5-db7e-4611-8f34-ce97315a1737",
   "metadata": {},
   "outputs": [],
   "source": [
    "import math\n",
    "from typing import List\n",
    "\n",
    "class Solution:\n",
    "    def getRow(self, rowIndex: int) -> List[int]:\n",
    "        numerator = math.factorial(rowIndex)\n",
    "        return [\n",
    "            numerator // (math.factorial(k) * math.factorial(rowIndex - k))\n",
    "            for k in range(rowIndex + 1)\n",
    "        ]\n",
    "            "
   ]
  },
  {
   "cell_type": "code",
   "execution_count": 20,
   "id": "fe0597e7-393e-4f20-9b11-1e491f86adf4",
   "metadata": {},
   "outputs": [],
   "source": [
    "s = Solution()"
   ]
  },
  {
   "cell_type": "code",
   "execution_count": 21,
   "id": "8804ff75-3ff6-47d7-a33f-aa68bedf4e06",
   "metadata": {},
   "outputs": [
    {
     "data": {
      "text/plain": [
       "[1, 3, 3, 1]"
      ]
     },
     "execution_count": 21,
     "metadata": {},
     "output_type": "execute_result"
    }
   ],
   "source": [
    "s.getRow(3)"
   ]
  },
  {
   "cell_type": "code",
   "execution_count": 3,
   "id": "81eab694-6904-4130-8de8-b43faad9d858",
   "metadata": {},
   "outputs": [],
   "source": [
    "import math"
   ]
  },
  {
   "cell_type": "code",
   "execution_count": 17,
   "id": "3614d763-822e-4084-8b0b-6374f533f482",
   "metadata": {},
   "outputs": [],
   "source": [
    "rows = list()\n",
    "for k in range(2):\n",
    "    rows.append(\n",
    "        math.factorial(1) // (math.factorial(k)*math.factorial(1 - k))\n",
    "    )"
   ]
  },
  {
   "cell_type": "code",
   "execution_count": 18,
   "id": "50f895da-06df-420d-802e-aea0da93aeb6",
   "metadata": {},
   "outputs": [
    {
     "data": {
      "text/plain": [
       "[1, 1]"
      ]
     },
     "execution_count": 18,
     "metadata": {},
     "output_type": "execute_result"
    }
   ],
   "source": [
    "rows"
   ]
  },
  {
   "cell_type": "code",
   "execution_count": null,
   "id": "f9652208-31a8-4965-97ce-6f5d0721c53c",
   "metadata": {},
   "outputs": [],
   "source": []
  }
 ],
 "metadata": {
  "kernelspec": {
   "display_name": "Python 3 (ipykernel)",
   "language": "python",
   "name": "python3"
  },
  "language_info": {
   "codemirror_mode": {
    "name": "ipython",
    "version": 3
   },
   "file_extension": ".py",
   "mimetype": "text/x-python",
   "name": "python",
   "nbconvert_exporter": "python",
   "pygments_lexer": "ipython3",
   "version": "3.8.10"
  }
 },
 "nbformat": 4,
 "nbformat_minor": 5
}
