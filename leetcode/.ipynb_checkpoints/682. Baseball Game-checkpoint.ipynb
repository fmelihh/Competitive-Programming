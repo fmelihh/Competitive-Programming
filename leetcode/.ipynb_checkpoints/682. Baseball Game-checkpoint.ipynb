{
 "cells": [
  {
   "cell_type": "code",
   "execution_count": 11,
   "id": "67c56d4e-9b03-4a0c-a27d-1ce12be5f880",
   "metadata": {},
   "outputs": [],
   "source": [
    "from typing import List\n",
    "\n",
    "class Solution:\n",
    "    def calPoints(self, operations: List[str]) -> int:\n",
    "        idx = 0\n",
    "        pointer = -1\n",
    "        while len(operations) > idx:\n",
    "            print(operations, idx, pointer)\n",
    "            if self.check_is_number(number=operations[idx]):\n",
    "                operations[idx] = int(operations[idx])\n",
    "                pointer += 1\n",
    "                idx += 1\n",
    "                \n",
    "            elif operations[idx] == \"+\":\n",
    "                operations.pop(idx)\n",
    "                operations.insert(pointer + 1, operations[pointer - 1] + operations[pointer])\n",
    "                idx += 1\n",
    "                pointer += 1\n",
    "                \n",
    "            elif operations[idx] == \"D\":\n",
    "                operations.pop(idx)\n",
    "                operations.insert(pointer + 1, operations[pointer] * 2)\n",
    "                idx += 1\n",
    "                pointer += 1\n",
    "                \n",
    "            elif operations[idx] == \"C\":\n",
    "                operations.pop(idx)\n",
    "                operations.pop(pointer)\n",
    "\n",
    "                idx = idx - 1 if idx - 1 >= 0 else 0\n",
    "                pointer = pointer - 1 if pointer - 1 >= 0 else -1\n",
    "            else:\n",
    "                idx += 1\n",
    "\n",
    "        return sum(operations)\n",
    "\n",
    "    def check_is_number(self, number):\n",
    "        return not isinstance(number, int) and (number.isdigit() or (number.startswith(\"-\") and number[1:].isdigit()))\n",
    "            \n",
    "\n",
    "        \n",
    "        "
   ]
  },
  {
   "cell_type": "code",
   "execution_count": 12,
   "id": "13e4b992-f8b8-4a32-8eb0-6c41dafd1ba3",
   "metadata": {},
   "outputs": [],
   "source": [
    "s = Solution()"
   ]
  },
  {
   "cell_type": "code",
   "execution_count": 24,
   "id": "5f15a214-880c-4526-b6f1-41dbbaf8ee9b",
   "metadata": {},
   "outputs": [
    {
     "name": "stdout",
     "output_type": "stream",
     "text": [
      "['5', '2', 'C', 'D', '+']\n",
      "[5, '2', 'C', 'D', '+']\n",
      "[5, 2, 'C', 'D', '+']\n",
      "[5, 'D', '+']\n",
      "[5, 'D', '+']\n",
      "[5, 10, '+']\n"
     ]
    },
    {
     "data": {
      "text/plain": [
       "30"
      ]
     },
     "execution_count": 24,
     "metadata": {},
     "output_type": "execute_result"
    }
   ],
   "source": [
    "s.calPoints(operations = [\"5\",\"2\",\"C\",\"D\",\"+\"])"
   ]
  },
  {
   "cell_type": "code",
   "execution_count": 25,
   "id": "47792dc0-f9b0-4e47-95e2-4573d2673d48",
   "metadata": {},
   "outputs": [
    {
     "name": "stdout",
     "output_type": "stream",
     "text": [
      "['5', '-2', '4', 'C', 'D', '9', '+', '+']\n",
      "[5, '-2', '4', 'C', 'D', '9', '+', '+']\n",
      "[5, -2, '4', 'C', 'D', '9', '+', '+']\n",
      "[5, -2, 4, 'C', 'D', '9', '+', '+']\n",
      "[5, -2, 'D', '9', '+', '+']\n",
      "[5, -2, 'D', '9', '+', '+']\n",
      "[5, -2, 'D', '9', '+', '+']\n",
      "[5, 10, -2, '9', '+', '+']\n",
      "[5, 10, -2, 9, '+', '+']\n",
      "[5, 10, -2, 8, 9, '+']\n"
     ]
    },
    {
     "data": {
      "text/plain": [
       "36"
      ]
     },
     "execution_count": 25,
     "metadata": {},
     "output_type": "execute_result"
    }
   ],
   "source": [
    "s.calPoints(operations = [\"5\",\"-2\",\"4\",\"C\",\"D\",\"9\",\"+\",\"+\"])"
   ]
  },
  {
   "cell_type": "code",
   "execution_count": 26,
   "id": "6f3b55c4-fe65-45aa-b314-307327a7f24b",
   "metadata": {},
   "outputs": [
    {
     "name": "stdout",
     "output_type": "stream",
     "text": [
      "['1', 'C']\n",
      "[1, 'C']\n"
     ]
    },
    {
     "data": {
      "text/plain": [
       "0"
      ]
     },
     "execution_count": 26,
     "metadata": {},
     "output_type": "execute_result"
    }
   ],
   "source": [
    "s.calPoints(operations = [\"1\",\"C\"])"
   ]
  },
  {
   "cell_type": "code",
   "execution_count": 6,
   "id": "0abb1104-9e20-44d6-9f0e-91dd62d673c3",
   "metadata": {},
   "outputs": [
    {
     "name": "stdout",
     "output_type": "stream",
     "text": [
      "['5', '-2', '4', 'C', 'D', '9', '+', '+'] 0 -1\n",
      "[5, '-2', '4', 'C', 'D', '9', '+', '+'] 1 0\n",
      "[5, -2, '4', 'C', 'D', '9', '+', '+'] 2 1\n",
      "[5, -2, 4, 'C', 'D', '9', '+', '+'] 3 2\n",
      "[5, -2, 'D', '9', '+', '+'] 2 1\n",
      "[5, -2, -4, '9', '+', '+'] 3 2\n",
      "[5, -2, -4, 9, '+', '+'] 4 3\n",
      "[5, -2, -4, 9, 5, '+'] 5 4\n"
     ]
    },
    {
     "data": {
      "text/plain": [
       "27"
      ]
     },
     "execution_count": 6,
     "metadata": {},
     "output_type": "execute_result"
    }
   ],
   "source": [
    "s.calPoints(operations = [\"5\",\"-2\",\"4\",\"C\",\"D\",\"9\",\"+\",\"+\"])"
   ]
  },
  {
   "cell_type": "code",
   "execution_count": 13,
   "id": "7a4a1395-54ef-4e44-81bc-25e4bafc7e86",
   "metadata": {},
   "outputs": [
    {
     "name": "stdout",
     "output_type": "stream",
     "text": [
      "['84', 'C', '-87', 'D', 'D', '15', 'C', '-76', '-28', '-65', '26', '-49', '+', '+', '-56', '-82', '+', '+', '-66', '31'] 0 -1\n",
      "[84, 'C', '-87', 'D', 'D', '15', 'C', '-76', '-28', '-65', '26', '-49', '+', '+', '-56', '-82', '+', '+', '-66', '31'] 1 0\n",
      "['-87', 'D', 'D', '15', 'C', '-76', '-28', '-65', '26', '-49', '+', '+', '-56', '-82', '+', '+', '-66', '31'] 0 -1\n",
      "[-87, 'D', 'D', '15', 'C', '-76', '-28', '-65', '26', '-49', '+', '+', '-56', '-82', '+', '+', '-66', '31'] 1 0\n",
      "[-87, -174, 'D', '15', 'C', '-76', '-28', '-65', '26', '-49', '+', '+', '-56', '-82', '+', '+', '-66', '31'] 2 1\n",
      "[-87, -174, -348, '15', 'C', '-76', '-28', '-65', '26', '-49', '+', '+', '-56', '-82', '+', '+', '-66', '31'] 3 2\n",
      "[-87, -174, -348, 15, 'C', '-76', '-28', '-65', '26', '-49', '+', '+', '-56', '-82', '+', '+', '-66', '31'] 4 3\n",
      "[-87, -174, -348, '-76', '-28', '-65', '26', '-49', '+', '+', '-56', '-82', '+', '+', '-66', '31'] 3 2\n",
      "[-87, -174, -348, -76, '-28', '-65', '26', '-49', '+', '+', '-56', '-82', '+', '+', '-66', '31'] 4 3\n",
      "[-87, -174, -348, -76, -28, '-65', '26', '-49', '+', '+', '-56', '-82', '+', '+', '-66', '31'] 5 4\n",
      "[-87, -174, -348, -76, -28, -65, '26', '-49', '+', '+', '-56', '-82', '+', '+', '-66', '31'] 6 5\n",
      "[-87, -174, -348, -76, -28, -65, 26, '-49', '+', '+', '-56', '-82', '+', '+', '-66', '31'] 7 6\n",
      "[-87, -174, -348, -76, -28, -65, 26, -49, '+', '+', '-56', '-82', '+', '+', '-66', '31'] 8 7\n",
      "[-87, -174, -348, -76, -28, -65, 26, -49, -23, '+', '-56', '-82', '+', '+', '-66', '31'] 9 8\n",
      "[-87, -174, -348, -76, -28, -65, 26, -49, -23, -72, '-56', '-82', '+', '+', '-66', '31'] 10 9\n",
      "[-87, -174, -348, -76, -28, -65, 26, -49, -23, -72, -56, '-82', '+', '+', '-66', '31'] 11 10\n",
      "[-87, -174, -348, -76, -28, -65, 26, -49, -23, -72, -56, -82, '+', '+', '-66', '31'] 12 11\n",
      "[-87, -174, -348, -76, -28, -65, 26, -49, -23, -72, -56, -82, -138, '+', '-66', '31'] 13 12\n",
      "[-87, -174, -348, -76, -28, -65, 26, -49, -23, -72, -56, -82, -138, -220, '-66', '31'] 14 13\n",
      "[-87, -174, -348, -76, -28, -65, 26, -49, -23, -72, -56, -82, -138, -220, -66, '31'] 15 14\n"
     ]
    },
    {
     "data": {
      "text/plain": [
       "-1427"
      ]
     },
     "execution_count": 13,
     "metadata": {},
     "output_type": "execute_result"
    }
   ],
   "source": [
    "s.calPoints(operations=[\"84\",\"C\",\"-87\",\"D\",\"D\",\"15\",\"C\",\"-76\",\"-28\",\"-65\",\"26\",\"-49\",\"+\",\"+\",\"-56\",\"-82\",\"+\",\"+\",\"-66\",\"31\"])"
   ]
  },
  {
   "cell_type": "code",
   "execution_count": 15,
   "id": "8fd71748-c967-46f3-9b0a-243c1af78f24",
   "metadata": {},
   "outputs": [],
   "source": [
    "val = [\"5\",\"2\",\"C\",\"D\",\"+\"]"
   ]
  },
  {
   "cell_type": "code",
   "execution_count": 16,
   "id": "7d7e397b-f940-4ea0-841b-c1a05072ba50",
   "metadata": {},
   "outputs": [],
   "source": [
    "idx1 = 2\n",
    "idx2 = 1"
   ]
  },
  {
   "cell_type": "code",
   "execution_count": 17,
   "id": "8e28b0b6-37e8-4997-8bbc-edb24ccabec0",
   "metadata": {},
   "outputs": [],
   "source": [
    "val.insert(idx2 + 1, \"7\")"
   ]
  },
  {
   "cell_type": "code",
   "execution_count": 18,
   "id": "e43b8b3c-3bb1-4997-b44b-66d06219ed94",
   "metadata": {},
   "outputs": [
    {
     "data": {
      "text/plain": [
       "('7', '2')"
      ]
     },
     "execution_count": 18,
     "metadata": {},
     "output_type": "execute_result"
    }
   ],
   "source": [
    "val[idx1], val[idx2]"
   ]
  },
  {
   "cell_type": "code",
   "execution_count": 7,
   "id": "2feb477d-bb4b-40c1-8c78-f3c867c8af11",
   "metadata": {},
   "outputs": [
    {
     "data": {
      "text/plain": [
       "'C'"
      ]
     },
     "execution_count": 7,
     "metadata": {},
     "output_type": "execute_result"
    }
   ],
   "source": [
    "val.pop(idx1)"
   ]
  },
  {
   "cell_type": "code",
   "execution_count": 14,
   "id": "01a43f60-8675-479a-bef2-96a1de3369e8",
   "metadata": {},
   "outputs": [
    {
     "data": {
      "text/plain": [
       "'D'"
      ]
     },
     "execution_count": 14,
     "metadata": {},
     "output_type": "execute_result"
    }
   ],
   "source": [
    "val[idx1-1]"
   ]
  },
  {
   "cell_type": "code",
   "execution_count": 13,
   "id": "9e19bd71-225e-411d-9adc-f7d0f1a9b331",
   "metadata": {},
   "outputs": [
    {
     "data": {
      "text/plain": [
       "'5'"
      ]
     },
     "execution_count": 13,
     "metadata": {},
     "output_type": "execute_result"
    }
   ],
   "source": [
    "val[idx2-1]"
   ]
  },
  {
   "cell_type": "code",
   "execution_count": 10,
   "id": "40923cd4-da94-4ee8-924b-2ba58ad45359",
   "metadata": {},
   "outputs": [
    {
     "data": {
      "text/plain": [
       "'2'"
      ]
     },
     "execution_count": 10,
     "metadata": {},
     "output_type": "execute_result"
    }
   ],
   "source": [
    "val.pop(idx2)"
   ]
  },
  {
   "cell_type": "code",
   "execution_count": null,
   "id": "680d9898-9988-4522-920c-2527597f3379",
   "metadata": {},
   "outputs": [],
   "source": [
    "## refactored solution \n",
    "\n",
    "from typing import List\n",
    "\n",
    "class Solution:\n",
    "    def calPoints(self, operations: List[str]) -> int:\n",
    "        stack = list()\n",
    "        for val in operations:\n",
    "            if val == \"+\":\n",
    "                stack.append(stack[-1] + stack[-2])\n",
    "            elif val == \"D\":\n",
    "                stack.append(stack[-1] * 2)\n",
    "            elif val == \"C\":\n",
    "                stack.pop(-1)\n",
    "            else:\n",
    "                stack.append(int(val))\n",
    "        return sum(stack)\n",
    "            \n",
    "   "
   ]
  },
  {
   "cell_type": "code",
   "execution_count": null,
   "id": "e62d5042-b2fc-404f-a21a-3e86d19bdf1b",
   "metadata": {},
   "outputs": [],
   "source": [
    "# refactored 2. solution\n",
    "\n",
    "from typing import List\n",
    "\n",
    "class Solution:\n",
    "    def calPoints(self, operations: List[str]) -> int:\n",
    "        total = 0\n",
    "        stack = list()\n",
    "        for val in operations:\n",
    "            if val == \"+\":\n",
    "                val = stack[-1] + stack[-2]\n",
    "            elif val == \"D\":\n",
    "                val = stack[-1] * 2\n",
    "            elif val == \"C\":\n",
    "                val = stack.pop(-1) * -1\n",
    "            else:\n",
    "                val = int(val)\n",
    "            total += val\n",
    "            stack.append(val)\n",
    "        return total\n",
    "            \n",
    "   "
   ]
  }
 ],
 "metadata": {
  "kernelspec": {
   "display_name": "Python 3 (ipykernel)",
   "language": "python",
   "name": "python3"
  },
  "language_info": {
   "codemirror_mode": {
    "name": "ipython",
    "version": 3
   },
   "file_extension": ".py",
   "mimetype": "text/x-python",
   "name": "python",
   "nbconvert_exporter": "python",
   "pygments_lexer": "ipython3",
   "version": "3.8.10"
  }
 },
 "nbformat": 4,
 "nbformat_minor": 5
}
