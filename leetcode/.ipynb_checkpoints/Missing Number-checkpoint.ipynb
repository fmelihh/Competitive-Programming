{
 "cells": [
  {
   "cell_type": "code",
   "execution_count": 11,
   "id": "21966f84-48a4-4483-ab6b-05d25d072d4e",
   "metadata": {},
   "outputs": [],
   "source": [
    "from typing import List\n",
    "\n",
    "# solution 1\n",
    "class Solution:\n",
    "    def missingNumber(self, nums: List[int]) -> int:\n",
    "        nums = set(nums)\n",
    "        for i in range(len(nums)):\n",
    "            if i not in nums:\n",
    "                return i\n",
    "\n",
    "        return len(nums)\n",
    "        "
   ]
  },
  {
   "cell_type": "code",
   "execution_count": 16,
   "id": "8fc8d47f-12db-4f7c-b2a6-0453874ca0ff",
   "metadata": {},
   "outputs": [],
   "source": [
    "from typing import List\n",
    "\n",
    "# solution 2\n",
    "class Solution:\n",
    "    def missingNumber(self, nums: List[int]) -> int:\n",
    "        nums = set(nums)\n",
    "        for i in range(len(nums) + 1):\n",
    "            if i not in nums:\n",
    "                return i        \n",
    "        "
   ]
  },
  {
   "cell_type": "code",
   "execution_count": 17,
   "id": "6eb5e62f-ffec-4046-a81b-0b49ba27308d",
   "metadata": {},
   "outputs": [],
   "source": [
    "from typing import List\n",
    "\n",
    "# solution 3\n",
    "class Solution:\n",
    "    def missingNumber(self, nums: List[int]) -> int:\n",
    "        max = nums[0]\n",
    "        length = len(nums)\n",
    "        total = (length * (length + 1)) // 2\n",
    "        \n",
    "        for num in nums:\n",
    "            total = total - num\n",
    "            if num > max:\n",
    "                max = num\n",
    "\n",
    "        if total == 0 and max == length:\n",
    "            return 0\n",
    "        elif total == 0 and max != length:\n",
    "            return length\n",
    "        else:\n",
    "            return total\n",
    "   \n",
    "        "
   ]
  },
  {
   "cell_type": "code",
   "execution_count": null,
   "id": "28da3469-f7ce-45d9-86d7-c20627140d73",
   "metadata": {},
   "outputs": [],
   "source": [
    "from typing import List\n",
    "\n",
    "# solution 4\n",
    "class Solution:\n",
    "    def missingNumber(self, nums: List[int]) -> int:\n",
    "        length = len(nums)\n",
    "        is_contains_zero = False\n",
    "        total = (length * (length + 1)) // 2\n",
    "\n",
    "        for num in nums:\n",
    "            total = total - num\n",
    "            if num == 0:\n",
    "                is_contains_zero = True\n",
    "\n",
    "        if total == 0:\n",
    "            return length if is_contains_zero else 0\n",
    "        \n",
    "        return total\n",
    "  \n",
    "        "
   ]
  },
  {
   "cell_type": "code",
   "execution_count": 18,
   "id": "fb54ec90-95f4-4457-9fa5-b5ff77541726",
   "metadata": {},
   "outputs": [],
   "source": [
    "s = Solution()"
   ]
  },
  {
   "cell_type": "code",
   "execution_count": 19,
   "id": "aeea9cd7-7f63-49bc-bb36-8a6c20b38b6f",
   "metadata": {},
   "outputs": [
    {
     "data": {
      "text/plain": [
       "2"
      ]
     },
     "execution_count": 19,
     "metadata": {},
     "output_type": "execute_result"
    }
   ],
   "source": [
    "s.missingNumber(nums = [3,0,1]) # 2"
   ]
  },
  {
   "cell_type": "code",
   "execution_count": 20,
   "id": "8c75f72f-07c2-4c97-a514-d29f574d663f",
   "metadata": {},
   "outputs": [
    {
     "data": {
      "text/plain": [
       "2"
      ]
     },
     "execution_count": 20,
     "metadata": {},
     "output_type": "execute_result"
    }
   ],
   "source": [
    "s.missingNumber(nums = [0,1]) # 2"
   ]
  },
  {
   "cell_type": "code",
   "execution_count": 21,
   "id": "51c27660-0df7-4c89-8974-c7ae6070449b",
   "metadata": {},
   "outputs": [
    {
     "data": {
      "text/plain": [
       "8"
      ]
     },
     "execution_count": 21,
     "metadata": {},
     "output_type": "execute_result"
    }
   ],
   "source": [
    "s.missingNumber(nums = [9,6,4,2,3,5,7,0,1]) # 8"
   ]
  },
  {
   "cell_type": "code",
   "execution_count": null,
   "id": "b4c6e49c-c146-46c9-aabf-df93a88976a0",
   "metadata": {},
   "outputs": [],
   "source": []
  }
 ],
 "metadata": {
  "kernelspec": {
   "display_name": "Python 3 (ipykernel)",
   "language": "python",
   "name": "python3"
  },
  "language_info": {
   "codemirror_mode": {
    "name": "ipython",
    "version": 3
   },
   "file_extension": ".py",
   "mimetype": "text/x-python",
   "name": "python",
   "nbconvert_exporter": "python",
   "pygments_lexer": "ipython3",
   "version": "3.8.10"
  }
 },
 "nbformat": 4,
 "nbformat_minor": 5
}
