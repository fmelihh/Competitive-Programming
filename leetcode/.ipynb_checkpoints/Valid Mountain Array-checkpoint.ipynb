{
 "cells": [
  {
   "cell_type": "code",
   "execution_count": 22,
   "id": "83c91a48-3031-4085-b3d5-ea595af9113d",
   "metadata": {},
   "outputs": [],
   "source": [
    "from typing import List\n",
    "\n",
    "class Solution:\n",
    "    def validMountainArray(self, arr: List[int]) -> bool:\n",
    "        if len(arr) < 3 or arr[0] > arr[1]:\n",
    "            return False        \n",
    "\n",
    "        idx = 0\n",
    "        loc_changed = False\n",
    "        while len(arr) - 1 > idx:\n",
    "            first, second = arr[idx], arr[idx + 1]\n",
    "\n",
    "            if not loc_changed and first > second:\n",
    "                loc_changed = True\n",
    "                \n",
    "            if (first == second) or (loc_changed is False and first > second) or (loc_changed is True and second > first):\n",
    "                return False\n",
    "\n",
    "            \n",
    "    \n",
    "            idx += 1\n",
    "\n",
    "        return loc_changed"
   ]
  },
  {
   "cell_type": "code",
   "execution_count": 23,
   "id": "1dd3fbd0-9f31-483a-9b40-9388ca9e9756",
   "metadata": {},
   "outputs": [],
   "source": [
    "s = Solution()"
   ]
  },
  {
   "cell_type": "code",
   "execution_count": 24,
   "id": "b2d07a5c-5671-41ce-96a6-7e6c01e74651",
   "metadata": {},
   "outputs": [
    {
     "data": {
      "text/plain": [
       "False"
      ]
     },
     "execution_count": 24,
     "metadata": {},
     "output_type": "execute_result"
    }
   ],
   "source": [
    "s.validMountainArray(arr = [2,1]) # false"
   ]
  },
  {
   "cell_type": "code",
   "execution_count": 25,
   "id": "2956a975-a0a2-46d7-ab91-1ac0a9f4da7d",
   "metadata": {},
   "outputs": [
    {
     "data": {
      "text/plain": [
       "False"
      ]
     },
     "execution_count": 25,
     "metadata": {},
     "output_type": "execute_result"
    }
   ],
   "source": [
    "s.validMountainArray(arr = [3,5,5]) # false"
   ]
  },
  {
   "cell_type": "code",
   "execution_count": 26,
   "id": "90981639-f886-4d66-92a1-470ddf5491b3",
   "metadata": {},
   "outputs": [
    {
     "data": {
      "text/plain": [
       "True"
      ]
     },
     "execution_count": 26,
     "metadata": {},
     "output_type": "execute_result"
    }
   ],
   "source": [
    "s.validMountainArray(arr = [0,3,2,1]) # true"
   ]
  },
  {
   "cell_type": "code",
   "execution_count": null,
   "id": "08e1da47-38d9-419e-b0a0-0217aa746cac",
   "metadata": {},
   "outputs": [],
   "source": []
  }
 ],
 "metadata": {
  "kernelspec": {
   "display_name": "Python 3 (ipykernel)",
   "language": "python",
   "name": "python3"
  },
  "language_info": {
   "codemirror_mode": {
    "name": "ipython",
    "version": 3
   },
   "file_extension": ".py",
   "mimetype": "text/x-python",
   "name": "python",
   "nbconvert_exporter": "python",
   "pygments_lexer": "ipython3",
   "version": "3.8.10"
  }
 },
 "nbformat": 4,
 "nbformat_minor": 5
}
