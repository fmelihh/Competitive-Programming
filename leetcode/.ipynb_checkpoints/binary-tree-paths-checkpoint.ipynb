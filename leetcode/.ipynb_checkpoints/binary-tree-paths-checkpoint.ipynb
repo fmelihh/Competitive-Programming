{
 "cells": [
  {
   "cell_type": "code",
   "execution_count": 63,
   "id": "07ba032b-15e8-46bf-bdfb-8f097ca8e4d0",
   "metadata": {},
   "outputs": [],
   "source": [
    "from typing import Optional, List\n",
    "\n",
    "\n",
    "class TreeNode:\n",
    "    def __init__(self, val=0, left=None, right=None):\n",
    "        self.val = val\n",
    "        self.left = left\n",
    "        self.right = right\n",
    "    def __str__(self):\n",
    "        return str(self.val)\n",
    "\n",
    "class Solution:\n",
    "    def traverse_over_nodes(self, master_value: str, root: Optional[TreeNode]) -> List[str]:\n",
    "        if root is None:\n",
    "            return []\n",
    "\n",
    "        node_stack = [(root, master_value)]\n",
    "        result_list = []\n",
    "        \n",
    "        while node_stack:\n",
    "            node, path = node_stack.pop()\n",
    "            \n",
    "            # Create a new path for this node\n",
    "            current_path = f\"{path}->{node.val}\"\n",
    "            \n",
    "            # If it's a leaf node, add the current path to results\n",
    "            if not node.left and not node.right:\n",
    "                result_list.append(current_path)\n",
    "            \n",
    "            # Push the right and left children to the stack\n",
    "            if node.right:\n",
    "                node_stack.append((node.right, current_path))\n",
    "            if node.left:\n",
    "                node_stack.append((node.left, current_path))\n",
    "        return result_list\n",
    "        \n",
    "    def binaryTreePaths(self, root: Optional[TreeNode]) -> List[str]:\n",
    "        if root is None:\n",
    "            return []\n",
    "        if root.left is None and root.right is None:\n",
    "           return [str(root.val)]\n",
    "            \n",
    "        return (\n",
    "           self.traverse_over_nodes(str(root.val), root.left) \n",
    "           + self.traverse_over_nodes(str(root.val), root.right)\n",
    "        )"
   ]
  },
  {
   "cell_type": "code",
   "execution_count": null,
   "id": "1c8b50fa-6f86-487f-9638-9a5d1696f9c6",
   "metadata": {},
   "outputs": [],
   "source": []
  },
  {
   "cell_type": "code",
   "execution_count": 64,
   "id": "b04a71df-465b-4316-bd75-d17c1187aaba",
   "metadata": {},
   "outputs": [],
   "source": [
    "test_value = TreeNode(val=1)\n",
    "test_value.left = TreeNode(val=3)\n",
    "test_value.right = TreeNode(val=10)\n",
    "\n",
    "test_value.left.left = TreeNode(val=15)\n",
    "test_value.left.right = TreeNode(val=25)"
   ]
  },
  {
   "cell_type": "code",
   "execution_count": 65,
   "id": "6185b4dd-a5d5-4057-9e77-1a899f99ddfc",
   "metadata": {},
   "outputs": [
    {
     "data": {
      "text/plain": [
       "['1->3->15', '1->3->25', '1->10']"
      ]
     },
     "execution_count": 65,
     "metadata": {},
     "output_type": "execute_result"
    }
   ],
   "source": [
    "Solution().binaryTreePaths(root=test_value)"
   ]
  },
  {
   "cell_type": "code",
   "execution_count": null,
   "id": "44882217-9e57-4f7c-91a7-54e090fa7e71",
   "metadata": {},
   "outputs": [],
   "source": []
  },
  {
   "cell_type": "code",
   "execution_count": null,
   "id": "9a5f0edc-64d7-422c-8d87-862375d65b24",
   "metadata": {},
   "outputs": [],
   "source": []
  }
 ],
 "metadata": {
  "kernelspec": {
   "display_name": "Python 3 (ipykernel)",
   "language": "python",
   "name": "python3"
  },
  "language_info": {
   "codemirror_mode": {
    "name": "ipython",
    "version": 3
   },
   "file_extension": ".py",
   "mimetype": "text/x-python",
   "name": "python",
   "nbconvert_exporter": "python",
   "pygments_lexer": "ipython3",
   "version": "3.11.8"
  }
 },
 "nbformat": 4,
 "nbformat_minor": 5
}
