{
 "cells": [
  {
   "cell_type": "code",
   "execution_count": null,
   "id": "95499a7c-167f-4733-a5e8-1a39ce181a89",
   "metadata": {},
   "outputs": [],
   "source": [
    "from typing import Optional, List\n",
    "\n",
    "# Definition for a binary tree node.\n",
    "class TreeNode:\n",
    "    def __init__(self, val=0, left=None, right=None):\n",
    "        self.val = val\n",
    "        self.left = left\n",
    "        self.right = right\n",
    "        \n",
    "class Solution:\n",
    "    def postorderTraversal(self, root: Optional[TreeNode]) -> List[int]:\n",
    "        if not root:\n",
    "            return []\n",
    "        \n",
    "        s1 = [root]\n",
    "        s2 = []\n",
    "        \n",
    "        while s1:\n",
    "            node = s1.pop()\n",
    "            s2.append(node)\n",
    "            \n",
    "            if node.left:\n",
    "                s1.append(node.left)\n",
    "            if node.right:\n",
    "                s1.append(node.right)\n",
    "\n",
    "        values = []\n",
    "        while s2:\n",
    "            node = s2.pop()\n",
    "            values.append(node.val)\n",
    "        return values"
   ]
  }
 ],
 "metadata": {
  "kernelspec": {
   "display_name": "Python 3 (ipykernel)",
   "language": "python",
   "name": "python3"
  },
  "language_info": {
   "codemirror_mode": {
    "name": "ipython",
    "version": 3
   },
   "file_extension": ".py",
   "mimetype": "text/x-python",
   "name": "python",
   "nbconvert_exporter": "python",
   "pygments_lexer": "ipython3",
   "version": "3.11.8"
  }
 },
 "nbformat": 4,
 "nbformat_minor": 5
}
