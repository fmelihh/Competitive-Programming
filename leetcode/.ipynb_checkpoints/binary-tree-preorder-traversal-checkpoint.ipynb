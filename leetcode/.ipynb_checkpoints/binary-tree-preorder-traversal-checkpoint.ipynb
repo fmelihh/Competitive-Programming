{
 "cells": [
  {
   "cell_type": "code",
   "execution_count": 1,
   "id": "90bd0c70-0ffb-4ca5-b701-b740a8ca2f56",
   "metadata": {},
   "outputs": [],
   "source": [
    "# https://leetcode.com/problems/binary-tree-preorder-traversal/description/"
   ]
  },
  {
   "cell_type": "code",
   "execution_count": 2,
   "id": "33c14291-a511-43ac-ae8e-65de76c0c90f",
   "metadata": {},
   "outputs": [],
   "source": [
    "from typing import Optional, List\n",
    "# Definition for a binary tree node.\n",
    "class TreeNode:\n",
    " def __init__(self, val=0, left=None, right=None):\n",
    "     self.val = val\n",
    "     self.left = left\n",
    "     self.right = right\n",
    "\n",
    "class Solution:\n",
    "    def preorderTraversal(self, root: Optional[TreeNode]) -> List[int]:\n",
    "        if root is None:\n",
    "            return []\n",
    "        \n",
    "        valueStack = []\n",
    "        nodeStack = [root]\n",
    "        \n",
    "        while len(nodeStack) > 0:\n",
    "            node = nodeStack.pop()\n",
    "            valueStack.append(node.val)\n",
    "            \n",
    "            if node.right:\n",
    "                nodeStack.append(node.right)\n",
    "            if node.left:\n",
    "                nodeStack.append(node.left)\n",
    "                \n",
    "\n",
    "        return valueStack\n",
    "                \n",
    "            "
   ]
  },
  {
   "cell_type": "code",
   "execution_count": null,
   "id": "8d85c455-3405-4a1f-b6fc-408574d540a7",
   "metadata": {},
   "outputs": [],
   "source": []
  }
 ],
 "metadata": {
  "kernelspec": {
   "display_name": "Python 3 (ipykernel)",
   "language": "python",
   "name": "python3"
  },
  "language_info": {
   "codemirror_mode": {
    "name": "ipython",
    "version": 3
   },
   "file_extension": ".py",
   "mimetype": "text/x-python",
   "name": "python",
   "nbconvert_exporter": "python",
   "pygments_lexer": "ipython3",
   "version": "3.11.8"
  }
 },
 "nbformat": 4,
 "nbformat_minor": 5
}
