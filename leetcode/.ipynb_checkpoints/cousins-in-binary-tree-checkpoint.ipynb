{
 "cells": [
  {
   "cell_type": "code",
   "execution_count": 1,
   "id": "f4d0b701-971c-4246-8a4a-d5744f59ebf0",
   "metadata": {},
   "outputs": [],
   "source": [
    "from typing import Optional\n",
    "\n",
    "# Definition for a binary tree node.\n",
    "class TreeNode:\n",
    "    def __init__(self, val=0, left=None, right=None):\n",
    "         self.val = val\n",
    "         self.left = left\n",
    "         self.right = right\n",
    "        \n",
    "class Solution:        \n",
    "    def isCousins(self, root: Optional[TreeNode], x: int, y: int) -> bool:\n",
    "        def dfs(node, parent, depth, val):\n",
    "            if not node:\n",
    "                return None\n",
    "            if node.val == val:\n",
    "                return (depth, parent)\n",
    "\n",
    "            left = dfs(node.left, node, depth + 1, val)\n",
    "            if left:\n",
    "                return left\n",
    "\n",
    "            return dfs(node.right, node, depth + 1, val)\n",
    "\n",
    "        x_info = dfs(root, None, 0, x)\n",
    "        y_info = dfs(root, None, 0, y)\n",
    "\n",
    "        if x_info and y_info:\n",
    "            return x_info[0] == y_info[0] and x_info[1] != y_info[1]\n",
    "\n",
    "        return False\n",
    "            \n",
    "        "
   ]
  },
  {
   "cell_type": "code",
   "execution_count": 2,
   "id": "861bd8c4-549c-45af-b886-919fbfbcf5c0",
   "metadata": {},
   "outputs": [],
   "source": [
    "node = TreeNode(val=1)\n",
    "node.left = TreeNode(val=3)\n",
    "node.left.left = TreeNode(val=4)"
   ]
  },
  {
   "cell_type": "code",
   "execution_count": 3,
   "id": "92986b7d-8247-4636-9dcf-6664fa49fee9",
   "metadata": {},
   "outputs": [],
   "source": [
    "node2 = TreeNode(val=1)\n",
    "node2.left = TreeNode(val=3)\n",
    "node2.left.left = TreeNode(val=4)\n",
    "node2.right = TreeNode(val=3)"
   ]
  },
  {
   "cell_type": "code",
   "execution_count": 4,
   "id": "93b1feab-5563-49aa-9e0e-04385a3dc71b",
   "metadata": {},
   "outputs": [
    {
     "ename": "AttributeError",
     "evalue": "'Solution' object has no attribute 'findAndRetrieveGivenNode'",
     "output_type": "error",
     "traceback": [
      "\u001b[0;31m---------------------------------------------------------------------------\u001b[0m",
      "\u001b[0;31mAttributeError\u001b[0m                            Traceback (most recent call last)",
      "Cell \u001b[0;32mIn[4], line 1\u001b[0m\n\u001b[0;32m----> 1\u001b[0m \u001b[43mSolution\u001b[49m\u001b[43m(\u001b[49m\u001b[43m)\u001b[49m\u001b[38;5;241;43m.\u001b[39;49m\u001b[43mfindAndRetrieveGivenNode\u001b[49m(node, \u001b[38;5;241m3\u001b[39m)\u001b[38;5;241m.\u001b[39mleft\u001b[38;5;241m.\u001b[39mval\n",
      "\u001b[0;31mAttributeError\u001b[0m: 'Solution' object has no attribute 'findAndRetrieveGivenNode'"
     ]
    }
   ],
   "source": [
    "Solution().findAndRetrieveGivenNode(node, 3).left.val"
   ]
  },
  {
   "cell_type": "code",
   "execution_count": 46,
   "id": "4a612ae2-e0c7-4f67-ab2c-6cb437a56b5b",
   "metadata": {},
   "outputs": [
    {
     "data": {
      "text/plain": [
       "0"
      ]
     },
     "execution_count": 46,
     "metadata": {},
     "output_type": "execute_result"
    }
   ],
   "source": [
    "Solution().calculateDepth(node)"
   ]
  },
  {
   "cell_type": "code",
   "execution_count": 47,
   "id": "b9884564-430e-4a10-a28c-f88d1d5d65c4",
   "metadata": {},
   "outputs": [
    {
     "data": {
      "text/plain": [
       "False"
      ]
     },
     "execution_count": 47,
     "metadata": {},
     "output_type": "execute_result"
    }
   ],
   "source": [
    "Solution().checkIsSameTrees(node, node2)"
   ]
  },
  {
   "cell_type": "code",
   "execution_count": null,
   "id": "4ef80751-e35f-4e4c-a073-a94ba8021ba4",
   "metadata": {},
   "outputs": [],
   "source": []
  },
  {
   "cell_type": "code",
   "execution_count": null,
   "id": "59250d00-3521-421d-b4a0-7b44a448aac9",
   "metadata": {},
   "outputs": [],
   "source": []
  }
 ],
 "metadata": {
  "kernelspec": {
   "display_name": "Python 3 (ipykernel)",
   "language": "python",
   "name": "python3"
  },
  "language_info": {
   "codemirror_mode": {
    "name": "ipython",
    "version": 3
   },
   "file_extension": ".py",
   "mimetype": "text/x-python",
   "name": "python",
   "nbconvert_exporter": "python",
   "pygments_lexer": "ipython3",
   "version": "3.11.5"
  }
 },
 "nbformat": 4,
 "nbformat_minor": 5
}
