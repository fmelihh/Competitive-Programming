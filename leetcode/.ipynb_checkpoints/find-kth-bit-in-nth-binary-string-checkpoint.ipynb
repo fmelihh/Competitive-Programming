{
 "cells": [
  {
   "cell_type": "code",
   "execution_count": 43,
   "id": "ef096af8-2573-431a-93c1-a97bc8b12003",
   "metadata": {},
   "outputs": [],
   "source": [
    "class Solution:\n",
    "    def findKthBit(self, n: int, k: int) -> str:\n",
    "        sn = \"0\"\n",
    "        if n == 1 and k==1:\n",
    "            return sn\n",
    "\n",
    "        for i in range(1, n):\n",
    "            sn += bin(i - 1)[2:] + \"1\"\n",
    "            if len(sn) >= k:\n",
    "                return sn[k - 1]\n",
    "                \n",
    "            sn += ''.join(list(reversed([\"0\" if element == \"1\" else \"1\" for element in bin(i - 1)[2:]])))\n",
    "            if len(sn) >= k:\n",
    "                return sn[k - 1]\n",
    "\n",
    "            print(sn)\n",
    "\n",
    "        if len(sn) >= k:\n",
    "            return sn[k - 1]\n",
    "                     "
   ]
  },
  {
   "cell_type": "code",
   "execution_count": 44,
   "id": "04799e91-3c21-4c9b-b71e-029a9f6e51db",
   "metadata": {},
   "outputs": [
    {
     "name": "stdout",
     "output_type": "stream",
     "text": [
      "0011\n"
     ]
    },
    {
     "data": {
      "text/plain": [
       "'1'"
      ]
     },
     "execution_count": 44,
     "metadata": {},
     "output_type": "execute_result"
    }
   ],
   "source": [
    "Solution().findKthBit(3, 5)"
   ]
  },
  {
   "cell_type": "code",
   "execution_count": 40,
   "id": "61e37c5d-5d57-4a91-ac6c-c39dc43decf5",
   "metadata": {},
   "outputs": [
    {
     "data": {
      "text/plain": [
       "'101'"
      ]
     },
     "execution_count": 40,
     "metadata": {},
     "output_type": "execute_result"
    }
   ],
   "source": [
    "bin(5)[2:]"
   ]
  },
  {
   "cell_type": "code",
   "execution_count": null,
   "id": "b313d8c3-cbf0-4bb3-9604-7f904d5a566b",
   "metadata": {},
   "outputs": [],
   "source": [
    "\"aaa\""
   ]
  }
 ],
 "metadata": {
  "kernelspec": {
   "display_name": "Python 3 (ipykernel)",
   "language": "python",
   "name": "python3"
  },
  "language_info": {
   "codemirror_mode": {
    "name": "ipython",
    "version": 3
   },
   "file_extension": ".py",
   "mimetype": "text/x-python",
   "name": "python",
   "nbconvert_exporter": "python",
   "pygments_lexer": "ipython3",
   "version": "3.11.5"
  }
 },
 "nbformat": 4,
 "nbformat_minor": 5
}
