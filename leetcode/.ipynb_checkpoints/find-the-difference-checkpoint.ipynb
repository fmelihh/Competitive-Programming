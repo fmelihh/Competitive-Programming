{
 "cells": [
  {
   "cell_type": "code",
   "execution_count": 27,
   "id": "21700ce0-5cb2-45b1-8592-ea6b1823e3fb",
   "metadata": {},
   "outputs": [],
   "source": [
    "class Solution:\n",
    "    def findTheDifference(self, s: str, t: str) -> str:\n",
    "        s_hashmap = dict()\n",
    "        t_hashmap = dict()\n",
    "\n",
    "        for let in s:\n",
    "            if let not in s_hashmap:\n",
    "                s_hashmap[let] = 0\n",
    "            s_hashmap[let] += 1\n",
    "\n",
    "        for let in t:\n",
    "            if let not in t_hashmap:\n",
    "                t_hashmap[let] = 0\n",
    "            t_hashmap[let] += 1\n",
    "\n",
    "        for key in t_hashmap:\n",
    "            if (key not in s_hashmap) or (t_hashmap[key] != s_hashmap[key]):\n",
    "                return key\n",
    "            "
   ]
  },
  {
   "cell_type": "code",
   "execution_count": 28,
   "id": "7c0d629f-97cb-4b3a-a6a1-a4df0d83511b",
   "metadata": {},
   "outputs": [],
   "source": [
    "s = Solution()"
   ]
  },
  {
   "cell_type": "code",
   "execution_count": 29,
   "id": "d302d447-5bda-45ad-9493-64db0ce04b0c",
   "metadata": {},
   "outputs": [
    {
     "name": "stdout",
     "output_type": "stream",
     "text": [
      "{'a': 1, 'b': 1, 'c': 1, 'd': 1} a\n",
      "{'a': 1, 'b': 1, 'c': 1, 'd': 1} b\n",
      "{'a': 1, 'b': 1, 'c': 1, 'd': 1} c\n",
      "{'a': 1, 'b': 1, 'c': 1, 'd': 1} d\n",
      "{'a': 1, 'b': 1, 'c': 1, 'd': 1} e\n"
     ]
    },
    {
     "data": {
      "text/plain": [
       "'e'"
      ]
     },
     "execution_count": 29,
     "metadata": {},
     "output_type": "execute_result"
    }
   ],
   "source": [
    "s.findTheDifference(s = \"abcd\", t = \"abcde\")"
   ]
  },
  {
   "cell_type": "code",
   "execution_count": null,
   "id": "91c3e5b3-928a-459a-9533-abae76f92c80",
   "metadata": {},
   "outputs": [],
   "source": []
  }
 ],
 "metadata": {
  "kernelspec": {
   "display_name": "Python 3 (ipykernel)",
   "language": "python",
   "name": "python3"
  },
  "language_info": {
   "codemirror_mode": {
    "name": "ipython",
    "version": 3
   },
   "file_extension": ".py",
   "mimetype": "text/x-python",
   "name": "python",
   "nbconvert_exporter": "python",
   "pygments_lexer": "ipython3",
   "version": "3.11.5"
  }
 },
 "nbformat": 4,
 "nbformat_minor": 5
}
