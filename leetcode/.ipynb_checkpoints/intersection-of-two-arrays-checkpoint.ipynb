{
 "cells": [
  {
   "cell_type": "code",
   "execution_count": 8,
   "id": "20f436d9-394a-49e0-a5e1-a5f478358ed7",
   "metadata": {},
   "outputs": [],
   "source": [
    "from typing import List\n",
    "\n",
    "class Solution:\n",
    "    def merge_sort(self, arr: List[int]):\n",
    "        if len(arr) <= 1:\n",
    "            return arr\n",
    "        mid = len(arr) // 2\n",
    "        \n",
    "        left = self.merge_sort(arr[:mid])\n",
    "        right = self.merge_sort(arr[mid:])\n",
    "        \n",
    "        return self.merge(left, right)\n",
    "        \n",
    "    def merge(self, left: List[int], right: List[int]) -> List[int]:\n",
    "        result = []\n",
    "        i = 0\n",
    "        j = 0\n",
    "        while i < len(left) and j < len(right):\n",
    "            if left[i] < right[j]:\n",
    "                result.append(left[i])\n",
    "                i += 1\n",
    "            else:\n",
    "                result.append(right[j])\n",
    "                j += 1\n",
    "\n",
    "        result.extend(left[i:])\n",
    "        result.extend(right[j:])\n",
    "        return result\n",
    "        \n",
    "    def intersection(self, nums1: List[int], nums2: List[int]) -> List[int]:\n",
    "        nums1 = self.merge_sort(nums1)\n",
    "        nums2 = self.merge_sort(nums2)\n",
    "\n",
    "        results = set()\n",
    "        p1 = 0\n",
    "        p2 = 0\n",
    "        \n",
    "        while p1 < len(nums1) and p2 < len(nums2):\n",
    "            if nums1[p1] == nums2[p2]:\n",
    "                results.add(nums1[p1])\n",
    "                p1 += 1\n",
    "                p2 += 1\n",
    "            elif nums1[p1] > nums2[p2]:\n",
    "                p2 += 1\n",
    "            else:\n",
    "                p1 += 1\n",
    "\n",
    "        return list(results)\n",
    "                \n",
    "            \n",
    "        \n",
    "        "
   ]
  },
  {
   "cell_type": "code",
   "execution_count": 9,
   "id": "2fa01d62-a7ea-4f43-978d-53770f30593b",
   "metadata": {},
   "outputs": [],
   "source": [
    "s = Solution()"
   ]
  },
  {
   "cell_type": "code",
   "execution_count": 10,
   "id": "b5fc39cd-eb8e-4734-b350-dba34551399f",
   "metadata": {},
   "outputs": [
    {
     "data": {
      "text/plain": [
       "[2]"
      ]
     },
     "execution_count": 10,
     "metadata": {},
     "output_type": "execute_result"
    }
   ],
   "source": [
    "s.intersection(nums1 = [1,2,2,1], nums2 = [2,2])"
   ]
  },
  {
   "cell_type": "code",
   "execution_count": null,
   "id": "5827d070-4434-49fa-8f13-97b8ae18c80e",
   "metadata": {},
   "outputs": [],
   "source": []
  }
 ],
 "metadata": {
  "kernelspec": {
   "display_name": "Python 3 (ipykernel)",
   "language": "python",
   "name": "python3"
  },
  "language_info": {
   "codemirror_mode": {
    "name": "ipython",
    "version": 3
   },
   "file_extension": ".py",
   "mimetype": "text/x-python",
   "name": "python",
   "nbconvert_exporter": "python",
   "pygments_lexer": "ipython3",
   "version": "3.11.5"
  }
 },
 "nbformat": 4,
 "nbformat_minor": 5
}
