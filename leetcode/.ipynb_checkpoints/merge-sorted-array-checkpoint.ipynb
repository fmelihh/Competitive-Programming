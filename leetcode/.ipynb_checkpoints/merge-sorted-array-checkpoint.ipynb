{
 "cells": [
  {
   "cell_type": "code",
   "execution_count": null,
   "id": "initial_id",
   "metadata": {},
   "outputs": [],
   "source": [
    "class Solution:\n",
    "    def merge(self, nums1: List[int], m: int, nums2: List[int], n: int) -> None:\n",
    "        nums2_pointer = 0\n",
    "        nums1_pointer = len(nums1) - 1\n",
    "\n",
    "        while nums1_pointer >= 0 or nums2_pointer < len(nums1)\n",
    "        "
   ]
  },
  {
   "cell_type": "code",
   "execution_count": null,
   "id": "b17b7c5a-a625-452f-be92-aa9d7d6c2b33",
   "metadata": {},
   "outputs": [],
   "source": []
  },
  {
   "cell_type": "code",
   "execution_count": null,
   "id": "8f03eae5-5e42-4f6f-80f2-19348ee8696d",
   "metadata": {},
   "outputs": [],
   "source": []
  },
  {
   "cell_type": "code",
   "execution_count": 31,
   "id": "b33ce297-d247-4cac-911d-14bdab803dd8",
   "metadata": {},
   "outputs": [],
   "source": [
    "class Solution(object):\n",
    "    def merge(self, nums1, m, nums2, n):\n",
    "        if len(nums1) + len(nums2) < 2:\n",
    "            return nums1 if len(nums1) != 0 else nums2\n",
    "\n",
    "        nums1_index = m\n",
    "        while nums1_index < len(nums1):\n",
    "            if nums1[nums1_index] == 0:\n",
    "                nums1.pop(nums1_index)\n",
    "            else:\n",
    "                nums1_index += 1\n",
    "\n",
    "        nums1.extend(nums2)\n",
    "        sorted_arr = self.merge_sort(nums1)\n",
    "        \n",
    "        while len(nums1) > 0:\n",
    "            nums1.pop()\n",
    "        \n",
    "        for element in sorted_arr:\n",
    "            nums1.append(element)\n",
    "        \n",
    "    def merge_sort(self, arr: list):\n",
    "        if len(arr) < 2:\n",
    "            return arr\n",
    "\n",
    "        mid = len(arr) // 2\n",
    "        \n",
    "        left = arr[:mid]\n",
    "        right = arr[mid:]\n",
    "\n",
    "        return self._merge(\n",
    "            self.merge_sort(left),\n",
    "            self.merge_sort(right)\n",
    "        )\n",
    "        \n",
    "    def _merge(self, left: list, right: list):\n",
    "        res = []\n",
    "        \n",
    "        left_index = 0\n",
    "        right_index = 0\n",
    "\n",
    "        while left_index < len(left) and right_index < len(right):\n",
    "            if left[left_index] < right[right_index]:\n",
    "                res.append(left[left_index])\n",
    "                left_index += 1\n",
    "            else:\n",
    "                res.append(right[right_index])\n",
    "                right_index += 1\n",
    "\n",
    "        res.extend(left[left_index:])\n",
    "        res.extend(right[right_index:])\n",
    "\n",
    "        return res\n",
    "        "
   ]
  },
  {
   "cell_type": "code",
   "execution_count": 32,
   "id": "318f9525-ea1d-488d-9d13-9a66a5e94da5",
   "metadata": {},
   "outputs": [
    {
     "data": {
      "text/plain": [
       "[1, 2, 3]"
      ]
     },
     "execution_count": 32,
     "metadata": {},
     "output_type": "execute_result"
    }
   ],
   "source": [
    "[1,2,3,0,0,0][:3]"
   ]
  },
  {
   "cell_type": "code",
   "execution_count": 20,
   "id": "b4e03e32-3bb7-4590-95f3-f8528032acdf",
   "metadata": {},
   "outputs": [],
   "source": [
    "arr = [1,2,3,4,5]"
   ]
  },
  {
   "cell_type": "code",
   "execution_count": 28,
   "id": "ae3d2792-469b-4b0e-96d0-9c89a598d69d",
   "metadata": {},
   "outputs": [],
   "source": [
    "arr[-3:] = [0]*3"
   ]
  },
  {
   "cell_type": "code",
   "execution_count": 29,
   "id": "9c8ec3b0-a37e-4d2b-8e38-6e0d6827a789",
   "metadata": {},
   "outputs": [
    {
     "data": {
      "text/plain": [
       "[1, 2, 0, 0, 0]"
      ]
     },
     "execution_count": 29,
     "metadata": {},
     "output_type": "execute_result"
    }
   ],
   "source": [
    "arr"
   ]
  },
  {
   "cell_type": "code",
   "execution_count": null,
   "id": "4b46d4b1-d064-4be4-96fb-227e91c1177a",
   "metadata": {},
   "outputs": [],
   "source": []
  },
  {
   "cell_type": "markdown",
   "id": "ea865a65-42a5-4634-a10f-17a4d92d1956",
   "metadata": {},
   "source": [
    "# MERGE SORT (space complexity n, time complexity nlogn)"
   ]
  },
  {
   "cell_type": "code",
   "execution_count": 15,
   "id": "a5fd841c-3e63-45eb-a92a-795ca5285270",
   "metadata": {},
   "outputs": [],
   "source": [
    "def merge_sort(array: list):\n",
    "    if len(array) < 2:\n",
    "        return array\n",
    "\n",
    "    middle = len(array) // 2\n",
    "    left = array[:middle]\n",
    "    right = array[middle:]\n",
    "\n",
    "    return _merge(\n",
    "        merge_sort(left), \n",
    "        merge_sort(right)\n",
    "    )"
   ]
  },
  {
   "cell_type": "code",
   "execution_count": 18,
   "id": "239bc480-0b79-4fcc-94fd-3de77ba4a8e2",
   "metadata": {},
   "outputs": [],
   "source": [
    "def _merge(left: list, right: list):\n",
    "    res = []\n",
    "    index_left = 0\n",
    "    index_right = 0\n",
    "    \n",
    "    while index_left < len(left) and index_right < len(right):\n",
    "        if (left[index_left] < right[index_right]):\n",
    "            res.append(left[index_left])\n",
    "            index_left += 1\n",
    "        else:\n",
    "            res.append(right[index_right])\n",
    "            index_right += 1\n",
    "\n",
    "    res.extend(left[index_left:])\n",
    "    res.extend(right[index_right:])     \n",
    "    \n",
    "    return res"
   ]
  },
  {
   "cell_type": "code",
   "execution_count": 33,
   "id": "28009594-9ffb-48da-a087-f3b64fcea687",
   "metadata": {},
   "outputs": [
    {
     "name": "stdout",
     "output_type": "stream",
     "text": [
      "[2] 1\n",
      "[3] 0\n",
      "[1] 1\n",
      "[2, 3] 0\n",
      "[5] 1\n",
      "[6] 0\n",
      "[2] 1\n",
      "[5, 6] 0\n",
      "[1, 2, 3] 3\n",
      "[2, 5, 6] 1\n"
     ]
    },
    {
     "data": {
      "text/plain": [
       "[1, 2, 2, 3, 5, 6]"
      ]
     },
     "execution_count": 33,
     "metadata": {},
     "output_type": "execute_result"
    }
   ],
   "source": [
    "merge_sort([1,2,3] + [2,5,6])"
   ]
  },
  {
   "cell_type": "code",
   "execution_count": null,
   "id": "4dd56c9a-1d5a-4b46-8786-896994153b06",
   "metadata": {},
   "outputs": [],
   "source": []
  }
 ],
 "metadata": {
  "kernelspec": {
   "display_name": "Python 3 (ipykernel)",
   "language": "python",
   "name": "python3"
  },
  "language_info": {
   "codemirror_mode": {
    "name": "ipython",
    "version": 3
   },
   "file_extension": ".py",
   "mimetype": "text/x-python",
   "name": "python",
   "nbconvert_exporter": "python",
   "pygments_lexer": "ipython3",
   "version": "3.8.10"
  }
 },
 "nbformat": 4,
 "nbformat_minor": 5
}
