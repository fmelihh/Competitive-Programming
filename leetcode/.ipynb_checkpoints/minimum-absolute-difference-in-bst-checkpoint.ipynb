{
 "cells": [
  {
   "cell_type": "code",
   "execution_count": 2,
   "id": "4069d895-1c92-47f9-bd01-36a329720a5f",
   "metadata": {},
   "outputs": [],
   "source": [
    "from typing import Optional\n",
    "\n",
    "# Definition for a binary tree node.\n",
    "class TreeNode:\n",
    " def __init__(self, val=0, left=None, right=None):\n",
    "    self.val = val\n",
    "    self.left = left\n",
    "    self.right = right\n",
    "     \n",
    "class Solution:\n",
    "    def getMinimumDifference(self, root: Optional[TreeNode]) -> int:\n",
    "        if root is None:\n",
    "            return 0\n",
    "            \n",
    "        values = []\n",
    "        def in_order_traversal(node):            \n",
    "            if node:\n",
    "                in_order_traversal(node.left)\n",
    "                values.append(node.val)\n",
    "                in_order_traversal(node.right)\n",
    "\n",
    "        in_order_traversal(root)\n",
    "\n",
    "        min_diff = (10 ** 5) + 1\n",
    "        \n",
    "        length = len(values)\n",
    "        for idx in range(length):\n",
    "            if length > idx + 1:\n",
    "                min_diff = min(abs(values[idx] - values[idx + 1]), min_diff)\n",
    "            \n",
    "        return min_diff\n",
    "        "
   ]
  },
  {
   "cell_type": "code",
   "execution_count": 3,
   "id": "e87f4e6a-18ab-46c1-adfb-bd55811512da",
   "metadata": {},
   "outputs": [],
   "source": [
    "import math"
   ]
  },
  {
   "cell_type": "code",
   "execution_count": 5,
   "id": "e1d552c7-a986-4752-9693-a4c5efbc9196",
   "metadata": {},
   "outputs": [
    {
     "data": {
      "text/plain": [
       "2"
      ]
     },
     "execution_count": 5,
     "metadata": {},
     "output_type": "execute_result"
    }
   ],
   "source": [
    "abs(1 -3)"
   ]
  },
  {
   "cell_type": "code",
   "execution_count": null,
   "id": "d121b0e8-8a6e-49a8-ba6a-c199a708d9f9",
   "metadata": {},
   "outputs": [],
   "source": []
  }
 ],
 "metadata": {
  "kernelspec": {
   "display_name": "Python 3 (ipykernel)",
   "language": "python",
   "name": "python3"
  },
  "language_info": {
   "codemirror_mode": {
    "name": "ipython",
    "version": 3
   },
   "file_extension": ".py",
   "mimetype": "text/x-python",
   "name": "python",
   "nbconvert_exporter": "python",
   "pygments_lexer": "ipython3",
   "version": "3.11.5"
  }
 },
 "nbformat": 4,
 "nbformat_minor": 5
}
