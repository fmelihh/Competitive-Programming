{
 "cells": [
  {
   "cell_type": "code",
   "execution_count": null,
   "id": "f4789900-5a2e-4252-a31b-db16402e0d1a",
   "metadata": {},
   "outputs": [],
   "source": [
    "from typing import Optional\n",
    "\n",
    "# Definition for a binary tree node.\n",
    "class TreeNode:\n",
    "    def __init__(self, val=0, left=None, right=None):\n",
    "         self.val = val\n",
    "         self.left = left\n",
    "         self.right = right\n",
    "        \n",
    "class Solution:\n",
    "    def hasPathSum(self, root: Optional[TreeNode], targetSum: int) -> bool:\n",
    "        if root is None:\n",
    "            return False\n",
    "            \n",
    "        ans = False\n",
    "        subSum = targetSum - root.val\n",
    "\n",
    "        if (subSum == 0 and root.left is None and root.right is None):\n",
    "            return True\n",
    "\n",
    "        if root.left is not None:\n",
    "            ans = ans or self.hasPathSum(root.left, subSum)\n",
    "        if root.right is not None:\n",
    "            ans = ans or self.hasPathSum(root.right, subSum)\n",
    "\n",
    "        return ans\n",
    "        \n",
    "        "
   ]
  }
 ],
 "metadata": {
  "kernelspec": {
   "display_name": "Python 3 (ipykernel)",
   "language": "python",
   "name": "python3"
  },
  "language_info": {
   "codemirror_mode": {
    "name": "ipython",
    "version": 3
   },
   "file_extension": ".py",
   "mimetype": "text/x-python",
   "name": "python",
   "nbconvert_exporter": "python",
   "pygments_lexer": "ipython3",
   "version": "3.11.8"
  }
 },
 "nbformat": 4,
 "nbformat_minor": 5
}
