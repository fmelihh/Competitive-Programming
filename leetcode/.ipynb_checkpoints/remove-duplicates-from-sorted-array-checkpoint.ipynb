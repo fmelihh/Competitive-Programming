{
 "cells": [
  {
   "cell_type": "code",
   "execution_count": null,
   "id": "ac55cef7-0790-4fd0-9d18-5307791d3fe8",
   "metadata": {},
   "outputs": [],
   "source": [
    "# ttps://leetcode.com/problems/remove-duplicates-from-sorted-array/"
   ]
  },
  {
   "cell_type": "code",
   "execution_count": 3,
   "id": "6bee039f-c8ee-4e67-ada0-9e255285e91a",
   "metadata": {},
   "outputs": [],
   "source": [
    "from typing import List\n",
    "\n",
    "class Solution:\n",
    "    def removeDuplicates(self, nums: List[int]) -> int:\n",
    "        if len(nums) == 0:\n",
    "            return 0\n",
    "s\n",
    "        idx = 0\n",
    "        hashset = set()\n",
    "        while len(nums) > idx:\n",
    "            if nums[idx] in hashset:\n",
    "                nums.pop(idx)\n",
    "            else:\n",
    "                hashset.add(nums[idx])\n",
    "                idx += 1\n",
    "                \n",
    "        return len(nums)\n",
    "            "
   ]
  },
  {
   "cell_type": "code",
   "execution_count": null,
   "id": "05866a46-b427-415d-824f-dff627ebb710",
   "metadata": {},
   "outputs": [],
   "source": []
  }
 ],
 "metadata": {
  "kernelspec": {
   "display_name": "Python 3 (ipykernel)",
   "language": "python",
   "name": "python3"
  },
  "language_info": {
   "codemirror_mode": {
    "name": "ipython",
    "version": 3
   },
   "file_extension": ".py",
   "mimetype": "text/x-python",
   "name": "python",
   "nbconvert_exporter": "python",
   "pygments_lexer": "ipython3",
   "version": "3.11.8"
  }
 },
 "nbformat": 4,
 "nbformat_minor": 5
}
