{
 "cells": [
  {
   "cell_type": "code",
   "execution_count": 4,
   "id": "420568fa-16d4-43af-aaf6-0d78433a0d94",
   "metadata": {},
   "outputs": [
    {
     "ename": "SyntaxError",
     "evalue": "expected ':' (1835705451.py, line 11)",
     "output_type": "error",
     "traceback": [
      "\u001b[0;36m  Cell \u001b[0;32mIn[4], line 11\u001b[0;36m\u001b[0m\n\u001b[0;31m    class Solution\u001b[0m\n\u001b[0m                  ^\u001b[0m\n\u001b[0;31mSyntaxError\u001b[0m\u001b[0;31m:\u001b[0m expected ':'\n"
     ]
    }
   ],
   "source": [
    "# https://leetcode.com/problems/same-tree/description\n",
    "\n",
    "from typing import Optional\n",
    "\n",
    "class TreeNode:\n",
    "     def __init__(self, val=0, left=None, right=None):\n",
    "         self.val = val\n",
    "         self.left = left\n",
    "         self.right = right\n",
    "    \n",
    "cclass Solution:\n",
    "\n",
    "    def preOrderTraversal(self, node: Optional[TreeNode]) -> List[int]:\n",
    "        res = []\n",
    "        if node is not None:\n",
    "            res.append(node.val)\n",
    "            res.extend(self.preOrderTraversal(node.left))\n",
    "            res.extend(self.preOrderTraversal(node.right))\n",
    "        else:\n",
    "            res.append(None)\n",
    "\n",
    "        return res\n",
    "\n",
    "            \n",
    "    def isSameTree(self, p: Optional[TreeNode], q: Optional[TreeNode]) -> bool:\n",
    "    \n",
    "        \n",
    "        p_vals = self.preOrderTraversal(p)\n",
    "        q_vals = self.preOrderTraversal(q)\n",
    "\n",
    "        if len(p_vals) != len(q_vals):\n",
    "            return False\n",
    "\n",
    "        for p_val, q_val in zip(p_vals, q_vals):\n",
    "            if p_val != q_val:\n",
    "                return False\n",
    "\n",
    "        return True\n",
    "            \n",
    "        "
   ]
  },
  {
   "cell_type": "code",
   "execution_count": null,
   "id": "c517bb94-f364-4bdc-9ef3-0c994f14450c",
   "metadata": {},
   "outputs": [],
   "source": []
  }
 ],
 "metadata": {
  "kernelspec": {
   "display_name": "Python 3 (ipykernel)",
   "language": "python",
   "name": "python3"
  },
  "language_info": {
   "codemirror_mode": {
    "name": "ipython",
    "version": 3
   },
   "file_extension": ".py",
   "mimetype": "text/x-python",
   "name": "python",
   "nbconvert_exporter": "python",
   "pygments_lexer": "ipython3",
   "version": "3.11.8"
  }
 },
 "nbformat": 4,
 "nbformat_minor": 5
}
