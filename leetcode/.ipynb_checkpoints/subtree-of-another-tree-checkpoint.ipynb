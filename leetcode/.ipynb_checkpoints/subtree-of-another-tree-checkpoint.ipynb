{
 "cells": [
  {
   "cell_type": "code",
   "execution_count": 1,
   "id": "69ed9ad7-e2b5-48cc-96cc-451f9e47c56e",
   "metadata": {},
   "outputs": [],
   "source": [
    "from typing import Optional\n",
    "\n",
    "# Definition for a binary tree node.\n",
    "class TreeNode:\n",
    "    def __init__(self, val=0, left=None, right=None):\n",
    "        self.val = val\n",
    "        self.left = left\n",
    "        self.right = right\n",
    "        \n",
    "class Solution:\n",
    "\n",
    "    def are_identical(self, root: Optional[TreeNode], subRoot: Optional[TreeNode]) -> bool:\n",
    "        if root is None and subRoot is None:\n",
    "            return True\n",
    "\n",
    "        if root is None or subRoot is None:\n",
    "            return False\n",
    "        \n",
    "    \n",
    "        return (\n",
    "            root.val == subRoot.val and\n",
    "            self.are_identical(root.left, subRoot.left) and\n",
    "            self.are_identical(root.right, subRoot.right) \n",
    "        )\n",
    "    \n",
    "        \n",
    "    def isSubtree(self, root: Optional[TreeNode], subRoot: Optional[TreeNode]) -> bool:\n",
    "        if root is None and subRoot is None:\n",
    "            return True\n",
    "\n",
    "        if root is None or subRoot is None:\n",
    "            return False\n",
    " \n",
    "        if self.are_identical(root, subRoot):\n",
    "            return True\n",
    "            \n",
    "        return self.isSubtree(root.left, subRoot) or self.isSubtree(root.right, subRoot)"
   ]
  },
  {
   "cell_type": "code",
   "execution_count": null,
   "id": "b543f87b-565f-4ced-b349-4efb1017bb86",
   "metadata": {},
   "outputs": [],
   "source": []
  },
  {
   "cell_type": "code",
   "execution_count": null,
   "id": "29653dfd-fb80-4924-8006-6ebb67ca8356",
   "metadata": {},
   "outputs": [],
   "source": []
  },
  {
   "cell_type": "code",
   "execution_count": null,
   "id": "2e07a44f-59ca-4dab-968c-fc55b5cfe322",
   "metadata": {},
   "outputs": [],
   "source": []
  }
 ],
 "metadata": {
  "kernelspec": {
   "display_name": "Python 3 (ipykernel)",
   "language": "python",
   "name": "python3"
  },
  "language_info": {
   "codemirror_mode": {
    "name": "ipython",
    "version": 3
   },
   "file_extension": ".py",
   "mimetype": "text/x-python",
   "name": "python",
   "nbconvert_exporter": "python",
   "pygments_lexer": "ipython3",
   "version": "3.11.8"
  }
 },
 "nbformat": 4,
 "nbformat_minor": 5
}
