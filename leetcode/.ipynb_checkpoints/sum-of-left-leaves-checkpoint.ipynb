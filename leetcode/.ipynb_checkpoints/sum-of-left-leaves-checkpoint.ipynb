{
 "cells": [
  {
   "cell_type": "code",
   "execution_count": 2,
   "id": "6e6e6ff1-42fd-48fd-affc-bf72fb766dc7",
   "metadata": {},
   "outputs": [],
   "source": [
    "from typing import Optional\n",
    "\n",
    "# Definition for a binary tree node.\n",
    "class TreeNode:\n",
    "    def __init__(self, val=0, left=None, right=None):\n",
    "        self.val = val\n",
    "        self.left = left\n",
    "        self.right = right\n",
    "\n",
    "class Solution:\n",
    "    def is_leaf(self, root: TreeNode) -> bool:\n",
    "        if root is None:\n",
    "            return False\n",
    "        if (root.left is None) and (root.right is None):\n",
    "            return True\n",
    "        return False\n",
    "        \n",
    "    def sumOfLeftLeaves(self, root: Optional[TreeNode]) -> int:\n",
    "        res = 0\n",
    "        if root is None:\n",
    "            return 0\n",
    "            \n",
    "        if self.is_leaf(root.left):\n",
    "            res += root.left.val\n",
    "        else:\n",
    "            res += self.sumOfLeftLeaves(root.left)\n",
    "\n",
    "        res += self.sumOfLeftLeaves(root.right)\n",
    "        return res\n",
    "            "
   ]
  },
  {
   "cell_type": "code",
   "execution_count": null,
   "id": "b80293ae-90b0-4611-99a1-df7b26b57668",
   "metadata": {},
   "outputs": [],
   "source": []
  }
 ],
 "metadata": {
  "kernelspec": {
   "display_name": "Python 3 (ipykernel)",
   "language": "python",
   "name": "python3"
  },
  "language_info": {
   "codemirror_mode": {
    "name": "ipython",
    "version": 3
   },
   "file_extension": ".py",
   "mimetype": "text/x-python",
   "name": "python",
   "nbconvert_exporter": "python",
   "pygments_lexer": "ipython3",
   "version": "3.11.8"
  }
 },
 "nbformat": 4,
 "nbformat_minor": 5
}
