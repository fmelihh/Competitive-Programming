{
 "cells": [
  {
   "cell_type": "code",
   "execution_count": 50,
   "id": "88c0ee37-9b26-42f2-a439-61a36bce0e81",
   "metadata": {},
   "outputs": [],
   "source": [
    "from typing import List\n",
    "\n",
    "class Solution:\n",
    "\n",
    "    def leastInterval(self, tasks: List[str], n: int) -> int:\n",
    "        tasks_hashmap = {}\n",
    "        for task in tasks:\n",
    "            if task not in tasks_hashmap:\n",
    "                tasks_hashmap[task] = 0\n",
    "            tasks_hashmap[task] += 1\n",
    "\n",
    "        interval = 0\n",
    "        interval_table = {}\n",
    "        \n",
    "        while tasks_hashmap:\n",
    "            for task in tasks_hashmap:\n",
    "                if task in interval_table:\n",
    "                    continue\n",
    "                \n",
    "                interval += 1\n",
    "                tasks_hashmap[task] -= 1\n",
    "\n",
    "                interval_table = {\n",
    "                    key: interval_table[key] - 1\n",
    "                    for key in interval_table\n",
    "                    if interval_table[key] - 1 > 0\n",
    "                }            \n",
    "                interval_table[task] = n\n",
    "\n",
    "\n",
    "            tasks_hashmap = {\n",
    "                key: tasks_hashmap[key] \n",
    "                for key in tasks_hashmap \n",
    "                if tasks_hashmap[key] > 0\n",
    "            }\n",
    "            \n",
    "            if len(interval_table) == len(tasks_hashmap):\n",
    "                min_key = list(interval_table.keys())[0]\n",
    "                min_val = list(interval_table.values())[0]\n",
    "                for key in interval_table:\n",
    "                    if interval_table[key] < min_val:\n",
    "                        min_val = interval_table[key]\n",
    "                        min_key = key\n",
    "\n",
    "                interval_table = {\n",
    "                    key: interval_table[key] - min_val\n",
    "                    for key in interval_table\n",
    "                    if interval_table[key] > min_val\n",
    "                }\n",
    "                interval += min_val            \n",
    "        return interval    "
   ]
  },
  {
   "cell_type": "code",
   "execution_count": 51,
   "id": "e372fe98-2946-4f40-b530-b6587c2ba7e0",
   "metadata": {},
   "outputs": [
    {
     "name": "stdout",
     "output_type": "stream",
     "text": [
      "A  ->  B  ->  1\n",
      " idle ->  A  ->  B  ->  1\n",
      " idle ->  A  ->  B  ->  "
     ]
    },
    {
     "data": {
      "text/plain": [
       "8"
      ]
     },
     "execution_count": 51,
     "metadata": {},
     "output_type": "execute_result"
    }
   ],
   "source": [
    "Solution().leastInterval(tasks=[\"A\",\"A\",\"A\",\"B\",\"B\",\"B\"], n = 2)"
   ]
  },
  {
   "cell_type": "code",
   "execution_count": null,
   "id": "296035d0-f657-4cbb-bf13-367279c5c1ca",
   "metadata": {},
   "outputs": [],
   "source": []
  }
 ],
 "metadata": {
  "kernelspec": {
   "display_name": "Python 3 (ipykernel)",
   "language": "python",
   "name": "python3"
  },
  "language_info": {
   "codemirror_mode": {
    "name": "ipython",
    "version": 3
   },
   "file_extension": ".py",
   "mimetype": "text/x-python",
   "name": "python",
   "nbconvert_exporter": "python",
   "pygments_lexer": "ipython3",
   "version": "3.11.5"
  }
 },
 "nbformat": 4,
 "nbformat_minor": 5
}
