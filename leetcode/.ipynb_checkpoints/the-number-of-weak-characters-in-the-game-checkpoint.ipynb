{
 "cells": [
  {
   "cell_type": "code",
   "execution_count": 30,
   "id": "aa01e8f7-9649-4a1c-8e4c-d19f43456081",
   "metadata": {},
   "outputs": [],
   "source": [
    "from typing import List\n",
    "\n",
    "class Solution:\n",
    "    def numberOfWeakCharacters(self, properties: List[List[int]]) -> int:\n",
    "        properties.sort(key=lambda x: (-x[0], x[1]))\n",
    "        \n",
    "        max_defense = 0\n",
    "        weak_characters = 0\n",
    "        \n",
    "        # Iterate over the sorted properties\n",
    "        for attack, defense in properties:\n",
    "            # If the current character's defense is less than the max defense seen so far\n",
    "            if defense < max_defense:\n",
    "                weak_characters += 1\n",
    "            else:\n",
    "                # Update the max defense encountered so far\n",
    "                max_defense = defense\n",
    "        \n",
    "        return weak_characters\n",
    "        \n",
    "            "
   ]
  },
  {
   "cell_type": "code",
   "execution_count": 28,
   "id": "5703eed5-4e9f-437d-9cc3-f89719b15244",
   "metadata": {},
   "outputs": [],
   "source": [
    "s = Solution()"
   ]
  },
  {
   "cell_type": "code",
   "execution_count": 29,
   "id": "b76bc313-e22b-4340-b5d0-2cc05c3e1328",
   "metadata": {},
   "outputs": [
    {
     "name": "stdout",
     "output_type": "stream",
     "text": [
      "[[4, 3], [10, 4]]\n",
      "[[1, 5]]\n",
      "[[4, 3], [10, 4]]\n",
      "[[1, 5]]\n",
      "[[4, 3], [10, 4]]\n",
      "[]\n",
      "[10, 4]\n",
      "[4, 3]\n"
     ]
    },
    {
     "data": {
      "text/plain": [
       "0"
      ]
     },
     "execution_count": 29,
     "metadata": {},
     "output_type": "execute_result"
    }
   ],
   "source": [
    "s.numberOfWeakCharacters([[1,5],[10,4],[4,3]])"
   ]
  },
  {
   "cell_type": "code",
   "execution_count": null,
   "id": "2f23865f-8e33-41e1-8c04-ae33d6de38b4",
   "metadata": {},
   "outputs": [],
   "source": []
  },
  {
   "cell_type": "code",
   "execution_count": null,
   "id": "75de98f5-d955-4b56-8238-ca21dcd05613",
   "metadata": {},
   "outputs": [],
   "source": []
  }
 ],
 "metadata": {
  "kernelspec": {
   "display_name": "Python 3 (ipykernel)",
   "language": "python",
   "name": "python3"
  },
  "language_info": {
   "codemirror_mode": {
    "name": "ipython",
    "version": 3
   },
   "file_extension": ".py",
   "mimetype": "text/x-python",
   "name": "python",
   "nbconvert_exporter": "python",
   "pygments_lexer": "ipython3",
   "version": "3.11.8"
  }
 },
 "nbformat": 4,
 "nbformat_minor": 5
}
