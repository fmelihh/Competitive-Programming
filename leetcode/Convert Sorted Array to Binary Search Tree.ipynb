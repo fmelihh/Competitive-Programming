{
 "cells": [
  {
   "cell_type": "code",
   "execution_count": 23,
   "id": "d2b76a02-1178-4c0e-8cef-aa1ddb150f54",
   "metadata": {},
   "outputs": [],
   "source": [
    "from typing import Optional, List\n",
    "\n",
    "# Definition for a binary tree node.\n",
    "class TreeNode:\n",
    "     def __init__(self, val=0, left=None, right=None):\n",
    "         self.val = val\n",
    "         self.left = left\n",
    "         self.right = right\n",
    "    \n",
    "class Solution:\n",
    "    def sortedArrayToBST(self, nums: List[int]) -> Optional[TreeNode]:\n",
    "        if nums == []:\n",
    "            return None\n",
    "\n",
    "        mid = len(nums) // 2\n",
    "        node = TreeNode(val=nums[mid])\n",
    "        node.left = self.sortedArrayToBST(nums[:mid])\n",
    "        node.right = self.sortedArrayToBST(nums[mid + 1:])\n",
    "\n",
    "        return node\n",
    "\n",
    "      \n",
    "        \n",
    "            \n",
    "        "
   ]
  },
  {
   "cell_type": "code",
   "execution_count": 24,
   "id": "93da555a-82d0-4e14-a004-5b9fd4bed510",
   "metadata": {},
   "outputs": [],
   "source": [
    "s = Solution()"
   ]
  },
  {
   "cell_type": "code",
   "execution_count": 25,
   "id": "3c66a44c-c50c-4d63-8a3a-c05137723336",
   "metadata": {},
   "outputs": [
    {
     "data": {
      "text/plain": [
       "<__main__.TreeNode at 0x7ffa7047a520>"
      ]
     },
     "execution_count": 25,
     "metadata": {},
     "output_type": "execute_result"
    }
   ],
   "source": [
    "s.sortedArrayToBST(nums=[-10,-3,0,5,9])"
   ]
  },
  {
   "cell_type": "code",
   "execution_count": 4,
   "id": "8390ad8a-56c3-48d1-b8cb-cf6d13925594",
   "metadata": {},
   "outputs": [],
   "source": [
    "s.sortedArrayToBST(nums=[1,3])"
   ]
  },
  {
   "cell_type": "code",
   "execution_count": null,
   "id": "7baf13e2-dc28-421f-b096-f96631db898e",
   "metadata": {},
   "outputs": [],
   "source": []
  },
  {
   "cell_type": "code",
   "execution_count": null,
   "id": "9e07ea7d-ac8e-406d-af51-2723cb4b9afc",
   "metadata": {},
   "outputs": [],
   "source": []
  },
  {
   "cell_type": "code",
   "execution_count": 28,
   "id": "a8a5e711-7b12-4259-92c5-174ee52aaade",
   "metadata": {},
   "outputs": [],
   "source": [
    "res = s.sortedArrayToBST(nums=[1,3])"
   ]
  },
  {
   "cell_type": "code",
   "execution_count": 29,
   "id": "dbc0f13e-49a3-4c44-9142-8e99a513b578",
   "metadata": {},
   "outputs": [
    {
     "name": "stdout",
     "output_type": "stream",
     "text": [
      "1 3 "
     ]
    }
   ],
   "source": [
    "inorder(res)"
   ]
  },
  {
   "cell_type": "code",
   "execution_count": 20,
   "id": "a1adabcb-a621-466f-867d-a3f9968953e5",
   "metadata": {},
   "outputs": [],
   "source": [
    "# inorder\n",
    "def inorder(root: TreeNode):\n",
    "    if not root:\n",
    "        return \n",
    "        \n",
    "    inorder(root.left)\n",
    "    print(root.val, end = \" \")\n",
    "    inorder(root.right)"
   ]
  },
  {
   "cell_type": "code",
   "execution_count": null,
   "id": "10892c61-7fb6-43c3-8dc9-5717d80df123",
   "metadata": {},
   "outputs": [],
   "source": []
  }
 ],
 "metadata": {
  "kernelspec": {
   "display_name": "Python 3 (ipykernel)",
   "language": "python",
   "name": "python3"
  },
  "language_info": {
   "codemirror_mode": {
    "name": "ipython",
    "version": 3
   },
   "file_extension": ".py",
   "mimetype": "text/x-python",
   "name": "python",
   "nbconvert_exporter": "python",
   "pygments_lexer": "ipython3",
   "version": "3.8.10"
  }
 },
 "nbformat": 4,
 "nbformat_minor": 5
}
