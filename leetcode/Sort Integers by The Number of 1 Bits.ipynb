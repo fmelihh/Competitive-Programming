{
 "cells": [
  {
   "cell_type": "code",
   "execution_count": 24,
   "id": "5823ea94-496a-4317-8465-94b4cc24a3d1",
   "metadata": {},
   "outputs": [],
   "source": [
    "# https://leetcode.com/problems/sort-integers-by-the-number-of-1-bits/\n",
    "\n",
    "from typing import List\n",
    "\n",
    "class Solution:\n",
    "    def sortByBits(self, arr: List[int]) -> List[int]:\n",
    "       return sorted(arr, key=lambda x: (bin(x).count(\"1\"), x))\n",
    "\n",
    "    "
   ]
  },
  {
   "cell_type": "code",
   "execution_count": 25,
   "id": "39df4839-2a4f-4374-a842-52b565e2b1bf",
   "metadata": {},
   "outputs": [
    {
     "data": {
      "text/plain": [
       "[0, 1, 2, 4, 8, 3, 5, 6, 7]"
      ]
     },
     "execution_count": 25,
     "metadata": {},
     "output_type": "execute_result"
    }
   ],
   "source": [
    "Solution().sortByBits([0,1,2,3,4,5,6,7,8]) # [0,1,2,4,8,3,5,6,7]"
   ]
  },
  {
   "cell_type": "code",
   "execution_count": 26,
   "id": "f74301d3-3e61-4f16-ae27-c276811544e0",
   "metadata": {},
   "outputs": [
    {
     "data": {
      "text/plain": [
       "[1, 2, 4, 8, 16, 32, 64, 128, 256, 512, 1024]"
      ]
     },
     "execution_count": 26,
     "metadata": {},
     "output_type": "execute_result"
    }
   ],
   "source": [
    "Solution().sortByBits([1024,512,256,128,64,32,16,8,4,2,1]) # [1,2,4,8,16,32,64,128,256,512,1024]"
   ]
  },
  {
   "cell_type": "code",
   "execution_count": null,
   "id": "44d9b9d8-aa9e-4a2f-b1ed-a9a8b8865c04",
   "metadata": {},
   "outputs": [],
   "source": []
  },
  {
   "cell_type": "code",
   "execution_count": null,
   "id": "5098b4ab-c19d-4bd7-9fa9-9c286497b869",
   "metadata": {},
   "outputs": [],
   "source": []
  },
  {
   "cell_type": "code",
   "execution_count": 23,
   "id": "6339b3e3-dca3-428c-a78f-0721a1931b1f",
   "metadata": {},
   "outputs": [
    {
     "data": {
      "text/plain": [
       "'11000'"
      ]
     },
     "execution_count": 23,
     "metadata": {},
     "output_type": "execute_result"
    }
   ],
   "source": [
    "bin(24)[2:]"
   ]
  },
  {
   "cell_type": "code",
   "execution_count": 27,
   "id": "d58aaf63-d598-4756-94b3-a07ef93a3fa5",
   "metadata": {},
   "outputs": [
    {
     "data": {
      "text/plain": [
       "0"
      ]
     },
     "execution_count": 27,
     "metadata": {},
     "output_type": "execute_result"
    }
   ],
   "source": [
    "2 & 1"
   ]
  },
  {
   "cell_type": "code",
   "execution_count": null,
   "id": "16617505-7ea5-4332-b4af-198b99d57bb9",
   "metadata": {},
   "outputs": [],
   "source": []
  }
 ],
 "metadata": {
  "kernelspec": {
   "display_name": "Python 3 (ipykernel)",
   "language": "python",
   "name": "python3"
  },
  "language_info": {
   "codemirror_mode": {
    "name": "ipython",
    "version": 3
   },
   "file_extension": ".py",
   "mimetype": "text/x-python",
   "name": "python",
   "nbconvert_exporter": "python",
   "pygments_lexer": "ipython3",
   "version": "3.8.10"
  }
 },
 "nbformat": 4,
 "nbformat_minor": 5
}
