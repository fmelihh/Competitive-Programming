{
 "cells": [
  {
   "cell_type": "code",
   "execution_count": 2,
   "id": "d3e19d66-c023-4ba0-884d-78eaf5ed3816",
   "metadata": {},
   "outputs": [],
   "source": [
    "import math\n",
    "from typing import List\n",
    "\n",
    "# solution 1\n",
    "class Solution:\n",
    "    def pickGifts(self, gifts: List[int], k: int) -> int:\n",
    "        for _ in range(k):\n",
    "            max_val = max(gifts)\n",
    "            gifts[gifts.index(max_val)] = int(math.sqrt(max_val))\n",
    "        \n",
    "        return sum(gifts)\n",
    "        "
   ]
  },
  {
   "cell_type": "code",
   "execution_count": null,
   "id": "404788ff-1996-4cd3-95ff-01de5ae62c92",
   "metadata": {},
   "outputs": [],
   "source": [
    "import math\n",
    "\n",
    "#solution 2\n",
    "class Solution:\n",
    "    def pickGifts(self, gifts: List[int], k: int) -> int:\n",
    "        for _ in range(k):\n",
    "            gifts.sort()\n",
    "            gifts[-1] = int(math.sqrt(gifts[-1]))\n",
    "        \n",
    "        return sum(gifts)\n",
    "        "
   ]
  }
 ],
 "metadata": {
  "kernelspec": {
   "display_name": "Python 3 (ipykernel)",
   "language": "python",
   "name": "python3"
  },
  "language_info": {
   "codemirror_mode": {
    "name": "ipython",
    "version": 3
   },
   "file_extension": ".py",
   "mimetype": "text/x-python",
   "name": "python",
   "nbconvert_exporter": "python",
   "pygments_lexer": "ipython3",
   "version": "3.8.10"
  }
 },
 "nbformat": 4,
 "nbformat_minor": 5
}
