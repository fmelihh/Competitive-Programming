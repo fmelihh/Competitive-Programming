{
 "cells": [
  {
   "cell_type": "code",
   "execution_count": 18,
   "id": "6bdde32c-1ba5-4366-a61d-78443dfc207d",
   "metadata": {},
   "outputs": [],
   "source": [
    "from typing import Optional, List\n",
    "\n",
    "class ListNode:\n",
    "    def __init__(self, val=0, next=None):\n",
    "        self.val = val\n",
    "        self.next = next\n",
    "        \n",
    "class Solution:\n",
    "    def generate_linked_list(self, values: List[int]) -> Optional[ListNode]:\n",
    "        if len(values) == 0:\n",
    "            return None\n",
    "\n",
    "        node = ListNode(val=values[0])\n",
    "        if len(values) == 1:\n",
    "            return node\n",
    "\n",
    "        temp = node\n",
    "        for val in values[1:]:\n",
    "            temp.next = ListNode(val=val)\n",
    "            temp = temp.next\n",
    "            \n",
    "        return node\n",
    "        \n",
    "    def addTwoNumbers(self, l1: Optional[ListNode], l2: Optional[ListNode]) -> Optional[ListNode]:\n",
    "        values = []\n",
    "        carry = 0\n",
    "        while (l1 or l2):\n",
    "            val1 = l1.val if l1 else 0\n",
    "            val2 = l2.val if l2 else 0\n",
    "\n",
    "            sum_vals = val1 + val2 + carry\n",
    "            if sum_vals >= 10:\n",
    "                sum_vals = sum_vals % 10\n",
    "                carry = 1\n",
    "            else:\n",
    "                carry = 0\n",
    "            \n",
    "            values.append(sum_vals)\n",
    "\n",
    "            if l1:\n",
    "                l1 = l1.next\n",
    "                \n",
    "            if l2:\n",
    "                l2 = l2.next\n",
    "\n",
    "        if carry > 0:\n",
    "            values.append(carry)\n",
    "            \n",
    "        return self.generate_linked_list(values=values)\n",
    "            "
   ]
  },
  {
   "cell_type": "code",
   "execution_count": 22,
   "id": "36f72207-6463-4b8c-ac84-4a98e9c01acf",
   "metadata": {},
   "outputs": [],
   "source": [
    "def print_linked_list(node: Optional[ListNode]):\n",
    "    if node is None:\n",
    "        return\n",
    "    while node:\n",
    "        print(node.val, end=\" --> \")\n",
    "        node = node.next"
   ]
  },
  {
   "cell_type": "code",
   "execution_count": 19,
   "id": "41f9a0c9-0694-4b69-a297-44ea266b9a2f",
   "metadata": {},
   "outputs": [],
   "source": [
    "s = Solution()"
   ]
  },
  {
   "cell_type": "code",
   "execution_count": 20,
   "id": "316dfb06-a524-452f-b671-a3ec3699c8b9",
   "metadata": {},
   "outputs": [],
   "source": [
    "l1 = s.generate_linked_list([9,9,9,9,9,9,9])\n",
    "l2 = s.generate_linked_list([9,9,9,9])"
   ]
  },
  {
   "cell_type": "code",
   "execution_count": 23,
   "id": "382e6a93-f4b6-4781-8f46-7f14f275a3a9",
   "metadata": {},
   "outputs": [
    {
     "name": "stdout",
     "output_type": "stream",
     "text": [
      "8 --> 9 --> 9 --> 9 --> 0 --> 0 --> 0 --> 1 --> "
     ]
    }
   ],
   "source": [
    "print_linked_list(s.addTwoNumbers(l1=l1, l2=l2))"
   ]
  },
  {
   "cell_type": "code",
   "execution_count": null,
   "id": "1c810095-0e69-4eb4-90f3-5eaa0b8ed0c7",
   "metadata": {},
   "outputs": [],
   "source": []
  }
 ],
 "metadata": {
  "kernelspec": {
   "display_name": "Python 3 (ipykernel)",
   "language": "python",
   "name": "python3"
  },
  "language_info": {
   "codemirror_mode": {
    "name": "ipython",
    "version": 3
   },
   "file_extension": ".py",
   "mimetype": "text/x-python",
   "name": "python",
   "nbconvert_exporter": "python",
   "pygments_lexer": "ipython3",
   "version": "3.11.5"
  }
 },
 "nbformat": 4,
 "nbformat_minor": 5
}
