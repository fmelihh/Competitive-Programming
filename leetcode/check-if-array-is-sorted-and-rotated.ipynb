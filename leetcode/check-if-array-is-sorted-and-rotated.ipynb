{
 "cells": [
  {
   "cell_type": "code",
   "execution_count": 1,
   "id": "19d33d59-4d8f-44d2-b206-657b11be81bd",
   "metadata": {},
   "outputs": [],
   "source": [
    "# https://leetcode.com/problems/check-if-array-is-sorted-and-rotated/"
   ]
  },
  {
   "cell_type": "code",
   "execution_count": 2,
   "id": "c0c38f71-fb9d-43e9-81e2-afb241ace404",
   "metadata": {},
   "outputs": [],
   "source": [
    "from typing import List"
   ]
  },
  {
   "cell_type": "code",
   "execution_count": 58,
   "id": "e54982bd-65c9-4c97-b221-af6db5ac1812",
   "metadata": {},
   "outputs": [],
   "source": [
    "class Solution:\n",
    "    def check(self, nums: List[int]) -> bool:\n",
    "        return sum(nums[i] < nums[i-1] for i in range(len(nums))) <= 1\n",
    "                \n",
    "                "
   ]
  },
  {
   "cell_type": "code",
   "execution_count": 59,
   "id": "25cdc802-82f4-4e7f-bef5-302d53de73b0",
   "metadata": {},
   "outputs": [
    {
     "data": {
      "text/plain": [
       "1"
      ]
     },
     "execution_count": 59,
     "metadata": {},
     "output_type": "execute_result"
    }
   ],
   "source": [
    "s = Solution()\n",
    "s.check([6,10,6])"
   ]
  },
  {
   "cell_type": "code",
   "execution_count": null,
   "id": "f96ca0b9-82eb-4d7a-8269-33384b29e321",
   "metadata": {},
   "outputs": [],
   "source": [
    "# nums_operated[i] == nums[(i+x) % nums_operated.length]\n",
    "# 4 = 1 + 3 4 % 5 = 4\n",
    "# [3,4,5,1,2] nums_operated  x = 0\n",
    "# [1,2,3,4,5] nums  i = 2"
   ]
  },
  {
   "cell_type": "code",
   "execution_count": null,
   "id": "20d9cf70-0fec-4eab-9926-c0dcb9f18ae1",
   "metadata": {},
   "outputs": [],
   "source": [
    "[2,1,3,4]\n",
    "[1,2,3,4]\n",
    "\n",
    "1 = 1+0 % 4 = 1\n",
    "2 = 1+1 % 2=  1"
   ]
  },
  {
   "cell_type": "code",
   "execution_count": 11,
   "id": "d52a7277-6a8c-4d75-bc1b-a518443bc792",
   "metadata": {},
   "outputs": [
    {
     "data": {
      "text/plain": [
       "4"
      ]
     },
     "execution_count": 11,
     "metadata": {},
     "output_type": "execute_result"
    }
   ],
   "source": [
    "[1, 2, 3, 4][3]"
   ]
  },
  {
   "cell_type": "code",
   "execution_count": null,
   "id": "c8510352-ed2a-40d6-9603-1ec2f2ed1575",
   "metadata": {},
   "outputs": [],
   "source": []
  }
 ],
 "metadata": {
  "kernelspec": {
   "display_name": "Python 3 (ipykernel)",
   "language": "python",
   "name": "python3"
  },
  "language_info": {
   "codemirror_mode": {
    "name": "ipython",
    "version": 3
   },
   "file_extension": ".py",
   "mimetype": "text/x-python",
   "name": "python",
   "nbconvert_exporter": "python",
   "pygments_lexer": "ipython3",
   "version": "3.8.10"
  }
 },
 "nbformat": 4,
 "nbformat_minor": 5
}
