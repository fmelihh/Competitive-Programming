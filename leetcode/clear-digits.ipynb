{
 "cells": [
  {
   "cell_type": "code",
   "execution_count": 2,
   "id": "ef823b1d-1c56-4b82-a83b-9d584f38153f",
   "metadata": {},
   "outputs": [],
   "source": [
    "class Solution:\n",
    "    def clearDigits(self, s: str) -> str:\n",
    "        stack = list()\n",
    "        for element in s:\n",
    "            if element.isdigit() and len(stack) > 0:\n",
    "                stack.pop(-1)\n",
    "            else:\n",
    "                stack.append(s)\n",
    "        return \"\".join(stack)"
   ]
  },
  {
   "cell_type": "code",
   "execution_count": 3,
   "id": "a0eb8597-a473-4077-ab78-98c5532de72f",
   "metadata": {},
   "outputs": [],
   "source": [
    "s = Solution()"
   ]
  },
  {
   "cell_type": "code",
   "execution_count": null,
   "id": "45007c37-294c-4307-a96a-d22b8c711627",
   "metadata": {},
   "outputs": [],
   "source": [
    "s.clearDigits()"
   ]
  }
 ],
 "metadata": {
  "kernelspec": {
   "display_name": "Python 3 (ipykernel)",
   "language": "python",
   "name": "python3"
  },
  "language_info": {
   "codemirror_mode": {
    "name": "ipython",
    "version": 3
   },
   "file_extension": ".py",
   "mimetype": "text/x-python",
   "name": "python",
   "nbconvert_exporter": "python",
   "pygments_lexer": "ipython3",
   "version": "3.11.5"
  }
 },
 "nbformat": 4,
 "nbformat_minor": 5
}
