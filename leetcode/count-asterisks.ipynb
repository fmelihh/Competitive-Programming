{
 "cells": [
  {
   "cell_type": "code",
   "execution_count": null,
   "id": "15901e32-be21-4b7f-98a2-c43959e1b127",
   "metadata": {},
   "outputs": [],
   "source": [
    "# https://leetcode.com/problems/count-asterisks/"
   ]
  },
  {
   "cell_type": "code",
   "execution_count": 10,
   "id": "24906f52-61f8-4473-94dd-f2bffe12133f",
   "metadata": {},
   "outputs": [],
   "source": [
    "class Solution:\n",
    "    def countAsterisks(self, s: str) -> int:\n",
    "        return sum([pair.count(\"*\") for pair in  s.split(\"|\")[0::2]])\n",
    "     "
   ]
  },
  {
   "cell_type": "code",
   "execution_count": 11,
   "id": "abb608f3-267a-44b0-99d8-f4fb8d4617eb",
   "metadata": {},
   "outputs": [
    {
     "data": {
      "text/plain": [
       "5"
      ]
     },
     "execution_count": 11,
     "metadata": {},
     "output_type": "execute_result"
    }
   ],
   "source": [
    "s = Solution()\n",
    "s.countAsterisks(\"yo|uar|e**|b|e***au|tifu|l\")"
   ]
  },
  {
   "cell_type": "code",
   "execution_count": 4,
   "id": "5346d14b-49f9-417e-bea7-7d48a332144c",
   "metadata": {},
   "outputs": [
    {
     "data": {
      "text/plain": [
       "['yo', 'uar', 'e**', 'b', 'e***au', 'tifu', 'l']"
      ]
     },
     "execution_count": 4,
     "metadata": {},
     "output_type": "execute_result"
    }
   ],
   "source": [
    "\"yo|uar|e**|b|e***au|tifu|l\".split(\"|\")"
   ]
  },
  {
   "cell_type": "code",
   "execution_count": null,
   "id": "6f861da3-bdef-4c83-ac80-96b883c4c662",
   "metadata": {},
   "outputs": [],
   "source": []
  }
 ],
 "metadata": {
  "kernelspec": {
   "display_name": "Python 3 (ipykernel)",
   "language": "python",
   "name": "python3"
  },
  "language_info": {
   "codemirror_mode": {
    "name": "ipython",
    "version": 3
   },
   "file_extension": ".py",
   "mimetype": "text/x-python",
   "name": "python",
   "nbconvert_exporter": "python",
   "pygments_lexer": "ipython3",
   "version": "3.8.10"
  }
 },
 "nbformat": 4,
 "nbformat_minor": 5
}
