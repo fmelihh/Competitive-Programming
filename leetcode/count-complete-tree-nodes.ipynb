{
 "cells": [
  {
   "cell_type": "code",
   "execution_count": 2,
   "id": "d67efb3d-9091-4b5f-b279-b742406d1562",
   "metadata": {},
   "outputs": [],
   "source": [
    "# https://leetcode.com/problems/count-complete-tree-nodes"
   ]
  },
  {
   "cell_type": "code",
   "execution_count": 1,
   "id": "7a1f3d68-d9da-4be3-8e70-5af8eb43789f",
   "metadata": {},
   "outputs": [],
   "source": [
    "from typing import Optional\n",
    "\n",
    "# Definition for a binary tree node.\n",
    "class TreeNode:\n",
    "     def __init__(self, val=0, left=None, right=None):\n",
    "         self.val = val\n",
    "         self.left = left\n",
    "         self.right = right\n",
    "         \n",
    "class Solution:\n",
    "\n",
    "    def left_height(self, node: Optional[TreeNode]) -> int:\n",
    "        ht = 0\n",
    "        while node:\n",
    "            ht += 1\n",
    "            node = node.left\n",
    "\n",
    "        return ht\n",
    "\n",
    "    def right_height(self, node: Optional[TreeNode]) -> int:\n",
    "        ht = 0\n",
    "        while node:\n",
    "            ht += 1\n",
    "            node = node.right\n",
    "\n",
    "        return ht\n",
    "            \n",
    "    def countNodes(self, root: Optional[TreeNode]) -> int:\n",
    "        if root is None:\n",
    "            return 0\n",
    "\n",
    "        lh = self.left_height(root)\n",
    "        rh = self.right_height(root)\n",
    "    \n",
    "        if lh == rh:\n",
    "            return (1 << lh) - 1\n",
    "    \n",
    "        return 1 +  self.countNodes(root.left) + self.countNodes(root.right)\n",
    "        "
   ]
  },
  {
   "cell_type": "code",
   "execution_count": null,
   "id": "38d1a405-1102-4be4-b337-ba0308dbaf0a",
   "metadata": {},
   "outputs": [],
   "source": []
  }
 ],
 "metadata": {
  "kernelspec": {
   "display_name": "Python 3 (ipykernel)",
   "language": "python",
   "name": "python3"
  },
  "language_info": {
   "codemirror_mode": {
    "name": "ipython",
    "version": 3
   },
   "file_extension": ".py",
   "mimetype": "text/x-python",
   "name": "python",
   "nbconvert_exporter": "python",
   "pygments_lexer": "ipython3",
   "version": "3.11.8"
  }
 },
 "nbformat": 4,
 "nbformat_minor": 5
}
