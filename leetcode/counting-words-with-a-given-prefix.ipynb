{
 "cells": [
  {
   "cell_type": "code",
   "execution_count": 1,
   "id": "b7368e62-50e9-4cb8-9e06-4698af6ab99f",
   "metadata": {},
   "outputs": [],
   "source": [
    "# https://leetcode.com/problems/counting-words-with-a-given-prefix/"
   ]
  },
  {
   "cell_type": "code",
   "execution_count": null,
   "id": "681e835a-90a5-474f-ab58-f5737eb636bb",
   "metadata": {},
   "outputs": [],
   "source": [
    "class Solution:\n",
    "    def prefixCount(self, words: List[str], pref: str) -> int:\n",
    "        return sum(word.startswith(pref) for word in words)\n",
    "    "
   ]
  },
  {
   "cell_type": "code",
   "execution_count": null,
   "id": "06510134-d86b-490e-9180-9e1669557eb0",
   "metadata": {},
   "outputs": [],
   "source": [
    "\"\".startswith"
   ]
  }
 ],
 "metadata": {
  "kernelspec": {
   "display_name": "Python 3 (ipykernel)",
   "language": "python",
   "name": "python3"
  },
  "language_info": {
   "codemirror_mode": {
    "name": "ipython",
    "version": 3
   },
   "file_extension": ".py",
   "mimetype": "text/x-python",
   "name": "python",
   "nbconvert_exporter": "python",
   "pygments_lexer": "ipython3",
   "version": "3.8.10"
  }
 },
 "nbformat": 4,
 "nbformat_minor": 5
}
