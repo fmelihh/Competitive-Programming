{
 "cells": [
  {
   "cell_type": "code",
   "execution_count": null,
   "id": "35aa9e16-77c5-43fc-bbcc-1f94064f7259",
   "metadata": {},
   "outputs": [],
   "source": [
    "# https://leetcode.com/problems/design-hashset/\n",
    "class MyHashSet:\n",
    "\n",
    "    def __init__(self):\n",
    "        pass\n",
    "        \n",
    "\n",
    "    def add(self, key: int) -> None:\n",
    "        pass\n",
    "        \n",
    "    def remove(self, key: int) -> None:\n",
    "        pass\n",
    "        \n",
    "    def contains(self, key: int) -> bool:\n",
    "        pass\n",
    "        \n",
    "\n",
    "# Your MyHashSet object will be instantiated and called as such:\n",
    "# obj = MyHashSet()\n",
    "# obj.add(key)\n",
    "# obj.remove(key)\n",
    "# param_3 = obj.contains(key)"
   ]
  }
 ],
 "metadata": {
  "kernelspec": {
   "display_name": "Python 3 (ipykernel)",
   "language": "python",
   "name": "python3"
  },
  "language_info": {
   "codemirror_mode": {
    "name": "ipython",
    "version": 3
   },
   "file_extension": ".py",
   "mimetype": "text/x-python",
   "name": "python",
   "nbconvert_exporter": "python",
   "pygments_lexer": "ipython3",
   "version": "3.11.8"
  }
 },
 "nbformat": 4,
 "nbformat_minor": 5
}
