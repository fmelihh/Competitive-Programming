{
 "cells": [
  {
   "cell_type": "code",
   "execution_count": 72,
   "id": "ef096af8-2573-431a-93c1-a97bc8b12003",
   "metadata": {},
   "outputs": [],
   "source": [
    "class Solution:\n",
    "    def findKthBit(self, n: int, k: int) -> str:\n",
    "        sn = \"0\"\n",
    "        print(sn)\n",
    "        if n == 1:\n",
    "            return sn\n",
    "\n",
    "        for i in range(1, n):\n",
    "            sn = sn + \"1\" +  ''.join(list(reversed([\"0\" if element == \"1\" else \"1\" for element in sn])))\n",
    "            if len(sn) >= k:\n",
    "                return sn[k - 1]\n",
    "    \n",
    "        return sn[k - 1]\n",
    "                     "
   ]
  },
  {
   "cell_type": "code",
   "execution_count": 73,
   "id": "04799e91-3c21-4c9b-b71e-029a9f6e51db",
   "metadata": {},
   "outputs": [
    {
     "name": "stdout",
     "output_type": "stream",
     "text": [
      "0\n",
      "011\n",
      "0111001\n"
     ]
    },
    {
     "data": {
      "text/plain": [
       "'1'"
      ]
     },
     "execution_count": 73,
     "metadata": {},
     "output_type": "execute_result"
    }
   ],
   "source": [
    "Solution().findKthBit(4, 11)"
   ]
  },
  {
   "cell_type": "code",
   "execution_count": 69,
   "id": "61e37c5d-5d57-4a91-ac6c-c39dc43decf5",
   "metadata": {},
   "outputs": [
    {
     "data": {
      "text/plain": [
       "'101'"
      ]
     },
     "execution_count": 69,
     "metadata": {},
     "output_type": "execute_result"
    }
   ],
   "source": [
    "bin(5)[2:]"
   ]
  },
  {
   "cell_type": "code",
   "execution_count": null,
   "id": "b313d8c3-cbf0-4bb3-9604-7f904d5a566b",
   "metadata": {},
   "outputs": [],
   "source": [
    "\"aaa\""
   ]
  }
 ],
 "metadata": {
  "kernelspec": {
   "display_name": "Python 3 (ipykernel)",
   "language": "python",
   "name": "python3"
  },
  "language_info": {
   "codemirror_mode": {
    "name": "ipython",
    "version": 3
   },
   "file_extension": ".py",
   "mimetype": "text/x-python",
   "name": "python",
   "nbconvert_exporter": "python",
   "pygments_lexer": "ipython3",
   "version": "3.11.5"
  }
 },
 "nbformat": 4,
 "nbformat_minor": 5
}
