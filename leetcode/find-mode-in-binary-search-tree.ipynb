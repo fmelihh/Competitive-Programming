{
 "cells": [
  {
   "cell_type": "code",
   "execution_count": null,
   "id": "ea3003fc-9e89-4708-a7d7-0c93710f4c27",
   "metadata": {},
   "outputs": [],
   "source": [
    "from typing import Optional\n",
    "# Definition for a binary tree node.\n",
    "\n",
    "class TreeNode:\n",
    "    def __init__(self, val=0, left=None, right=None):\n",
    "        self.val = val\n",
    "        self.left = left\n",
    "        self.right = right\n",
    "\n",
    "class Solution:\n",
    "    def findMode(self, root: Optional[TreeNode]) -> List[int]:\n",
    "        if root is None:\n",
    "            return []\n",
    "            \n",
    "        element_counter = dict()\n",
    "        node_list = [root]\n",
    "        \n",
    "        while node_list:\n",
    "            node = node_list.pop()\n",
    "            if node.val not in element_counter:\n",
    "                element_counter[node.val] = 0\n",
    "\n",
    "            element_counter[node.val] += 1\n",
    "            \n",
    "            if node.right is not None:\n",
    "                node_list.append(node.right)\n",
    "            \n",
    "            if node.left is not None:\n",
    "                node_list.append(node.left)\n",
    "\n",
    "        max_value = 0\n",
    "        for value in element_counter.values():\n",
    "            if value > max_value:\n",
    "                max_value = value\n",
    "\n",
    "        result_list = [\n",
    "            key\n",
    "            for key, value in element_counter.items()\n",
    "            if value == max_value\n",
    "        ]\n",
    "\n",
    "        return result_list\n",
    "        \n",
    "        "
   ]
  }
 ],
 "metadata": {
  "kernelspec": {
   "display_name": "Python 3 (ipykernel)",
   "language": "python",
   "name": "python3"
  },
  "language_info": {
   "codemirror_mode": {
    "name": "ipython",
    "version": 3
   },
   "file_extension": ".py",
   "mimetype": "text/x-python",
   "name": "python",
   "nbconvert_exporter": "python",
   "pygments_lexer": "ipython3",
   "version": "3.11.8"
  }
 },
 "nbformat": 4,
 "nbformat_minor": 5
}
