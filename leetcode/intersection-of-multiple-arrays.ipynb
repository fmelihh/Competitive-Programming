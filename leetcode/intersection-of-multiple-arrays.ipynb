{
 "cells": [
  {
   "cell_type": "code",
   "execution_count": 51,
   "id": "402c11a2-424b-4a33-b2ea-02aa47401028",
   "metadata": {},
   "outputs": [],
   "source": [
    "from typing import List\n",
    "\n",
    "class Solution:\n",
    "    def merge_sort(self, arr: List[int]) -> List[int]:\n",
    "        if len(arr) <= 1:\n",
    "            return arr\n",
    "        mid = len(arr) // 2\n",
    "        \n",
    "        left = self.merge_sort(arr[:mid])\n",
    "        right = self.merge_sort(arr[mid:])\n",
    "\n",
    "        return self.merge(left, right)\n",
    "        \n",
    "    def merge(self, left: List[int], right: List[int]) -> List[int]:\n",
    "        results = []\n",
    "        \n",
    "        i = 0\n",
    "        j = 0\n",
    "        while i < len(left) and j < len(right):\n",
    "            if left[i] < right[j]:\n",
    "                results.append(left[i])\n",
    "                i += 1\n",
    "            else:\n",
    "                results.append(right[j])\n",
    "                j += 1\n",
    "            \n",
    "        results.extend(left[i:])\n",
    "        results.extend(right[j:])\n",
    "        \n",
    "        return results\n",
    "        \n",
    "        \n",
    "    def intersection(self, nums: List[List[int]]) -> List[int]:\n",
    "        results = []\n",
    "        length_hashmap = dict()\n",
    "        pointers = [0] * len(nums)\n",
    "\n",
    "        for idx in range(len(nums)):\n",
    "            nums[idx] = self.merge_sort(nums[idx])            \n",
    "            length_hashmap[idx] = len(nums[idx])\n",
    "\n",
    "        min_idx = 0\n",
    "        for key in length_hashmap:\n",
    "            if length_hashmap[min_idx] > length_hashmap[key]:\n",
    "                min_idx = key\n",
    "\n",
    "        nums.insert(0, nums.pop(min_idx))\n",
    "        print(nums)\n",
    "        while all([pointer < len(nums[idx]) for idx, pointer in enumerate(pointers)]):\n",
    "            if all(\n",
    "                    [\n",
    "                        nums[0][pointers[0]] == num_list[pointers[idx + 1]] \n",
    "                        for idx, num_list in enumerate(nums[1:])\n",
    "                    ]\n",
    "            ):\n",
    "                results.append(nums[0][pointers[0]])\n",
    "                for idx in range(len(pointers)):\n",
    "                    pointers[idx] += 1\n",
    "            else:\n",
    "                is_increased = False\n",
    "                for idx, number_list in enumerate(nums[1:]):\n",
    "                    if nums[0][pointers[0]] > number_list[pointers[idx + 1]]:\n",
    "                        pointers[idx + 1] += 1\n",
    "                    elif nums[0][pointers[0]] != number_list[pointers[idx + 1]] and is_increased is False:\n",
    "                        is_increased = True\n",
    "                        \n",
    "                if is_increased is True:\n",
    "                    pointers[0] += 1\n",
    "        return results\n",
    "                        "
   ]
  },
  {
   "cell_type": "code",
   "execution_count": 52,
   "id": "3e4be120-9119-4588-870e-2b3cef18bc45",
   "metadata": {},
   "outputs": [
    {
     "name": "stdout",
     "output_type": "stream",
     "text": [
      "[[10, 36], [10, 25, 42, 43, 44, 47], [5, 8, 10, 23, 30, 40]]\n"
     ]
    },
    {
     "data": {
      "text/plain": [
       "[10]"
      ]
     },
     "execution_count": 52,
     "metadata": {},
     "output_type": "execute_result"
    }
   ],
   "source": [
    "Solution().intersection([[25,44,47,42,43,10],[40,10,8,30,5,23],[36,10]])"
   ]
  },
  {
   "cell_type": "code",
   "execution_count": null,
   "id": "026d7ed8-6a4b-4e63-a1da-ac9f14bd4819",
   "metadata": {},
   "outputs": [],
   "source": []
  },
  {
   "cell_type": "code",
   "execution_count": null,
   "id": "d520d522-6540-4360-9ca9-e79761729f1a",
   "metadata": {},
   "outputs": [],
   "source": []
  }
 ],
 "metadata": {
  "kernelspec": {
   "display_name": "Python 3 (ipykernel)",
   "language": "python",
   "name": "python3"
  },
  "language_info": {
   "codemirror_mode": {
    "name": "ipython",
    "version": 3
   },
   "file_extension": ".py",
   "mimetype": "text/x-python",
   "name": "python",
   "nbconvert_exporter": "python",
   "pygments_lexer": "ipython3",
   "version": "3.11.5"
  }
 },
 "nbformat": 4,
 "nbformat_minor": 5
}
