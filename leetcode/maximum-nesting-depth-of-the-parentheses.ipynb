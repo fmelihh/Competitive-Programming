{
 "cells": [
  {
   "cell_type": "code",
   "execution_count": 2,
   "id": "23bc7cfc-36ca-4408-84f5-c5cc1ddd5ad0",
   "metadata": {},
   "outputs": [],
   "source": [
    "# https://leetcode.com/problems/maximum-nesting-depth-of-the-parentheses"
   ]
  },
  {
   "cell_type": "code",
   "execution_count": 1,
   "id": "8939cb53-e89c-483a-8076-193b9996e3b5",
   "metadata": {},
   "outputs": [],
   "source": [
    "class Solution:\n",
    "    def maxDepth(self, s: str) -> int:\n",
    "        depth = 0\n",
    "        buffer = 0\n",
    "        stack = [s[0], ]\n",
    "        for idx in range(1, len(s)):\n",
    "            if s[idx] not in (\"(\", \")\"):\n",
    "                continue\n",
    "                \n",
    "            if len(stack) > 0 and stack[-1] == \"(\" and s[idx] == \")\":\n",
    "                stack.pop(-1)\n",
    "                buffer += 1\n",
    "            else:\n",
    "                stack.append(s[idx])\n",
    "\n",
    "            if len(stack) == 0 and depth < buffer:\n",
    "                depth = buffer\n",
    "                buffer = 0\n",
    "\n",
    "        return depth\n",
    "            "
   ]
  },
  {
   "cell_type": "code",
   "execution_count": null,
   "id": "20f95da3-ed7d-4325-9930-1d5d9a975e2a",
   "metadata": {},
   "outputs": [],
   "source": []
  }
 ],
 "metadata": {
  "kernelspec": {
   "display_name": "Python 3 (ipykernel)",
   "language": "python",
   "name": "python3"
  },
  "language_info": {
   "codemirror_mode": {
    "name": "ipython",
    "version": 3
   },
   "file_extension": ".py",
   "mimetype": "text/x-python",
   "name": "python",
   "nbconvert_exporter": "python",
   "pygments_lexer": "ipython3",
   "version": "3.11.8"
  }
 },
 "nbformat": 4,
 "nbformat_minor": 5
}
