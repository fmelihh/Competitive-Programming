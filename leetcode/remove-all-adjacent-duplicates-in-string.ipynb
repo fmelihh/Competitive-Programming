{
 "cells": [
  {
   "cell_type": "code",
   "execution_count": null,
   "id": "71f773cf-a27d-4adf-a386-94e513b41d74",
   "metadata": {},
   "outputs": [],
   "source": [
    "class Solution:\n",
    "    def removeDuplicates(self, s: str) -> str:\n",
    "        if len(s) < 2:\n",
    "            return s\n",
    "        \n",
    "        stack = []\n",
    "        for idx in range(len(s)):\n",
    "            if len(stack) < 1 or stack[-1] != s[idx]:\n",
    "                stack.append(s[idx])\n",
    "            else:\n",
    "                stack.pop(-1)\n",
    "\n",
    "        return ''.join(stack)\n",
    "            \n",
    "            \n",
    "        "
   ]
  }
 ],
 "metadata": {
  "kernelspec": {
   "display_name": "Python 3 (ipykernel)",
   "language": "python",
   "name": "python3"
  },
  "language_info": {
   "codemirror_mode": {
    "name": "ipython",
    "version": 3
   },
   "file_extension": ".py",
   "mimetype": "text/x-python",
   "name": "python",
   "nbconvert_exporter": "python",
   "pygments_lexer": "ipython3",
   "version": "3.11.8"
  }
 },
 "nbformat": 4,
 "nbformat_minor": 5
}
