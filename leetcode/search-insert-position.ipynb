{
 "cells": [
  {
   "cell_type": "code",
   "execution_count": null,
   "id": "99913fd3-3a41-45a1-85e1-21bda3f16055",
   "metadata": {},
   "outputs": [],
   "source": [
    "# https://leetcode.com/problems/search-insert-position/"
   ]
  },
  {
   "cell_type": "code",
   "execution_count": 2,
   "id": "725b12cd-778e-46c6-96a1-6c1d30c850c9",
   "metadata": {},
   "outputs": [],
   "source": [
    "from typing import List"
   ]
  },
  {
   "cell_type": "code",
   "execution_count": 29,
   "id": "bc26740c-1ec4-4db6-95dc-75b99b94a2ed",
   "metadata": {},
   "outputs": [],
   "source": [
    "class Solution:\n",
    "    def searchInsert(self, nums: List[int], target: int) -> int:\n",
    "        start = 0\n",
    "        end = len(nums) - 1\n",
    "        mid = -1\n",
    "        \n",
    "        while end > start:\n",
    "            mid = (start + end) // 2\n",
    "            if nums[mid] > target:\n",
    "                end = mid - 1\n",
    "            elif nums[mid] < target:\n",
    "                start = mid + 1\n",
    "            else:\n",
    "                return mid    \n",
    "        \n",
    "        return start + 1 if end == start and target > nums[start] else start"
   ]
  },
  {
   "cell_type": "code",
   "execution_count": 30,
   "id": "6d5130e0-9142-4232-aae7-88bd880e6251",
   "metadata": {},
   "outputs": [
    {
     "name": "stdout",
     "output_type": "stream",
     "text": [
      "3 3 2\n"
     ]
    },
    {
     "data": {
      "text/plain": [
       "4"
      ]
     },
     "execution_count": 30,
     "metadata": {},
     "output_type": "execute_result"
    }
   ],
   "source": [
    "s = Solution()\n",
    "s.searchInsert([1,3,5,6], 7)"
   ]
  },
  {
   "cell_type": "code",
   "execution_count": 28,
   "id": "a668fb20-d4ba-4718-ac28-3dd039814cb2",
   "metadata": {},
   "outputs": [],
   "source": [
    "test = [1, 2]"
   ]
  },
  {
   "cell_type": "code",
   "execution_count": 6,
   "id": "db87839e-611c-438b-8c5e-098748e1874a",
   "metadata": {},
   "outputs": [
    {
     "ename": "IndexError",
     "evalue": "list index out of range",
     "output_type": "error",
     "traceback": [
      "\u001b[0;31m---------------------------------------------------------------------------\u001b[0m",
      "\u001b[0;31mIndexError\u001b[0m                                Traceback (most recent call last)",
      "Cell \u001b[0;32mIn [6], line 1\u001b[0m\n\u001b[0;32m----> 1\u001b[0m \u001b[43mtest\u001b[49m\u001b[43m[\u001b[49m\u001b[38;5;28;43mlen\u001b[39;49m\u001b[43m(\u001b[49m\u001b[43mtest\u001b[49m\u001b[43m)\u001b[49m\u001b[43m]\u001b[49m\n",
      "\u001b[0;31mIndexError\u001b[0m: list index out of range"
     ]
    }
   ],
   "source": [
    "test[len(test)]"
   ]
  },
  {
   "cell_type": "code",
   "execution_count": null,
   "id": "b9589f0b-01c5-492c-af3c-d5fe2cd1eff7",
   "metadata": {},
   "outputs": [],
   "source": []
  }
 ],
 "metadata": {
  "kernelspec": {
   "display_name": "Python 3 (ipykernel)",
   "language": "python",
   "name": "python3"
  },
  "language_info": {
   "codemirror_mode": {
    "name": "ipython",
    "version": 3
   },
   "file_extension": ".py",
   "mimetype": "text/x-python",
   "name": "python",
   "nbconvert_exporter": "python",
   "pygments_lexer": "ipython3",
   "version": "3.8.10"
  }
 },
 "nbformat": 4,
 "nbformat_minor": 5
}
