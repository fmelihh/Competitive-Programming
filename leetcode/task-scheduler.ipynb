{
 "cells": [
  {
   "cell_type": "code",
   "execution_count": 60,
   "id": "88c0ee37-9b26-42f2-a439-61a36bce0e81",
   "metadata": {},
   "outputs": [],
   "source": [
    "from collections import Counter\n",
    "from typing import List\n",
    "\n",
    "class Solution:\n",
    "\n",
    "    def leastInterval(self, tasks: List[str], n: int) -> int:\n",
    "        task_counts = Counter(tasks)\n",
    "        max_count = max(task_counts.values())\n",
    "        max_count_tasks = sum(1 for task, count in task_counts.items() if count == max_count)\n",
    "        \n",
    "        part_count = max_count - 1\n",
    "        part_length = n - (max_count_tasks - 1)\n",
    "        empty_slots = part_count * part_length\n",
    "        available_tasks = len(tasks) - max_count * max_count_tasks\n",
    "        idles = max(0, empty_slots - available_tasks)\n",
    "        \n",
    "        return len(tasks) + idles\n",
    "        "
   ]
  },
  {
   "cell_type": "code",
   "execution_count": 61,
   "id": "e372fe98-2946-4f40-b530-b6587c2ba7e0",
   "metadata": {},
   "outputs": [
    {
     "data": {
      "text/plain": [
       "12"
      ]
     },
     "execution_count": 61,
     "metadata": {},
     "output_type": "execute_result"
    }
   ],
   "source": [
    "Solution().leastInterval(tasks=[\"A\",\"A\",\"A\",\"A\",\"A\",\"A\",\"B\",\"C\",\"D\",\"E\",\"F\",\"G\"], n = 1)"
   ]
  },
  {
   "cell_type": "code",
   "execution_count": null,
   "id": "296035d0-f657-4cbb-bf13-367279c5c1ca",
   "metadata": {},
   "outputs": [],
   "source": []
  }
 ],
 "metadata": {
  "kernelspec": {
   "display_name": "Python 3 (ipykernel)",
   "language": "python",
   "name": "python3"
  },
  "language_info": {
   "codemirror_mode": {
    "name": "ipython",
    "version": 3
   },
   "file_extension": ".py",
   "mimetype": "text/x-python",
   "name": "python",
   "nbconvert_exporter": "python",
   "pygments_lexer": "ipython3",
   "version": "3.11.5"
  }
 },
 "nbformat": 4,
 "nbformat_minor": 5
}
