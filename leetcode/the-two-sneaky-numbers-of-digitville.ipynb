{
 "cells": [
  {
   "cell_type": "code",
   "execution_count": 1,
   "id": "ba6d1ed5-1d10-4f25-a7e6-7748b3fa8152",
   "metadata": {},
   "outputs": [],
   "source": [
    "from typing import List\n",
    "\n",
    "class Solution:\n",
    "    def getSneakyNumbers(self, nums: List[int]) -> List[int]:\n",
    "        hashmap = dict()\n",
    "        for num in nums:\n",
    "            if num not in hashmap:\n",
    "                hashmap[num] = 0\n",
    "            hashmap[num] += 1\n",
    "\n",
    "        return [\n",
    "            num\n",
    "            for num, count in hashmap.items()\n",
    "            if count > 1\n",
    "        ]\n",
    "        "
   ]
  },
  {
   "cell_type": "code",
   "execution_count": null,
   "id": "411c0df5-3d53-4cc5-8938-53225cd8ba89",
   "metadata": {},
   "outputs": [],
   "source": []
  }
 ],
 "metadata": {
  "kernelspec": {
   "display_name": "Python 3 (ipykernel)",
   "language": "python",
   "name": "python3"
  },
  "language_info": {
   "codemirror_mode": {
    "name": "ipython",
    "version": 3
   },
   "file_extension": ".py",
   "mimetype": "text/x-python",
   "name": "python",
   "nbconvert_exporter": "python",
   "pygments_lexer": "ipython3",
   "version": "3.11.5"
  }
 },
 "nbformat": 4,
 "nbformat_minor": 5
}
