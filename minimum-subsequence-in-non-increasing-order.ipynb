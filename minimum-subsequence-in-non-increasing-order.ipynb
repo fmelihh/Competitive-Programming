{
 "cells": [
  {
   "cell_type": "code",
   "execution_count": 1,
   "id": "f7f87635-46b7-4c2a-b22e-6db6e8c779b3",
   "metadata": {},
   "outputs": [],
   "source": [
    "# https://leetcode.com/problems/minimum-subsequence-in-non-increasing-order/"
   ]
  },
  {
   "cell_type": "code",
   "execution_count": null,
   "id": "715ed61e-a235-432c-ba20-e557388555a5",
   "metadata": {},
   "outputs": [],
   "source": [
    "class Solution:\n",
    "    def minSubsequence(self, nums: List[int]) -> List[int]:\n",
    "        sum_of_nums = sum(nums)\n",
    "        nums.sort(reverse=True)\n",
    "        \n",
    "        for i, num in enumerate(nums):            \n",
    "            if (sum(nums[0: i+1]) * 2) > sum_of_nums:\n",
    "                return nums[0: i+1]\n",
    "            \n",
    "        return []\n",
    "            \n",
    "            \n",
    "        "
   ]
  },
  {
   "cell_type": "code",
   "execution_count": 3,
   "id": "ff765a31-a27e-4d0e-85c9-93ef16b389f7",
   "metadata": {},
   "outputs": [],
   "source": [
    "a = [1 ,2,4]"
   ]
  },
  {
   "cell_type": "code",
   "execution_count": 5,
   "id": "7551e663-dbcd-4245-9427-b255f86cdde8",
   "metadata": {},
   "outputs": [
    {
     "data": {
      "text/plain": [
       "[1]"
      ]
     },
     "execution_count": 5,
     "metadata": {},
     "output_type": "execute_result"
    }
   ],
   "source": [
    "a[0:1]"
   ]
  },
  {
   "cell_type": "code",
   "execution_count": null,
   "id": "76e6d2da-f39f-4cef-8b06-1aa9513fa599",
   "metadata": {},
   "outputs": [],
   "source": []
  }
 ],
 "metadata": {
  "kernelspec": {
   "display_name": "Python 3 (ipykernel)",
   "language": "python",
   "name": "python3"
  },
  "language_info": {
   "codemirror_mode": {
    "name": "ipython",
    "version": 3
   },
   "file_extension": ".py",
   "mimetype": "text/x-python",
   "name": "python",
   "nbconvert_exporter": "python",
   "pygments_lexer": "ipython3",
   "version": "3.8.10"
  }
 },
 "nbformat": 4,
 "nbformat_minor": 5
}
