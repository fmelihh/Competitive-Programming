{
 "cells": [
  {
   "cell_type": "code",
   "execution_count": 52,
   "id": "cd86c108-687b-48be-9700-6bae365dcb2e",
   "metadata": {},
   "outputs": [],
   "source": [
    "from typing import List\n",
    "\n",
    "# Time complexity: O(n)\n",
    "# Space complexity: O(n)\n",
    "\n",
    "class Solution:\n",
    "    def twoSum(self, nums: List[int], target: int) -> List[int]:\n",
    "        if len(nums) == 2:\n",
    "            return [0, 1]\n",
    "            \n",
    "        hash_map = {}\n",
    "        for first_idx in range(len(nums)):\n",
    "            second_idx = hash_map.get(target - nums[first_idx])\n",
    "            if second_idx is not None and first_idx != second_idx:\n",
    "                return [first_idx, second_idx]\n",
    "            \n",
    "            hash_map[nums[first_idx]] = first_idx\n"
   ]
  },
  {
   "cell_type": "code",
   "execution_count": 53,
   "id": "5f547df7-1d59-450b-9508-5a8f88aaf1f9",
   "metadata": {},
   "outputs": [],
   "source": [
    "s = Solution()"
   ]
  },
  {
   "cell_type": "code",
   "execution_count": 54,
   "id": "46f85842-c69c-460c-9817-4712b773737f",
   "metadata": {},
   "outputs": [
    {
     "data": {
      "text/plain": [
       "[1, 0]"
      ]
     },
     "execution_count": 54,
     "metadata": {},
     "output_type": "execute_result"
    }
   ],
   "source": [
    "s.twoSum(nums = [2,7,11,15], target = 9) # [0,1]"
   ]
  },
  {
   "cell_type": "code",
   "execution_count": 55,
   "id": "98c976bd-3ac0-4455-a0bb-0f29b674bbd3",
   "metadata": {},
   "outputs": [
    {
     "data": {
      "text/plain": [
       "[2, 1]"
      ]
     },
     "execution_count": 55,
     "metadata": {},
     "output_type": "execute_result"
    }
   ],
   "source": [
    "s.twoSum(nums = [3,2,4], target = 6) # [1,2]"
   ]
  },
  {
   "cell_type": "code",
   "execution_count": 56,
   "id": "3d1d91c7-8753-4ddb-98cc-f98d440773c4",
   "metadata": {},
   "outputs": [
    {
     "data": {
      "text/plain": [
       "[0, 1]"
      ]
     },
     "execution_count": 56,
     "metadata": {},
     "output_type": "execute_result"
    }
   ],
   "source": [
    "s.twoSum(nums = [3,3], target = 6) # [0,1]"
   ]
  },
  {
   "cell_type": "code",
   "execution_count": null,
   "id": "2897e5f4-ade9-41e0-9c6b-024ebca5b436",
   "metadata": {},
   "outputs": [],
   "source": [
    "from typing import List\n",
    "\n",
    "# Time complexity: O(n)\n",
    "# Space complexity: O(n)\n",
    "\n",
    "class Solution:\n",
    "    def twoSum(self, nums: List[int], target: int) -> List[int]:\n",
    "        hash_map = {}\n",
    "        for i, n in enumerate(nums):\n",
    "            diff = target - n\n",
    "            if diff in hash_map:\n",
    "                return [i, hash_map[diff]]\n",
    "\n",
    "            hash_map[n] = i\n",
    "\n",
    "        return None\n"
   ]
  }
 ],
 "metadata": {
  "kernelspec": {
   "display_name": "Python 3 (ipykernel)",
   "language": "python",
   "name": "python3"
  },
  "language_info": {
   "codemirror_mode": {
    "name": "ipython",
    "version": 3
   },
   "file_extension": ".py",
   "mimetype": "text/x-python",
   "name": "python",
   "nbconvert_exporter": "python",
   "pygments_lexer": "ipython3",
   "version": "3.8.10"
  }
 },
 "nbformat": 4,
 "nbformat_minor": 5
}
