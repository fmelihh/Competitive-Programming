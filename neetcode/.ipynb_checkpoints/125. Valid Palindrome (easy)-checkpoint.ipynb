{
 "cells": [
  {
   "cell_type": "code",
   "execution_count": 78,
   "id": "fd923008-a6f7-422b-ac58-4b93ba169bed",
   "metadata": {},
   "outputs": [],
   "source": [
    "# Time complexity: O(n)\n",
    "# Memory complexity: O(1)\n",
    "\n",
    "class Solution:\n",
    "    def isPalindrome(self, s: str) -> bool:\n",
    "        left = 0\n",
    "        right = len(s) - 1\n",
    "        while right > left:\n",
    "            if not s[left].isalnum():\n",
    "                left += 1\n",
    "            elif not s[right].isalnum():\n",
    "                right -= 1\n",
    "            elif s[left].lower() != s[right].lower():\n",
    "                return False\n",
    "            else:\n",
    "                left += 1\n",
    "                right -= 1\n",
    "                    \n",
    "        return True"
   ]
  },
  {
   "cell_type": "code",
   "execution_count": 79,
   "id": "bee5e73e-c538-4e96-bca7-616ddbf8f933",
   "metadata": {},
   "outputs": [],
   "source": [
    "s = Solution()"
   ]
  },
  {
   "cell_type": "code",
   "execution_count": 80,
   "id": "17ae8483-c3b2-4cf2-8407-90923a401646",
   "metadata": {},
   "outputs": [
    {
     "data": {
      "text/plain": [
       "True"
      ]
     },
     "execution_count": 80,
     "metadata": {},
     "output_type": "execute_result"
    }
   ],
   "source": [
    "s.isPalindrome(s = \"A man, a plan, a canal: Panama\") # true"
   ]
  },
  {
   "cell_type": "code",
   "execution_count": 81,
   "id": "935e6cf3-b9eb-48cd-8fc2-82e203687f2a",
   "metadata": {},
   "outputs": [
    {
     "data": {
      "text/plain": [
       "False"
      ]
     },
     "execution_count": 81,
     "metadata": {},
     "output_type": "execute_result"
    }
   ],
   "source": [
    "s.isPalindrome(s = \"race a car\") # false"
   ]
  },
  {
   "cell_type": "code",
   "execution_count": 82,
   "id": "056076fa-ae17-43ac-93d0-36c4ea1b53bd",
   "metadata": {},
   "outputs": [
    {
     "data": {
      "text/plain": [
       "True"
      ]
     },
     "execution_count": 82,
     "metadata": {},
     "output_type": "execute_result"
    }
   ],
   "source": [
    "s.isPalindrome(s = \" \") # true"
   ]
  },
  {
   "cell_type": "code",
   "execution_count": 83,
   "id": "843f45b2-a824-470a-b019-508179c37418",
   "metadata": {},
   "outputs": [
    {
     "data": {
      "text/plain": [
       "True"
      ]
     },
     "execution_count": 83,
     "metadata": {},
     "output_type": "execute_result"
    }
   ],
   "source": [
    "s.isPalindrome(s=\"a\")"
   ]
  }
 ],
 "metadata": {
  "kernelspec": {
   "display_name": "Python 3 (ipykernel)",
   "language": "python",
   "name": "python3"
  },
  "language_info": {
   "codemirror_mode": {
    "name": "ipython",
    "version": 3
   },
   "file_extension": ".py",
   "mimetype": "text/x-python",
   "name": "python",
   "nbconvert_exporter": "python",
   "pygments_lexer": "ipython3",
   "version": "3.8.10"
  }
 },
 "nbformat": 4,
 "nbformat_minor": 5
}
