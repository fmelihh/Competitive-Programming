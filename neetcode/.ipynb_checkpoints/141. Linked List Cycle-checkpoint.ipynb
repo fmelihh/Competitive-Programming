{
 "cells": [
  {
   "cell_type": "code",
   "execution_count": 7,
   "id": "ee26b0b7-e036-457c-bf79-8601c1f97c09",
   "metadata": {},
   "outputs": [],
   "source": [
    "# Time comlexity: O(n)\n",
    "# Space complexity: O(1)\n",
    "\n",
    "# https://www.geeksforgeeks.org/floyds-cycle-finding-algorithm/\n",
    "\n",
    "# Definition for singly-linked list.\n",
    "# class ListNode:\n",
    "#     def __init__(self, x):\n",
    "#         self.val = x\n",
    "#         self.next = None\n",
    "\n",
    "class Solution:\n",
    "    def hasCycle(self, head: Optional[ListNode]) -> bool:\n",
    "        slow, fast = head, head\n",
    "        while fast and fast.next:\n",
    "            slow = slow.next\n",
    "            fast = fast.next.next\n",
    "\n",
    "            if slow == fast:\n",
    "                return True\n",
    "        \n",
    "        return False\n"
   ]
  },
  {
   "cell_type": "code",
   "execution_count": null,
   "id": "a20ac03f-e998-489b-899e-c3865bb9d50c",
   "metadata": {},
   "outputs": [],
   "source": []
  }
 ],
 "metadata": {
  "kernelspec": {
   "display_name": "Python 3 (ipykernel)",
   "language": "python",
   "name": "python3"
  },
  "language_info": {
   "codemirror_mode": {
    "name": "ipython",
    "version": 3
   },
   "file_extension": ".py",
   "mimetype": "text/x-python",
   "name": "python",
   "nbconvert_exporter": "python",
   "pygments_lexer": "ipython3",
   "version": "3.8.10"
  }
 },
 "nbformat": 4,
 "nbformat_minor": 5
}
