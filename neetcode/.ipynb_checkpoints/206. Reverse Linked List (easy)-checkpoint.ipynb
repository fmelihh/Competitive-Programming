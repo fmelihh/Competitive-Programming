{
 "cells": [
  {
   "cell_type": "code",
   "execution_count": 4,
   "id": "bfd661d9-5a52-4063-a55d-d9817a2b3327",
   "metadata": {},
   "outputs": [],
   "source": [
    "from typing import Optional\n",
    "# Definition for singly-linked list.\n",
    "\n",
    "class ListNode:\n",
    "     def __init__(self, val=0, next=None):\n",
    "         self.val = val\n",
    "         self.next = next\n",
    "\n",
    "class Solution:\n",
    "    def reverseList(self, head: Optional[ListNode]) -> Optional[ListNode]:\n",
    "        prev = None\n",
    "        current = head\n",
    "\n",
    "        while (current is not None):\n",
    "            next = current.next\n",
    "            current.next = prev\n",
    "            prev, current = current, next\n",
    "\n",
    "        head = prev\n",
    "        return head\n",
    "    \n",
    "            "
   ]
  },
  {
   "cell_type": "code",
   "execution_count": 5,
   "id": "275237ee-a75c-41a4-a12e-3796e642a1d2",
   "metadata": {},
   "outputs": [],
   "source": [
    "# recursive\n",
    "from typing import Optional\n",
    "# Definition for singly-linked list.\n",
    "\n",
    "class ListNode:\n",
    "     def __init__(self, val=0, next=None):\n",
    "         self.val = val\n",
    "         self.next = next\n",
    "\n",
    "class Solution:\n",
    "    def reverseList(self, head: Optional[ListNode]) -> Optional[ListNode]:\n",
    "        return self.reverse_recursive(head, None)\n",
    "\n",
    "    def reverse_recursive(self, current: Optional[ListNode], prev: Optional[ListNode]) -> Optional[ListNode]:\n",
    "        if current is None:\n",
    "            return prev\n",
    "        \n",
    "        next = current.next \n",
    "        current.next = prev\n",
    "        prev, current = current, next\n",
    "        return self.reverse_recursive(current, prev)\n",
    "        \n",
    "    \n",
    "    \n",
    "    \n",
    "            "
   ]
  },
  {
   "cell_type": "code",
   "execution_count": 6,
   "id": "f1c0f9a5-ff78-4930-aa4e-fcd55502bf93",
   "metadata": {},
   "outputs": [],
   "source": [
    "# https://leetcode.com/problems/reverse-linked-list"
   ]
  },
  {
   "cell_type": "code",
   "execution_count": null,
   "id": "d2415955-8604-4a92-ad3a-29e4600d07f4",
   "metadata": {},
   "outputs": [],
   "source": []
  }
 ],
 "metadata": {
  "kernelspec": {
   "display_name": "Python 3 (ipykernel)",
   "language": "python",
   "name": "python3"
  },
  "language_info": {
   "codemirror_mode": {
    "name": "ipython",
    "version": 3
   },
   "file_extension": ".py",
   "mimetype": "text/x-python",
   "name": "python",
   "nbconvert_exporter": "python",
   "pygments_lexer": "ipython3",
   "version": "3.8.10"
  }
 },
 "nbformat": 4,
 "nbformat_minor": 5
}
