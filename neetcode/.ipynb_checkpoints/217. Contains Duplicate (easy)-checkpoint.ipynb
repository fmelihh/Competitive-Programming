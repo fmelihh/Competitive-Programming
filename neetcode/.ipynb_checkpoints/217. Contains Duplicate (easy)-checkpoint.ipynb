{
 "cells": [
  {
   "cell_type": "code",
   "execution_count": 9,
   "id": "3c5cb859-b3e5-4ead-804a-359c4febccf8",
   "metadata": {},
   "outputs": [],
   "source": [
    "from typing import List\n",
    "\n",
    "# Time complexity: n + n*log(n) -> O(n*log(n))\n",
    "# Memory complexity: O(1)\n",
    "\n",
    "class Solution:\n",
    "    def containsDuplicate(self, nums: List[int]) -> bool:\n",
    "        nums.sort()\n",
    "        for idx in range(1, len(nums)):\n",
    "            if nums[idx - 1] == nums[idx]:\n",
    "                return True\n",
    "\n",
    "        return False"
   ]
  },
  {
   "cell_type": "code",
   "execution_count": 10,
   "id": "ca240357-98c9-4d25-aa82-108bdbc5e3f5",
   "metadata": {},
   "outputs": [],
   "source": [
    "s = Solution()"
   ]
  },
  {
   "cell_type": "code",
   "execution_count": 20,
   "id": "be929596-a55c-4620-9328-bdd3cd04d76e",
   "metadata": {},
   "outputs": [
    {
     "data": {
      "text/plain": [
       "True"
      ]
     },
     "execution_count": 20,
     "metadata": {},
     "output_type": "execute_result"
    }
   ],
   "source": [
    "s.containsDuplicate(nums=[1,2,3,1]) # -> true"
   ]
  },
  {
   "cell_type": "code",
   "execution_count": 21,
   "id": "47cb71a5-d1a1-43d7-a2b0-bb62059b04b0",
   "metadata": {},
   "outputs": [
    {
     "data": {
      "text/plain": [
       "False"
      ]
     },
     "execution_count": 21,
     "metadata": {},
     "output_type": "execute_result"
    }
   ],
   "source": [
    "s.containsDuplicate(nums=[1,2,3,4]) # -> false"
   ]
  },
  {
   "cell_type": "code",
   "execution_count": 22,
   "id": "2ee3f256-553f-477f-8697-75eb56a91d6d",
   "metadata": {},
   "outputs": [
    {
     "data": {
      "text/plain": [
       "True"
      ]
     },
     "execution_count": 22,
     "metadata": {},
     "output_type": "execute_result"
    }
   ],
   "source": [
    "s.containsDuplicate(nums=[1,1,1,3,3,4,3,2,4,2]) # -> true"
   ]
  },
  {
   "cell_type": "code",
   "execution_count": 16,
   "id": "a02e940e-69b5-4689-9528-e6e6afc2c385",
   "metadata": {},
   "outputs": [],
   "source": [
    "# This example can also be solved using the method of nested for loops.\n",
    "# Time compexity: O(n^2)\n",
    "# Space complexity: O(1)"
   ]
  },
  {
   "cell_type": "code",
   "execution_count": null,
   "id": "ea8cd2ad-4b50-4903-b099-2ec34259bd72",
   "metadata": {},
   "outputs": [],
   "source": []
  },
  {
   "cell_type": "code",
   "execution_count": 17,
   "id": "ed73c9ee-d788-48f4-8e10-8fc0fa5199c4",
   "metadata": {},
   "outputs": [],
   "source": [
    "# Second approach. Using hashmaps."
   ]
  },
  {
   "cell_type": "code",
   "execution_count": 23,
   "id": "538190f3-51e0-4e7f-82ec-12e3e1dc7dfc",
   "metadata": {},
   "outputs": [],
   "source": [
    "# Time complexity: O(n)\n",
    "# Space complexity: O(n)\n",
    "\n",
    "from typing import List\n",
    "\n",
    "class Solution:\n",
    "    def containsDuplicate(self, nums: List[int]) -> bool:\n",
    "        hashset = set()\n",
    "        for num in nums:\n",
    "            if num in hashset:\n",
    "                return True\n",
    "\n",
    "            hashset.add(num)\n",
    "        return False"
   ]
  },
  {
   "cell_type": "code",
   "execution_count": null,
   "id": "106b8f4f-b83b-45e0-897e-ac551f283dff",
   "metadata": {},
   "outputs": [],
   "source": []
  }
 ],
 "metadata": {
  "kernelspec": {
   "display_name": "Python 3 (ipykernel)",
   "language": "python",
   "name": "python3"
  },
  "language_info": {
   "codemirror_mode": {
    "name": "ipython",
    "version": 3
   },
   "file_extension": ".py",
   "mimetype": "text/x-python",
   "name": "python",
   "nbconvert_exporter": "python",
   "pygments_lexer": "ipython3",
   "version": "3.8.10"
  }
 },
 "nbformat": 4,
 "nbformat_minor": 5
}
