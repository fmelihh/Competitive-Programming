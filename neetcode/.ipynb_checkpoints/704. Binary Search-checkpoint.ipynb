{
 "cells": [
  {
   "cell_type": "code",
   "execution_count": 61,
   "id": "e4296e0d-8719-4785-8d38-e414c9019e69",
   "metadata": {},
   "outputs": [],
   "source": [
    "# Time complexity O(logn)\n",
    "# Space complexity O(1)\n",
    "\n",
    "from typing import List\n",
    "\n",
    "class Solution:\n",
    "    def search(self, nums: List[int], target: int) -> int:\n",
    "        left, right = 0, len(nums)\n",
    "        while right > left:\n",
    "            mid = (left + right) // 2\n",
    "            if nums[mid] > target:\n",
    "                right = mid\n",
    "            elif nums[mid] < target:\n",
    "                left = mid + 1\n",
    "            else:\n",
    "                return mid\n",
    "\n",
    "        return -1\n",
    "        "
   ]
  },
  {
   "cell_type": "code",
   "execution_count": 62,
   "id": "aae020a7-23de-4003-9a1f-e36cf61d23b2",
   "metadata": {},
   "outputs": [],
   "source": [
    "s = Solution()"
   ]
  },
  {
   "cell_type": "code",
   "execution_count": 63,
   "id": "c8ccffea-6327-4280-ab59-37a2fe46c355",
   "metadata": {},
   "outputs": [
    {
     "data": {
      "text/plain": [
       "4"
      ]
     },
     "execution_count": 63,
     "metadata": {},
     "output_type": "execute_result"
    }
   ],
   "source": [
    "s.search(nums = [-1,0,3,5,9,12], target = 9) # 4"
   ]
  },
  {
   "cell_type": "code",
   "execution_count": 64,
   "id": "e7e52ef5-22c0-4be8-afbd-48b336990252",
   "metadata": {},
   "outputs": [
    {
     "data": {
      "text/plain": [
       "-1"
      ]
     },
     "execution_count": 64,
     "metadata": {},
     "output_type": "execute_result"
    }
   ],
   "source": [
    "s.search(nums = [-1,0,3,5,9,12], target = 2) # -1"
   ]
  }
 ],
 "metadata": {
  "kernelspec": {
   "display_name": "Python 3 (ipykernel)",
   "language": "python",
   "name": "python3"
  },
  "language_info": {
   "codemirror_mode": {
    "name": "ipython",
    "version": 3
   },
   "file_extension": ".py",
   "mimetype": "text/x-python",
   "name": "python",
   "nbconvert_exporter": "python",
   "pygments_lexer": "ipython3",
   "version": "3.8.10"
  }
 },
 "nbformat": 4,
 "nbformat_minor": 5
}
