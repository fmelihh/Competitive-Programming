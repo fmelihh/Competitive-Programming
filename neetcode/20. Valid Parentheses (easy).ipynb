{
 "cells": [
  {
   "cell_type": "code",
   "execution_count": 24,
   "id": "cd7ec356-e0a6-453f-a762-31939e67e1d6",
   "metadata": {},
   "outputs": [],
   "source": [
    "# Time complexity: O(n)\n",
    "# Space complexity: O(n)\n",
    "\n",
    "class Solution:\n",
    "    def isValid(self, s: str) -> bool:\n",
    "        stack = list()\n",
    "        brackets = {\n",
    "            \"(\": \")\",\n",
    "            \"[\": \"]\",\n",
    "            \"{\": \"}\"\n",
    "        }\n",
    "    \n",
    "        for val in s:\n",
    "            if bracket in brackets:\n",
    "                stack.append(val)\n",
    "            elif (len(stack) != 0) and (brackets[stack[-1]] == val):\n",
    "                stack.pop()\n",
    "            else:\n",
    "                return False\n",
    "\n",
    "        return len(stack) == 0\n",
    "           \n",
    "        "
   ]
  },
  {
   "cell_type": "code",
   "execution_count": 19,
   "id": "1b22b81e-2db2-4cf3-b0ca-4858cce0d5fb",
   "metadata": {},
   "outputs": [],
   "source": [
    "s = Solution()"
   ]
  },
  {
   "cell_type": "code",
   "execution_count": 20,
   "id": "b522b066-3fed-46d5-a290-23eeb8db9197",
   "metadata": {},
   "outputs": [
    {
     "data": {
      "text/plain": [
       "True"
      ]
     },
     "execution_count": 20,
     "metadata": {},
     "output_type": "execute_result"
    }
   ],
   "source": [
    "s.isValid(s = \"()\") # true"
   ]
  },
  {
   "cell_type": "code",
   "execution_count": 21,
   "id": "22dff4c9-e8f5-4927-ba3c-719051ed59ad",
   "metadata": {},
   "outputs": [
    {
     "data": {
      "text/plain": [
       "True"
      ]
     },
     "execution_count": 21,
     "metadata": {},
     "output_type": "execute_result"
    }
   ],
   "source": [
    "s.isValid(s = \"()[]{}\") # true"
   ]
  },
  {
   "cell_type": "code",
   "execution_count": 22,
   "id": "f7aabab8-f5d0-4958-8fc8-a2f8ad845e62",
   "metadata": {},
   "outputs": [
    {
     "data": {
      "text/plain": [
       "False"
      ]
     },
     "execution_count": 22,
     "metadata": {},
     "output_type": "execute_result"
    }
   ],
   "source": [
    "s.isValid(s = \"(]\") # false"
   ]
  }
 ],
 "metadata": {
  "kernelspec": {
   "display_name": "Python 3 (ipykernel)",
   "language": "python",
   "name": "python3"
  },
  "language_info": {
   "codemirror_mode": {
    "name": "ipython",
    "version": 3
   },
   "file_extension": ".py",
   "mimetype": "text/x-python",
   "name": "python",
   "nbconvert_exporter": "python",
   "pygments_lexer": "ipython3",
   "version": "3.8.10"
  }
 },
 "nbformat": 4,
 "nbformat_minor": 5
}
