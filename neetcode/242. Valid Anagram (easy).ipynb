{
 "cells": [
  {
   "cell_type": "code",
   "execution_count": null,
   "id": "58522e47-ddae-49c8-93f9-6b836daf6feb",
   "metadata": {},
   "outputs": [],
   "source": []
  },
  {
   "cell_type": "code",
   "execution_count": 32,
   "id": "dfa0c0d8-7db0-4acc-ace2-517ba034d383",
   "metadata": {},
   "outputs": [],
   "source": [
    "# Time complexity: O(s + t)\n",
    "# Memory complexity: O(s + t) \n",
    "    \n",
    "class Solution:\n",
    "    def isAnagram(self, s: str, t: str) -> bool:\n",
    "        if len(s) != len(t):\n",
    "            return False\n",
    "            \n",
    "        count_s, count_t = {}, {}\n",
    "        for i in range(len(s)):\n",
    "            count_s[s[i]] = 1 + count_s.get(s[i], 0)\n",
    "            count_t[t[i]] = 1 + count_t.get(t[i], 0)\n",
    "\n",
    "        for c in count_s:\n",
    "            if count_s[c] != count_t.get(c, 0):\n",
    "                return False\n",
    "\n",
    "        return True"
   ]
  },
  {
   "cell_type": "code",
   "execution_count": 33,
   "id": "af11ea62-272a-4209-b488-e59111934460",
   "metadata": {},
   "outputs": [],
   "source": [
    "s = Solution()"
   ]
  },
  {
   "cell_type": "code",
   "execution_count": 34,
   "id": "32b2f48f-75cc-4546-aa91-532e11e5cab6",
   "metadata": {},
   "outputs": [
    {
     "data": {
      "text/plain": [
       "True"
      ]
     },
     "execution_count": 34,
     "metadata": {},
     "output_type": "execute_result"
    }
   ],
   "source": [
    "s.isAnagram(s = \"anagram\", t = \"nagaram\") # -> true"
   ]
  },
  {
   "cell_type": "code",
   "execution_count": 35,
   "id": "9bf28faf-ab95-4717-b1ff-37ce5a2a74b4",
   "metadata": {},
   "outputs": [
    {
     "data": {
      "text/plain": [
       "False"
      ]
     },
     "execution_count": 35,
     "metadata": {},
     "output_type": "execute_result"
    }
   ],
   "source": [
    "s.isAnagram(s = \"rat\", t = \"car\") # -> false"
   ]
  },
  {
   "cell_type": "code",
   "execution_count": 36,
   "id": "a94d5a5a-c355-4009-8a2b-25b1493a2f37",
   "metadata": {},
   "outputs": [],
   "source": [
    "# Time complexity: O(nlogn)\n",
    "# Space complexity: O(1)\n",
    "\n",
    "class Solution:\n",
    "    def isAnagram(self, s: str, t: str) -> bool:\n",
    "        return sorted(s) == sorted(t)"
   ]
  },
  {
   "cell_type": "code",
   "execution_count": null,
   "id": "e80fcda7-2446-43cd-81a9-046ef006fd64",
   "metadata": {},
   "outputs": [],
   "source": []
  },
  {
   "cell_type": "code",
   "execution_count": null,
   "id": "95f4b4d4-cd28-484b-a037-9fd437857461",
   "metadata": {},
   "outputs": [],
   "source": []
  }
 ],
 "metadata": {
  "kernelspec": {
   "display_name": "Python 3 (ipykernel)",
   "language": "python",
   "name": "python3"
  },
  "language_info": {
   "codemirror_mode": {
    "name": "ipython",
    "version": 3
   },
   "file_extension": ".py",
   "mimetype": "text/x-python",
   "name": "python",
   "nbconvert_exporter": "python",
   "pygments_lexer": "ipython3",
   "version": "3.8.10"
  }
 },
 "nbformat": 4,
 "nbformat_minor": 5
}
