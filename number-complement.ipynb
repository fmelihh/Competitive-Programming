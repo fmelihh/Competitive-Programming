{
 "cells": [
  {
   "cell_type": "code",
   "execution_count": 52,
   "id": "ea2a5b20-5204-4bc4-83a3-1420f7f50720",
   "metadata": {},
   "outputs": [],
   "source": [
    "class Solution:\n",
    "    def findComplement(self, num: int) -> int:\n",
    "        length = len(bin(num)[2:])\n",
    "        bitwise_not_num = (1 << length) - 1 - num\n",
    "        return bitwise_not_num\n",
    "        \n",
    "        "
   ]
  },
  {
   "cell_type": "code",
   "execution_count": 55,
   "id": "728675d4-9c80-4ded-a2fb-906b52bad260",
   "metadata": {},
   "outputs": [
    {
     "data": {
      "text/plain": [
       "'011'"
      ]
     },
     "execution_count": 55,
     "metadata": {},
     "output_type": "execute_result"
    }
   ],
   "source": [
    "s = Solution()\n",
    "s.findComplement(4)"
   ]
  },
  {
   "cell_type": "code",
   "execution_count": 57,
   "id": "ceeb13da-980a-4b22-bf5a-b82ebebd8bb6",
   "metadata": {},
   "outputs": [
    {
     "data": {
      "text/plain": [
       "8"
      ]
     },
     "execution_count": 57,
     "metadata": {},
     "output_type": "execute_result"
    }
   ],
   "source": [
    "1 << 3"
   ]
  },
  {
   "cell_type": "code",
   "execution_count": 58,
   "id": "400f3266-110f-4e6a-8095-7ec7c68aae90",
   "metadata": {},
   "outputs": [
    {
     "data": {
      "text/plain": [
       "('0b11', '0b1000')"
      ]
     },
     "execution_count": 58,
     "metadata": {},
     "output_type": "execute_result"
    }
   ],
   "source": [
    "bin(3), bin(8)"
   ]
  },
  {
   "cell_type": "code",
   "execution_count": 23,
   "id": "d2d25bb3-24e6-46a4-a4aa-f2a67b8a8eaf",
   "metadata": {},
   "outputs": [
    {
     "data": {
      "text/plain": [
       "('0b100', '0b101')"
      ]
     },
     "execution_count": 23,
     "metadata": {},
     "output_type": "execute_result"
    }
   ],
   "source": [
    "bin(4), bin(5)"
   ]
  },
  {
   "cell_type": "code",
   "execution_count": 29,
   "id": "e89d0645-5576-4f1e-8d84-b80abdde0577",
   "metadata": {},
   "outputs": [
    {
     "data": {
      "text/plain": [
       "'-0b101'"
      ]
     },
     "execution_count": 29,
     "metadata": {},
     "output_type": "execute_result"
    }
   ],
   "source": [
    "bin(~0b100)"
   ]
  },
  {
   "cell_type": "code",
   "execution_count": 41,
   "id": "89db057e-4f91-4df5-9132-e33e7e156c1c",
   "metadata": {},
   "outputs": [
    {
     "data": {
      "text/plain": [
       "'0b101'"
      ]
     },
     "execution_count": 41,
     "metadata": {},
     "output_type": "execute_result"
    }
   ],
   "source": [
    "bin(5)"
   ]
  },
  {
   "cell_type": "code",
   "execution_count": 43,
   "id": "10394ec8-81c1-4c0b-8625-a72e3ef33f12",
   "metadata": {},
   "outputs": [
    {
     "data": {
      "text/plain": [
       "'0b10'"
      ]
     },
     "execution_count": 43,
     "metadata": {},
     "output_type": "execute_result"
    }
   ],
   "source": [
    "bin(0b111 -  0b101)"
   ]
  },
  {
   "cell_type": "code",
   "execution_count": 45,
   "id": "72899c46-1341-46e9-81f9-0b2324b63eaa",
   "metadata": {},
   "outputs": [
    {
     "data": {
      "text/plain": [
       "'0b101'"
      ]
     },
     "execution_count": 45,
     "metadata": {},
     "output_type": "execute_result"
    }
   ],
   "source": [
    "bin(5)"
   ]
  },
  {
   "cell_type": "code",
   "execution_count": 47,
   "id": "62966318-c04c-4f7e-82b2-a63188573fc4",
   "metadata": {},
   "outputs": [
    {
     "data": {
      "text/plain": [
       "2"
      ]
     },
     "execution_count": 47,
     "metadata": {},
     "output_type": "execute_result"
    }
   ],
   "source": [
    "(1 << 3) - 1 - 5"
   ]
  },
  {
   "cell_type": "code",
   "execution_count": 48,
   "id": "4f1ec879-dd72-451a-b810-89f5f774c662",
   "metadata": {},
   "outputs": [
    {
     "data": {
      "text/plain": [
       "'0b10'"
      ]
     },
     "execution_count": 48,
     "metadata": {},
     "output_type": "execute_result"
    }
   ],
   "source": [
    "bin(2)"
   ]
  },
  {
   "cell_type": "code",
   "execution_count": 49,
   "id": "3d12971b-3b5f-4132-a643-9cce6fa7a104",
   "metadata": {},
   "outputs": [
    {
     "data": {
      "text/plain": [
       "'22'"
      ]
     },
     "execution_count": 49,
     "metadata": {},
     "output_type": "execute_result"
    }
   ],
   "source": [
    "\"2\"*2"
   ]
  },
  {
   "cell_type": "code",
   "execution_count": null,
   "id": "66b8f681-edc3-4fd5-aaab-83551971ac3a",
   "metadata": {},
   "outputs": [],
   "source": []
  }
 ],
 "metadata": {
  "kernelspec": {
   "display_name": "Python 3 (ipykernel)",
   "language": "python",
   "name": "python3"
  },
  "language_info": {
   "codemirror_mode": {
    "name": "ipython",
    "version": 3
   },
   "file_extension": ".py",
   "mimetype": "text/x-python",
   "name": "python",
   "nbconvert_exporter": "python",
   "pygments_lexer": "ipython3",
   "version": "3.8.10"
  }
 },
 "nbformat": 4,
 "nbformat_minor": 5
}
