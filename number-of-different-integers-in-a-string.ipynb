{
 "cells": [
  {
   "cell_type": "code",
   "execution_count": 2,
   "id": "7515a60e-4b39-46bd-ae0b-40c4ef6a7fd4",
   "metadata": {},
   "outputs": [],
   "source": [
    "# https://leetcode.com/problems/number-of-different-integers-in-a-string/"
   ]
  },
  {
   "cell_type": "code",
   "execution_count": 36,
   "id": "1ea63438-c842-48a0-83b3-a0e37807e813",
   "metadata": {},
   "outputs": [],
   "source": [
    "import re\n",
    "\n",
    "class Solution:\n",
    "    def numDifferentIntegers(self, word: str) -> int:\n",
    "        chunks = re.sub('\\D', ' ', word).split(' ')\n",
    "        diff = list(set([int(chunk) for chunk in chunks if chunk.isdigit()]))\n",
    "    \n",
    "        return len(diff)\n",
    "          \n",
    "                \n",
    "            \n",
    "        "
   ]
  },
  {
   "cell_type": "code",
   "execution_count": 37,
   "id": "c2037512-3600-47fc-b56e-2a2965747906",
   "metadata": {},
   "outputs": [],
   "source": [
    "s = Solution()"
   ]
  },
  {
   "cell_type": "code",
   "execution_count": 38,
   "id": "5103e916-3f53-4e53-8f62-b9bfd364202a",
   "metadata": {},
   "outputs": [
    {
     "data": {
      "text/plain": [
       "1"
      ]
     },
     "execution_count": 38,
     "metadata": {},
     "output_type": "execute_result"
    }
   ],
   "source": [
    "s.numDifferentIntegers(word=\"a1b01c001\")"
   ]
  },
  {
   "cell_type": "code",
   "execution_count": null,
   "id": "8a70eaf5-7f5e-46f5-9efb-406c27fd280e",
   "metadata": {},
   "outputs": [],
   "source": [
    "\"a1b01c001\""
   ]
  },
  {
   "cell_type": "code",
   "execution_count": 29,
   "id": "7fb09268-f1a6-405a-b278-b8e83673394f",
   "metadata": {},
   "outputs": [
    {
     "data": {
      "text/plain": [
       "True"
      ]
     },
     "execution_count": 29,
     "metadata": {},
     "output_type": "execute_result"
    }
   ],
   "source": [
    "\"1\".isdigit()"
   ]
  },
  {
   "cell_type": "code",
   "execution_count": 26,
   "id": "260ad44f-03dd-40b6-8794-29b759274329",
   "metadata": {},
   "outputs": [],
   "source": [
    "a = \"0001\".lstrip(\"0\")"
   ]
  },
  {
   "cell_type": "code",
   "execution_count": 27,
   "id": "d1560db4-2eb6-4e1a-9108-35d2678de304",
   "metadata": {},
   "outputs": [
    {
     "data": {
      "text/plain": [
       "'1'"
      ]
     },
     "execution_count": 27,
     "metadata": {},
     "output_type": "execute_result"
    }
   ],
   "source": [
    "a"
   ]
  },
  {
   "cell_type": "code",
   "execution_count": 28,
   "id": "06b295ab-5e8c-4d5d-90fd-2c1c315cf4e7",
   "metadata": {},
   "outputs": [
    {
     "data": {
      "text/plain": [
       "1"
      ]
     },
     "execution_count": 28,
     "metadata": {},
     "output_type": "execute_result"
    }
   ],
   "source": [
    "int('0000001')"
   ]
  },
  {
   "cell_type": "code",
   "execution_count": null,
   "id": "5e9b425b-f26b-45a0-8a98-bda554a76842",
   "metadata": {},
   "outputs": [],
   "source": []
  }
 ],
 "metadata": {
  "kernelspec": {
   "display_name": "Python 3 (ipykernel)",
   "language": "python",
   "name": "python3"
  },
  "language_info": {
   "codemirror_mode": {
    "name": "ipython",
    "version": 3
   },
   "file_extension": ".py",
   "mimetype": "text/x-python",
   "name": "python",
   "nbconvert_exporter": "python",
   "pygments_lexer": "ipython3",
   "version": "3.8.10"
  }
 },
 "nbformat": 4,
 "nbformat_minor": 5
}
