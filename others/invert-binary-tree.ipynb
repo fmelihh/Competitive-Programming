{
 "cells": [
  {
   "cell_type": "code",
   "execution_count": 2,
   "id": "8bcfe4ef-c8dd-4f76-bb6a-6c95a7e379b7",
   "metadata": {},
   "outputs": [],
   "source": [
    "from typing import Optional"
   ]
  },
  {
   "cell_type": "code",
   "execution_count": 3,
   "id": "4c652e9e-fc4f-410d-a872-f171dd3a717a",
   "metadata": {},
   "outputs": [],
   "source": [
    "# Definition for a binary tree node.\n",
    " \n",
    "class TreeNode:\n",
    "    def __init__(self, val=0, left=None, right=None):\n",
    "        self.val = val\n",
    "        self.left = left\n",
    "        self.right = right\n",
    "        \n",
    "class Solution:\n",
    "    def invertTree(self, root: Optional[TreeNode]) -> Optional[TreeNode]:\n",
    "        if not root:\n",
    "            return None\n",
    "        \n",
    "        stack = [ root ]\n",
    "        while stack:\n",
    "            node = stack.pop()\n",
    "            node.left, node.right = node.right, node.left\n",
    "            \n",
    "            if node.left:\n",
    "                stack.append(node.left)\n",
    "            \n",
    "            if node.right:\n",
    "                stack.append(node.right)\n",
    "        "
   ]
  },
  {
   "cell_type": "code",
   "execution_count": 4,
   "id": "dc57356b-cdd3-4caf-82f2-788155ef051b",
   "metadata": {},
   "outputs": [],
   "source": [
    "s = Solution()\n",
    "s.invertTree(root=TreeNode())"
   ]
  },
  {
   "cell_type": "code",
   "execution_count": 5,
   "id": "5f4d6d02-5e90-4af1-8d2d-dbaa966424a8",
   "metadata": {},
   "outputs": [],
   "source": [
    "a = [1, 2, 3, 4]"
   ]
  },
  {
   "cell_type": "code",
   "execution_count": 6,
   "id": "f8ec4b37-2155-488b-bd1f-218dc9cbe570",
   "metadata": {},
   "outputs": [
    {
     "data": {
      "text/plain": [
       "4"
      ]
     },
     "execution_count": 6,
     "metadata": {},
     "output_type": "execute_result"
    }
   ],
   "source": [
    "a.pop()"
   ]
  },
  {
   "cell_type": "code",
   "execution_count": null,
   "id": "062bac2c-7507-49ca-87a5-937fe37c2b9e",
   "metadata": {},
   "outputs": [],
   "source": []
  }
 ],
 "metadata": {
  "kernelspec": {
   "display_name": "Python 3 (ipykernel)",
   "language": "python",
   "name": "python3"
  },
  "language_info": {
   "codemirror_mode": {
    "name": "ipython",
    "version": 3
   },
   "file_extension": ".py",
   "mimetype": "text/x-python",
   "name": "python",
   "nbconvert_exporter": "python",
   "pygments_lexer": "ipython3",
   "version": "3.8.10"
  }
 },
 "nbformat": 4,
 "nbformat_minor": 5
}
