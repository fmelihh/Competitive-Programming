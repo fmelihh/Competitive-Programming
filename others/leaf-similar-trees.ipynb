{
 "cells": [
  {
   "cell_type": "code",
   "execution_count": 1,
   "id": "b86fee21-815c-4a13-bd23-99745273b5ff",
   "metadata": {},
   "outputs": [],
   "source": [
    "# https://leetcode.com/problems/leaf-similar-trees/"
   ]
  },
  {
   "cell_type": "code",
   "execution_count": 3,
   "id": "c09488eb-c2dd-4c0c-b750-dd4330e74fa6",
   "metadata": {},
   "outputs": [],
   "source": [
    "from typing import Optional"
   ]
  },
  {
   "cell_type": "code",
   "execution_count": 21,
   "id": "cb60a849-6360-451d-a134-2228185e998e",
   "metadata": {},
   "outputs": [],
   "source": [
    "# Definition for a binary tree node.\n",
    "\n",
    "class TreeNode:\n",
    "    def __init__(self, val=0, left=None, right=None):\n",
    "        self.val = val\n",
    "        self.left = left\n",
    "        self.right = right\n",
    "\n",
    "\n",
    "class Solution:\n",
    "    def leafSimilar(self, root1: Optional[TreeNode], root2: Optional[TreeNode]) -> bool:\n",
    "        root1_last_node_values = self.traverse_last_nodes(root1)\n",
    "        root2_last_node_values = self.traverse_last_nodes(root2)\n",
    "        print(root1_last_node_values, root2_last_node_values)        \n",
    "        return root1_last_node_values == root2_last_node_values\n",
    "    \n",
    "    def traverse_last_nodes(self, root: Optional[TreeNode]) -> list:\n",
    "        current = root\n",
    "        stack = list()\n",
    "\n",
    "        last_vals = list()\n",
    "        while 1:\n",
    "            if current is not None:\n",
    "                stack.append(current)\n",
    "                current = current.left\n",
    "            elif stack:\n",
    "                current = stack.pop()\n",
    "\n",
    "                if current.left is None and current.right is None:\n",
    "                    last_vals.append(current.val)\n",
    "\n",
    "                current = current.right\n",
    "            else:\n",
    "                break\n",
    "        \n",
    "        return last_vals"
   ]
  },
  {
   "cell_type": "code",
   "execution_count": 22,
   "id": "3f99c42c-94ea-41d4-a0f5-bd8a3074170f",
   "metadata": {},
   "outputs": [
    {
     "ename": "TypeError",
     "evalue": "leafSimilar() missing 2 required positional arguments: 'root1' and 'root2'",
     "output_type": "error",
     "traceback": [
      "\u001b[0;31m---------------------------------------------------------------------------\u001b[0m",
      "\u001b[0;31mTypeError\u001b[0m                                 Traceback (most recent call last)",
      "Cell \u001b[0;32mIn [22], line 2\u001b[0m\n\u001b[1;32m      1\u001b[0m s \u001b[38;5;241m=\u001b[39m Solution()\n\u001b[0;32m----> 2\u001b[0m \u001b[43ms\u001b[49m\u001b[38;5;241;43m.\u001b[39;49m\u001b[43mleafSimilar\u001b[49m\u001b[43m(\u001b[49m\u001b[43m)\u001b[49m\n",
      "\u001b[0;31mTypeError\u001b[0m: leafSimilar() missing 2 required positional arguments: 'root1' and 'root2'"
     ]
    }
   ],
   "source": [
    "s = Solution()\n",
    "s.leafSimilar()"
   ]
  },
  {
   "cell_type": "code",
   "execution_count": 6,
   "id": "6c25038d-63a3-4a4d-aae3-dcca2883f8ec",
   "metadata": {},
   "outputs": [
    {
     "data": {
      "text/plain": [
       "False"
      ]
     },
     "execution_count": 6,
     "metadata": {},
     "output_type": "execute_result"
    }
   ],
   "source": []
  },
  {
   "cell_type": "code",
   "execution_count": 7,
   "id": "7b67453f-f117-49c5-9ce7-5f190af11bef",
   "metadata": {},
   "outputs": [],
   "source": [
    "class Node:\n",
    "    def __init__(self, val=0, left=None, right=None):\n",
    "        self.val = val\n",
    "        self.left = left\n",
    "        self.right = right"
   ]
  },
  {
   "cell_type": "code",
   "execution_count": 18,
   "id": "61bee137-cf97-4f99-8af1-1d8e06f3e148",
   "metadata": {},
   "outputs": [],
   "source": [
    "root = Node(val=3)\n",
    "root.left = Node(5)\n",
    "root.right = Node(1)\n",
    "root.left.left = Node(6)\n",
    "root.left.right = Node(2)\n",
    "root.left.right.left = Node(7)\n",
    "root.left.right.right = Node(4)\n",
    "root.right.left = Node(9)\n",
    "root.right.right = Node(8)"
   ]
  },
  {
   "cell_type": "code",
   "execution_count": 20,
   "id": "f902943d-d3ed-470d-9fd9-98eea7eb51af",
   "metadata": {},
   "outputs": [
    {
     "name": "stdout",
     "output_type": "stream",
     "text": [
      "[6, 7, 4, 9, 8]\n"
     ]
    }
   ],
   "source": [
    "current = root\n",
    "stack = list()\n",
    "\n",
    "last_vals = list()\n",
    "\n",
    "while 1:\n",
    "    if current is not None:\n",
    "        stack.append(current)\n",
    "        current = current.left\n",
    "    elif stack:\n",
    "        current = stack.pop()\n",
    "        \n",
    "        if current.left is None and current.right is None:\n",
    "            last_vals.append(current.val)\n",
    "            \n",
    "        current = current.right\n",
    "    else:\n",
    "        break\n",
    "        \n",
    "print(last_vals)"
   ]
  },
  {
   "cell_type": "code",
   "execution_count": null,
   "id": "58ee1217-65dd-4ee5-9f65-16ea44cc0f66",
   "metadata": {},
   "outputs": [],
   "source": []
  }
 ],
 "metadata": {
  "kernelspec": {
   "display_name": "Python 3 (ipykernel)",
   "language": "python",
   "name": "python3"
  },
  "language_info": {
   "codemirror_mode": {
    "name": "ipython",
    "version": 3
   },
   "file_extension": ".py",
   "mimetype": "text/x-python",
   "name": "python",
   "nbconvert_exporter": "python",
   "pygments_lexer": "ipython3",
   "version": "3.8.10"
  }
 },
 "nbformat": 4,
 "nbformat_minor": 5
}
