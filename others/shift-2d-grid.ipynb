{
 "cells": [
  {
   "cell_type": "code",
   "execution_count": 2,
   "id": "792a2c08-237b-4ff6-baaa-207c6f329ecf",
   "metadata": {},
   "outputs": [],
   "source": [
    "# https://leetcode.com/problems/shift-2d-grid/"
   ]
  },
  {
   "cell_type": "code",
   "execution_count": 3,
   "id": "93bf4295-c9fb-4e9c-bfbf-5318344b3fe3",
   "metadata": {},
   "outputs": [],
   "source": [
    "from typing import List"
   ]
  },
  {
   "cell_type": "code",
   "execution_count": 25,
   "id": "e7873e59-4395-4e48-9da7-05ca98cf92a5",
   "metadata": {},
   "outputs": [],
   "source": [
    "class Solution:\n",
    "    def shiftGrid(self, grid: List[List[int]], k: int) -> List[List[int]]:\n",
    "        main_arr = list()\n",
    "        x_length = len(grid[0])\n",
    "\n",
    "        for elem in grid: \n",
    "            main_arr.extend(elem)\n",
    "        \n",
    "        for i in range(k):\n",
    "            last_element = main_arr.pop()\n",
    "            main_arr.insert(0, last_element)\n",
    "        \n",
    "        print(x_length)\n",
    "        print(main_arr)\n",
    "        \n",
    "        return [main_arr[index:index+x_length] for index in range(0, len(main_arr), x_length)]\n",
    "            \n",
    "            \n",
    "            \n",
    "            "
   ]
  },
  {
   "cell_type": "code",
   "execution_count": 26,
   "id": "952a5753-d388-4396-868a-e962ed6e5360",
   "metadata": {},
   "outputs": [
    {
     "name": "stdout",
     "output_type": "stream",
     "text": [
      "3\n",
      "[9, 1, 2, 3, 4, 5, 6, 7, 8]\n"
     ]
    },
    {
     "data": {
      "text/plain": [
       "[[9, 1, 2], [], [3, 4, 5]]"
      ]
     },
     "execution_count": 26,
     "metadata": {},
     "output_type": "execute_result"
    }
   ],
   "source": [
    "s = Solution()\n",
    "s.shiftGrid(grid = [[1,2,3],[4,5,6],[7,8,9]], k = 1)"
   ]
  },
  {
   "cell_type": "code",
   "execution_count": null,
   "id": "647cb1c5-1370-4ffb-9718-4c1fc6ced125",
   "metadata": {},
   "outputs": [],
   "source": []
  },
  {
   "cell_type": "code",
   "execution_count": null,
   "id": "cf3d230a-33d7-492d-b379-060cd270a3e8",
   "metadata": {},
   "outputs": [],
   "source": []
  },
  {
   "cell_type": "code",
   "execution_count": null,
   "id": "4c6d3ecf-9687-4092-8a45-2c24a580cad8",
   "metadata": {},
   "outputs": [],
   "source": []
  },
  {
   "cell_type": "code",
   "execution_count": 16,
   "id": "79276f42-9a13-4c78-ad00-58d37a118ceb",
   "metadata": {},
   "outputs": [],
   "source": [
    "arr = [[1,2,3],[4,5,6],[7,8,9]] # --> [[9,1,2],[3,4,5],[6,7,8]]"
   ]
  },
  {
   "cell_type": "code",
   "execution_count": 20,
   "id": "e2b290ab-3225-46ed-b2d8-d1c46ec6168c",
   "metadata": {},
   "outputs": [
    {
     "ename": "TypeError",
     "evalue": "unsupported operand type(s) for +: 'int' and 'list'",
     "output_type": "error",
     "traceback": [
      "\u001b[0;31m---------------------------------------------------------------------------\u001b[0m",
      "\u001b[0;31mTypeError\u001b[0m                                 Traceback (most recent call last)",
      "Cell \u001b[0;32mIn [20], line 1\u001b[0m\n\u001b[0;32m----> 1\u001b[0m main_arr \u001b[38;5;241m=\u001b[39m \u001b[38;5;28;43msum\u001b[39;49m\u001b[43m(\u001b[49m\u001b[43marr\u001b[49m\u001b[43m)\u001b[49m\n",
      "\u001b[0;31mTypeError\u001b[0m: unsupported operand type(s) for +: 'int' and 'list'"
     ]
    }
   ],
   "source": [
    "main_arr = sum(arr)"
   ]
  },
  {
   "cell_type": "code",
   "execution_count": 17,
   "id": "3429b8dd-261a-478c-b779-88ac35f840ff",
   "metadata": {},
   "outputs": [],
   "source": [
    "main_arr = list()\n",
    "n = len(arr[0])\n",
    "\n",
    "for sub_arr in arr:\n",
    "    main_arr.extend(sub_arr)\n",
    "\n",
    "last_element = main_arr.pop()\n",
    "main_arr.insert(0, last_element)\n",
    "\n",
    "next_arr = list()\n",
    "for i in range(0, len(main_arr), n):\n",
    "    next_arr.append(\n",
    "        main_arr[i:i+n]\n",
    "    )\n",
    "\n",
    "\n"
   ]
  },
  {
   "cell_type": "code",
   "execution_count": 18,
   "id": "b5eec96d-9f10-4280-9691-6835c59f2ef9",
   "metadata": {},
   "outputs": [
    {
     "data": {
      "text/plain": [
       "[3, 4, 5]"
      ]
     },
     "execution_count": 18,
     "metadata": {},
     "output_type": "execute_result"
    }
   ],
   "source": [
    "main_arr[3:6]"
   ]
  },
  {
   "cell_type": "code",
   "execution_count": 19,
   "id": "2e8e3926-2e4e-4799-94c4-219d5bdaa209",
   "metadata": {},
   "outputs": [
    {
     "data": {
      "text/plain": [
       "[[9, 1, 2], [3, 4, 5], [6, 7, 8]]"
      ]
     },
     "execution_count": 19,
     "metadata": {},
     "output_type": "execute_result"
    }
   ],
   "source": [
    "next_arr"
   ]
  },
  {
   "cell_type": "code",
   "execution_count": null,
   "id": "8bed9664-e248-4e4a-9861-337227b0c694",
   "metadata": {},
   "outputs": [],
   "source": []
  }
 ],
 "metadata": {
  "kernelspec": {
   "display_name": "Python 3 (ipykernel)",
   "language": "python",
   "name": "python3"
  },
  "language_info": {
   "codemirror_mode": {
    "name": "ipython",
    "version": 3
   },
   "file_extension": ".py",
   "mimetype": "text/x-python",
   "name": "python",
   "nbconvert_exporter": "python",
   "pygments_lexer": "ipython3",
   "version": "3.8.10"
  }
 },
 "nbformat": 4,
 "nbformat_minor": 5
}
