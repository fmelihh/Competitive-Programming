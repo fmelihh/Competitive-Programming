{
 "cells": [
  {
   "cell_type": "code",
   "execution_count": 1,
   "id": "6b1d5aea-bccd-4c46-890c-f5d2f6fc5146",
   "metadata": {},
   "outputs": [],
   "source": [
    "# https://leetcode.com/problems/xor-operation-in-an-array/"
   ]
  },
  {
   "cell_type": "code",
   "execution_count": 28,
   "id": "050d8d29-7a85-4b6c-9757-0005fc375323",
   "metadata": {},
   "outputs": [],
   "source": [
    "class Solution:\n",
    "    def xorOperation(self, n: int, start: int) -> int:\n",
    "        total = 0\n",
    "        for i in range(n):\n",
    "            total = total ^ start + 2*i\n",
    "            \n",
    "                \n",
    "        return total"
   ]
  },
  {
   "cell_type": "code",
   "execution_count": 29,
   "id": "e129bb45-1055-4a6c-a5e4-b8dce0e904e5",
   "metadata": {},
   "outputs": [
    {
     "name": "stdout",
     "output_type": "stream",
     "text": [
      "3\n",
      "5\n",
      "7\n",
      "9\n"
     ]
    },
    {
     "data": {
      "text/plain": [
       "24"
      ]
     },
     "execution_count": 29,
     "metadata": {},
     "output_type": "execute_result"
    }
   ],
   "source": [
    "s = Solution()\n",
    "s.xorOperation(n=4,start=3)"
   ]
  },
  {
   "cell_type": "code",
   "execution_count": 7,
   "id": "0b3e3197-ced2-47e8-8e0c-eae4bc032b73",
   "metadata": {},
   "outputs": [],
   "source": [
    "arr = [0, 2, 4, 6, 8]\n",
    "x_or = arr[0]\n",
    "\n",
    "for a in arr[1:]:\n",
    "    x_or = x_or ^ a\n",
    "    "
   ]
  },
  {
   "cell_type": "code",
   "execution_count": 8,
   "id": "20530c5f-db1f-41c9-b180-899f84efef84",
   "metadata": {},
   "outputs": [
    {
     "data": {
      "text/plain": [
       "8"
      ]
     },
     "execution_count": 8,
     "metadata": {},
     "output_type": "execute_result"
    }
   ],
   "source": [
    "x_or"
   ]
  },
  {
   "cell_type": "code",
   "execution_count": 12,
   "id": "50ee84aa-d47f-451e-8783-5ec37d3498e4",
   "metadata": {},
   "outputs": [
    {
     "data": {
      "text/plain": [
       "5"
      ]
     },
     "execution_count": 12,
     "metadata": {},
     "output_type": "execute_result"
    }
   ],
   "source": [
    "1 ^ 4"
   ]
  },
  {
   "cell_type": "code",
   "execution_count": 15,
   "id": "f54b37fe-22eb-4029-9232-0e407a5b3264",
   "metadata": {},
   "outputs": [
    {
     "data": {
      "text/plain": [
       "63"
      ]
     },
     "execution_count": 15,
     "metadata": {},
     "output_type": "execute_result"
    }
   ],
   "source": [
    "sum(set([3,56,4]))"
   ]
  },
  {
   "cell_type": "code",
   "execution_count": 18,
   "id": "71460746-b87c-471b-916d-0555e6fd0878",
   "metadata": {},
   "outputs": [
    {
     "name": "stdout",
     "output_type": "stream",
     "text": [
      "2\n",
      "6\n",
      "0\n",
      "8\n"
     ]
    }
   ],
   "source": [
    "arr = [0, 2, 4, 6, 8]\n",
    "first = 0\n",
    "for i in arr[1: ]:\n",
    "    first = first ^ i\n",
    "    print(first)\n"
   ]
  },
  {
   "cell_type": "code",
   "execution_count": 21,
   "id": "7849cf78-30de-4c07-8030-c8e38745680d",
   "metadata": {},
   "outputs": [
    {
     "data": {
      "text/plain": [
       "True"
      ]
     },
     "execution_count": 21,
     "metadata": {},
     "output_type": "execute_result"
    }
   ],
   "source": [
    "2 in  [0, 2, 4, 6, 8]\n"
   ]
  },
  {
   "cell_type": "code",
   "execution_count": null,
   "id": "653e9b09-12d4-4e5d-9ad1-853f868bebf1",
   "metadata": {},
   "outputs": [],
   "source": []
  }
 ],
 "metadata": {
  "kernelspec": {
   "display_name": "Python 3 (ipykernel)",
   "language": "python",
   "name": "python3"
  },
  "language_info": {
   "codemirror_mode": {
    "name": "ipython",
    "version": 3
   },
   "file_extension": ".py",
   "mimetype": "text/x-python",
   "name": "python",
   "nbconvert_exporter": "python",
   "pygments_lexer": "ipython3",
   "version": "3.8.10"
  }
 },
 "nbformat": 4,
 "nbformat_minor": 5
}
