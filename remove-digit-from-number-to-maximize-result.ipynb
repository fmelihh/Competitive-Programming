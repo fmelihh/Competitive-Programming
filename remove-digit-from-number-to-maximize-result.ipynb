{
 "cells": [
  {
   "cell_type": "code",
   "execution_count": 12,
   "id": "b2afb7b7-e615-4ed2-b8fd-8d411b3179ee",
   "metadata": {},
   "outputs": [],
   "source": [
    "class Solution:\n",
    "    def removeDigit(self, number: str, digit: str) -> str:\n",
    "        max_val = \"\"\n",
    "        for i, character in enumerate(number):\n",
    "            if (character == digit):\n",
    "                val =  number[0:i] + number[i + 1:]\n",
    "                print(number[0:i], number[i:])\n",
    "                if val > max_val:\n",
    "                    max_val =  val\n",
    "        \n",
    "        return max_val\n",
    "        "
   ]
  },
  {
   "cell_type": "code",
   "execution_count": 13,
   "id": "332ccaaf-a4cd-4f6c-9c69-b032fd9a8677",
   "metadata": {},
   "outputs": [
    {
     "name": "stdout",
     "output_type": "stream",
     "text": [
      "12 3\n"
     ]
    },
    {
     "data": {
      "text/plain": [
       "'12'"
      ]
     },
     "execution_count": 13,
     "metadata": {},
     "output_type": "execute_result"
    }
   ],
   "source": [
    "s = Solution()\n",
    "s.removeDigit(number=\"123\", digit=\"3\")"
   ]
  },
  {
   "cell_type": "code",
   "execution_count": null,
   "id": "c2410c67-eddf-4776-86e5-6bd504fb7950",
   "metadata": {},
   "outputs": [],
   "source": []
  },
  {
   "cell_type": "code",
   "execution_count": 7,
   "id": "4431db32-3269-4eaf-8cdf-ff919ca4462f",
   "metadata": {},
   "outputs": [
    {
     "data": {
      "text/plain": [
       "True"
      ]
     },
     "execution_count": 7,
     "metadata": {},
     "output_type": "execute_result"
    }
   ],
   "source": [
    "\"123\" >  \"\""
   ]
  },
  {
   "cell_type": "code",
   "execution_count": null,
   "id": "5ef50100-8bff-4892-bb09-cd7ba99ea476",
   "metadata": {},
   "outputs": [],
   "source": []
  }
 ],
 "metadata": {
  "kernelspec": {
   "display_name": "Python 3 (ipykernel)",
   "language": "python",
   "name": "python3"
  },
  "language_info": {
   "codemirror_mode": {
    "name": "ipython",
    "version": 3
   },
   "file_extension": ".py",
   "mimetype": "text/x-python",
   "name": "python",
   "nbconvert_exporter": "python",
   "pygments_lexer": "ipython3",
   "version": "3.8.10"
  }
 },
 "nbformat": 4,
 "nbformat_minor": 5
}
