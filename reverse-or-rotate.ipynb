{
 "cells": [
  {
   "cell_type": "code",
   "execution_count": 1,
   "id": "0aa330ee-c685-49cd-8d8b-b51d5ce4e240",
   "metadata": {},
   "outputs": [],
   "source": [
    "# https://www.codewars.com/kata/56b5afb4ed1f6d5fb0000991/train/python"
   ]
  },
  {
   "cell_type": "code",
   "execution_count": 52,
   "id": "9563f7a1-86f6-47fd-ba47-26290d0c0d16",
   "metadata": {},
   "outputs": [],
   "source": [
    "import math\n",
    "\n",
    "def rev_rot(strng: str, sz: int):\n",
    "    \n",
    "    if sz < 1:\n",
    "        return \"\"\n",
    "    \n",
    "    chunks = []\n",
    "    first_index = 0\n",
    "    last_index = sz\n",
    "    \n",
    "    for _ in range(math.ceil(len(strng) / sz)):\n",
    "        if len(strng) >= last_index:\n",
    "            sub_text = strng[first_index:last_index]\n",
    "            first_index, last_index = last_index, (last_index + sz)\n",
    "        else:\n",
    "            sub_text = strng[first_index:]\n",
    "        \n",
    "        if len(sub_text) == sz:\n",
    "            evaluated_sub_str = evaluate_chunked_str(sub_text)\n",
    "            chunks.append(evaluated_sub_str)\n",
    "\n",
    "    return ''.join(chunks)\n",
    "\n",
    "def evaluate_chunked_str(sub_text: str):\n",
    "    if len(sub_text) < 2:\n",
    "        return \"\"\n",
    "    \n",
    "    total = 0\n",
    "    for number in sub_text:\n",
    "        total += int(number)\n",
    "    \n",
    "    if total % 2 == 0:\n",
    "        return sub_text[::-1]\n",
    "    \n",
    "    return sub_text[1:] + sub_text[0] \n",
    "    \n"
   ]
  },
  {
   "cell_type": "code",
   "execution_count": 24,
   "id": "6bfc6330-4753-4c0b-8336-0f500b0a3f55",
   "metadata": {},
   "outputs": [
    {
     "data": {
      "text/plain": [
       "'234561876549'"
      ]
     },
     "execution_count": 24,
     "metadata": {},
     "output_type": "execute_result"
    }
   ],
   "source": [
    "rev_rot(\"123456987654\", 6)"
   ]
  },
  {
   "cell_type": "code",
   "execution_count": 25,
   "id": "c4ffc32b-e813-4fde-902f-95a3fadc6467",
   "metadata": {},
   "outputs": [
    {
     "data": {
      "text/plain": [
       "'234561356789'"
      ]
     },
     "execution_count": 25,
     "metadata": {},
     "output_type": "execute_result"
    }
   ],
   "source": [
    "rev_rot(\"123456987653\", 6)"
   ]
  },
  {
   "cell_type": "code",
   "execution_count": 26,
   "id": "5e2cab1f-e853-4d73-b9a8-c633c0e962f1",
   "metadata": {},
   "outputs": [
    {
     "data": {
      "text/plain": [
       "'44668753'"
      ]
     },
     "execution_count": 26,
     "metadata": {},
     "output_type": "execute_result"
    }
   ],
   "source": [
    "rev_rot(\"66443875\", 4)"
   ]
  },
  {
   "cell_type": "code",
   "execution_count": 42,
   "id": "f0b1aafa-90a9-4e31-aa3d-f552a49b91eb",
   "metadata": {},
   "outputs": [
    {
     "data": {
      "text/plain": [
       "'67834466'"
      ]
     },
     "execution_count": 42,
     "metadata": {},
     "output_type": "execute_result"
    }
   ],
   "source": [
    "rev_rot(\"664438769\", 8)"
   ]
  },
  {
   "cell_type": "code",
   "execution_count": 39,
   "id": "2c3d5c39-d74f-4b5c-a198-93209851850b",
   "metadata": {},
   "outputs": [
    {
     "data": {
      "text/plain": [
       "''"
      ]
     },
     "execution_count": 39,
     "metadata": {},
     "output_type": "execute_result"
    }
   ],
   "source": [
    "evaluate_chunked_str('9')"
   ]
  },
  {
   "cell_type": "code",
   "execution_count": 46,
   "id": "dca64c17-54b1-41bc-bbe8-b843eb9fbdd4",
   "metadata": {},
   "outputs": [
    {
     "data": {
      "text/plain": [
       "''"
      ]
     },
     "execution_count": 46,
     "metadata": {},
     "output_type": "execute_result"
    }
   ],
   "source": [
    "rev_rot(\"123456779\", 0)"
   ]
  },
  {
   "cell_type": "code",
   "execution_count": 53,
   "id": "b62d1848-150e-40ef-bda4-e4a0f3c3c7a5",
   "metadata": {},
   "outputs": [
    {
     "data": {
      "text/plain": [
       "['0365', '0650', '7345', '6944']"
      ]
     },
     "execution_count": 53,
     "metadata": {},
     "output_type": "execute_result"
    }
   ],
   "source": [
    "rev_rot(\"563000655734469485\", 4)"
   ]
  },
  {
   "cell_type": "code",
   "execution_count": null,
   "id": "9ed0c253-db01-4fa4-b105-a905634a7ef4",
   "metadata": {},
   "outputs": [],
   "source": []
  }
 ],
 "metadata": {
  "kernelspec": {
   "display_name": "Python 3 (ipykernel)",
   "language": "python",
   "name": "python3"
  },
  "language_info": {
   "codemirror_mode": {
    "name": "ipython",
    "version": 3
   },
   "file_extension": ".py",
   "mimetype": "text/x-python",
   "name": "python",
   "nbconvert_exporter": "python",
   "pygments_lexer": "ipython3",
   "version": "3.8.10"
  }
 },
 "nbformat": 4,
 "nbformat_minor": 5
}
